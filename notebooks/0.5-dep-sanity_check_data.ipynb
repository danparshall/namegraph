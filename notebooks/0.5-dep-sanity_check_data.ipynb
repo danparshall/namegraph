{
 "cells": [
  {
   "cell_type": "code",
   "execution_count": null,
   "source": [
    "%matplotlib notebook\n",
    "\n",
    "import math\n",
    "import pandas as pd\n",
    "import numpy as np\n",
    "import datetime as dt\n",
    "import matplotlib.pyplot as plt\n",
    "import re\n",
    "import datetime as dt\n",
    "\n",
    "import unidecode\n",
    "\n",
    "# enable progress bar on long operations\n",
    "from tqdm.auto import tqdm\n",
    "tqdm.pandas()\n",
    "\n",
    "from collections import Counter"
   ],
   "outputs": [],
   "metadata": {}
  },
  {
   "cell_type": "code",
   "execution_count": null,
   "source": [
    "today = pd.datetime.now().strftime(\"%Y%m%d\")\n",
    "today"
   ],
   "outputs": [],
   "metadata": {}
  },
  {
   "cell_type": "code",
   "execution_count": null,
   "source": [
    "%%time\n",
    "\n",
    "nan_values = ['-1.#IND', '1.#QNAN', '1.#IND', '-1.#QNAN', '#N/A N/A', '#N/A', 'N/A', 'n/a', # 'NA' is sometimes name\n",
    "              '<NA>', '#NA', 'NULL', 'null', 'NaN', '-NaN', 'nan', '-nan', '']\n",
    "\n",
    "dtypes_rciv = {\n",
    "        'NUMERO_CEDULA': str,\n",
    "        'NOMBRES_APELLIDOS': str,\n",
    "        'GENERO': 'category',\n",
    "        'FECHA_NACIMIENTO': str,\n",
    "        'ESTADO_CIVIL': 'category',\n",
    "        'NACIONALIDAD': 'category',\n",
    "        'NOMBRES_APELLIDOS_CONYUGUE': str,\n",
    "        'FECHA_DEFUNCION': str,\n",
    "        'NUMERO_CEDULA_ORIGINAL': str,\n",
    "        'DIGITO_VERIFICADOR': str,\n",
    "        'DESCRIPCION_ESTADO_CIVIL': 'category',\n",
    "        'CODIGO_CIUDADANIA': str,\n",
    "        'DIA_NACIMIENTO': int,\n",
    "        'MES_NACIMIENTO': int,\n",
    "        'ANIO_NACIMIENTO': int,\n",
    "        'CODIGO_LUGAR_NACIMTO_ORIGINAL': str,\n",
    "        'CODIGO_LUGAR_NACIMIENTO': str,\n",
    "        'CODIGO_INSTRUCCION': str,\n",
    "        'CODIGO_PROFESION': str,\n",
    "        'NOMBRES_PADRE': str,\n",
    "        'CODIGO_NACIONALIDAD_PADRE': 'category',\n",
    "        'NOMBRES_MADRE': str,\n",
    "        'CODIGO_NACIONALIDAD_MADRE': 'category',\n",
    "        'DIA_MATRIMONIO': float,\n",
    "        'MES_MATRIMONIO': float,\n",
    "        'ANIO_MATRIMONIO': float,\n",
    "        'DIA_FALLECIMIENTO': float,\n",
    "        'MES_FALLECIMIENTO': float,\n",
    "        'ANIO_FALLECIMIENTO': float,\n",
    "        'NUMERO_CEDULA_CONYUGE': str,\n",
    "        'NUMERO_CEDULA_MADRE': str,\n",
    "        'NUMERO_CEDULA_PADRE': str,\n",
    "        'GENERO_LEY': str,\n",
    "        'FECHA_INSC_GENERO': str,\n",
    "        'COD_PARR_INSC_GENERO': str,\n",
    "    }\n",
    "\n",
    "usecols_rciv = [\n",
    "    'NUMERO_CEDULA', 'NOMBRES_APELLIDOS', 'GENERO', 'FECHA_NACIMIENTO', \n",
    "#    'ESTADO_CIVIL', \n",
    "    'NACIONALIDAD', \n",
    "    'NOMBRES_APELLIDOS_CONYUGUE', 'FECHA_DEFUNCION', 'NUMERO_CEDULA_ORIGINAL', \n",
    "#    'DIGITO_VERIFICADOR', \n",
    "    'DESCRIPCION_ESTADO_CIVIL', \n",
    "#    'CODIGO_CIUDADANIA', \n",
    "#    'DIA_NACIMIENTO', 'MES_NACIMIENTO', 'ANIO_NACIMIENTO', \n",
    "#    'CODIGO_LUGAR_NACIMTO_ORIGINAL', 'CODIGO_LUGAR_NACIMIENTO', 'CODIGO_INSTRUCCION', 'CODIGO_PROFESION', \n",
    "    'NOMBRES_PADRE', #'CODIGO_NACIONALIDAD_PADRE', \n",
    "    'NOMBRES_MADRE', #'CODIGO_NACIONALIDAD_MADRE', \n",
    "    'DIA_MATRIMONIO', 'MES_MATRIMONIO', 'ANIO_MATRIMONIO', \n",
    "#    'DIA_FALLECIMIENTO', 'MES_FALLECIMIENTO', 'ANIO_FALLECIMIENTO', \n",
    "    'NUMERO_CEDULA_CONYUGE', 'NUMERO_CEDULA_MADRE', 'NUMERO_CEDULA_PADRE', \n",
    "#    'GENERO_LEY', 'FECHA_INSC_GENERO', 'COD_PARR_INSC_GENERO'\n",
    "]\n",
    "\n",
    "rf = pd.read_csv('s3://hobsons-datascience-sagemaker/dan/tmp/RCIVIL23082018.txt', sep='\\t', encoding='latin',\n",
    "                parse_dates=['FECHA_NACIMIENTO', 'FECHA_DEFUNCION'], dtype=dtypes_rciv, usecols=usecols_rciv,\n",
    "                 keep_default_na=False, na_values=nan_values,\n",
    "#                 nrows=1000000,\n",
    "                )\n",
    "rf.rename(columns={'NOMBRES_APELLIDOS':'nombre', 'NOMBRES_PADRE':'nombre_padre', 'NOMBRES_MADRE':'nombre_madre',\n",
    "                   'FECHA_NACIMIENTO':'dt_birth', 'FECHA_DEFUNCION':'dt_death', 'GENERO':'gender',\n",
    "                   'NUMERO_CEDULA':'cedula', 'NUMERO_CEDULA_ORIGINAL':'orig_cedula',\n",
    "                   'DESCRIPCION_ESTADO_CIVIL':'marital_status', 'NOMBRES_APELLIDOS_CONYUGUE':'nombre_spouse',\n",
    "                   \"NACIONALIDAD\":'nationality',\n",
    "                  },\n",
    "         inplace=True)\n",
    "print(\"# records loaded :\", len(rf))\n",
    "#"
   ],
   "outputs": [],
   "metadata": {}
  },
  {
   "cell_type": "code",
   "execution_count": 5,
   "source": [
    "# fix null Cedula data\n",
    "rf['ced_spouse'] = rf.NUMERO_CEDULA_CONYUGE.replace('0', \"\")\n",
    "rf['ced_padre'] = rf.NUMERO_CEDULA_PADRE.replace('0', \"\")\n",
    "rf['ced_madre'] = rf.NUMERO_CEDULA_MADRE.replace('0', \"\")\n",
    "\n",
    "rf.drop(columns=['NUMERO_CEDULA_CONYUGE', 'NUMERO_CEDULA_PADRE', 'NUMERO_CEDULA_MADRE'], inplace=True)"
   ],
   "outputs": [],
   "metadata": {}
  },
  {
   "cell_type": "markdown",
   "source": [
    "## Sanity-checks : dates"
   ],
   "metadata": {}
  },
  {
   "cell_type": "code",
   "execution_count": 6,
   "source": [
    "# this should require .loc[], right?  But it seems to be fine without...\n",
    "dt_mat = rf[rf.DIA_MATRIMONIO.notnull() & rf.MES_MATRIMONIO.notnull() & rf.ANIO_MATRIMONIO.notnull()]\n",
    "rf['dt_marriage'] = pd.to_datetime(dt_mat.ANIO_MATRIMONIO * 10000 \n",
    "                                   + dt_mat.MES_MATRIMONIO*100 + dt_mat.DIA_MATRIMONIO, format='%Y%m%d')\n",
    "\n",
    "# delete redundant date/time columns\n",
    "rf.drop(columns=['DIA_MATRIMONIO', 'MES_MATRIMONIO', 'ANIO_MATRIMONIO'], inplace=True)\n",
    "\n",
    "rf.loc[rf.dt_marriage >= dt.datetime(2019,1,1), 'dt_marriage'] = np.nan"
   ],
   "outputs": [],
   "metadata": {}
  },
  {
   "cell_type": "code",
   "execution_count": 7,
   "source": [
    "rf['dt_birth'] = pd.to_datetime(rf.dt_birth, errors='coerce')\n",
    "rf.loc[rf.dt_birth >= dt.datetime(2019,1,1), 'dt_birth'] = np.nan\n",
    "\n",
    "rf['dt_death'] = pd.to_datetime(rf.dt_death, errors='coerce')\n",
    "rf.loc[rf.dt_death >= dt.datetime(2019,1,1), 'dt_death'] = np.nan"
   ],
   "outputs": [],
   "metadata": {}
  },
  {
   "cell_type": "code",
   "execution_count": 8,
   "source": [
    "rf.loc[rf.dt_birth >= dt.datetime(2019,1,1), 'dt_birth'] = np.nan"
   ],
   "outputs": [],
   "metadata": {}
  },
  {
   "cell_type": "code",
   "execution_count": null,
   "source": [
    "rf.dtypes"
   ],
   "outputs": [],
   "metadata": {}
  },
  {
   "cell_type": "code",
   "execution_count": null,
   "source": [
    "f3, ax3 = plt.subplots()\n",
    "\n",
    "by_year = rf.groupby(rf.dt_birth.dt.year).cedula.count()\n",
    "\n",
    "ax3.plot(by_year.index, by_year);"
   ],
   "outputs": [],
   "metadata": {}
  },
  {
   "cell_type": "code",
   "execution_count": null,
   "source": [
    "fig4, ax4 = plt.subplots(figsize=(10,10))\n",
    "\n",
    "ax4.set_ylabel('year of birth');\n",
    "ax4.set_xlabel('year of death');\n",
    "\n",
    "sub = rf[rf.dt_birth.notnull() & rf.dt_death.notnull()].sample(frac=0.08)\n",
    "ax4.plot(sub.dt_death, sub.dt_birth, '.', alpha=0.1)"
   ],
   "outputs": [],
   "metadata": {}
  },
  {
   "cell_type": "code",
   "execution_count": null,
   "source": [
    "fig, ax = plt.subplots()\n",
    "\n",
    "byear = 1900\n",
    "death_years = rf[rf.dt_birth.dt.year == byear].groupby(rf.dt_death.dt.year).cedula.count()\n",
    "ax.plot(death_years.index, death_years, 'r--', label=str(byear));\n",
    "\n",
    "byear = 1901\n",
    "death_years = rf[rf.dt_birth.dt.year == byear].groupby(rf.dt_death.dt.year).cedula.count()\n",
    "ax.plot(death_years.index, death_years, 'b-', label=str(byear));\n",
    "\n",
    "byear = 1899\n",
    "death_years = rf[rf.dt_birth.dt.year == byear].groupby(rf.dt_death.dt.year).cedula.count()\n",
    "ax.plot(death_years.index, death_years, 'g:', label=str(byear));\n",
    "\n",
    "byear = 1902\n",
    "death_years = rf[rf.dt_birth.dt.year == byear].groupby(rf.dt_death.dt.year).cedula.count()\n",
    "ax.plot(death_years.index, death_years, 'm:', label=str(byear));\n",
    "\n",
    "ax.legend();"
   ],
   "outputs": [],
   "metadata": {
    "scrolled": false
   }
  },
  {
   "cell_type": "code",
   "execution_count": null,
   "source": [
    "print(\"# bad birth dates   : {0}\".format(rf.dt_birth.isnull().sum()))\n",
    "print(\"# time-travellers   : {0}\".format(len(rf[rf.dt_death < rf.dt_birth])))"
   ],
   "outputs": [],
   "metadata": {}
  },
  {
   "cell_type": "markdown",
   "source": [
    "## Sanity-checks : marriages"
   ],
   "metadata": {}
  },
  {
   "cell_type": "code",
   "execution_count": null,
   "source": [
    "print(\"# zombie unions     : {0}\".format(len(rf[rf.dt_marriage > rf.dt_death])))\n",
    "print(\"# firstborn pledged : {0}\".format(len(rf[(rf.dt_marriage.dt.year - rf.dt_birth.dt.year) < 10])))\n",
    "\n",
    "rf[rf.nombre_spouse.notnull() & ~rf.marital_status.isin({\"CASADO\", \"VIUDO\", \"UNION LIBRE\"})]   # 1k "
   ],
   "outputs": [],
   "metadata": {}
  },
  {
   "cell_type": "code",
   "execution_count": null,
   "source": [
    "fig, ax = plt.subplots(figsize=(9,9))\n",
    "\n",
    "ax.set_ylabel('year of birth')\n",
    "ax.set_xlabel('year of marriage')\n",
    "\n",
    "# guessing that age for marriage was changed to 18, law taking effect July 2015\n",
    "# BINGO: https://www.girlsnotbrides.org/child-marriage/ecuador/\n",
    "sub = rf[rf.dt_marriage.notnull()].sample(frac=0.1)\n",
    "ax.plot(sub.dt_marriage, sub.dt_birth, '.', alpha=0.1);"
   ],
   "outputs": [],
   "metadata": {}
  }
 ],
 "metadata": {
  "kernelspec": {
   "display_name": "conda_tensorflow_p36",
   "language": "python",
   "name": "conda_tensorflow_p36"
  },
  "language_info": {
   "codemirror_mode": {
    "name": "ipython",
    "version": 3
   },
   "file_extension": ".py",
   "mimetype": "text/x-python",
   "name": "python",
   "nbconvert_exporter": "python",
   "pygments_lexer": "ipython3",
   "version": "3.6.10"
  }
 },
 "nbformat": 4,
 "nbformat_minor": 4
}