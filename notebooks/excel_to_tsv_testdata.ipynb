{
 "cells": [
  {
   "cell_type": "code",
   "execution_count": null,
   "metadata": {},
   "outputs": [],
   "source": [
    "import pandas as pd\n",
    "\n",
    "\"\"\"\n",
    "Automize the transformation of xlsx to tsv for the testdata\n",
    "\n",
    "It contains the columns types, the input and output paths and the transformation process.\n",
    "\"\"\"\n",
    "\n",
    "file = \"surname.xlsx\"\n",
    "\n",
    "path = \"../data/testdata/\" + file\n",
    "\n",
    "_date_cols = ['dt_birth', 'dt_death', 'dt_marriage']\n",
    "_dtypes_reg = {'cedula': str, 'nombre': str, 'gender': 'category',\n",
    "               'marital_status': 'category', 'place_birth': str,\n",
    "               'nombre_spouse': str, 'nombre_padre': str, 'nombre_madre': str,\n",
    "               'ced_spouse': str, 'ced_padre': str, 'ced_madre': str,\n",
    "               'is_nat': bool, 'is_nat_padre': bool, 'is_nat_madre': bool\n",
    "               }\n",
    "_dtypes_surname = {'cedula': str, 'sur_padre': str, 'sur_madre': str, 'prenames': str,\n",
    "                   'has_padre': bool, 'is_plegal': bool, 'has_madre': bool, 'is_mlegal': bool,\n",
    "                   }\n",
    "\n",
    "\n",
    "if file == \"surname.xlsx\":\n",
    "    # conda install openpyxl and change engine\n",
    "    all_cases = pd.read_excel(path, dtype=_dtypes_surname, engine='openpyxl')\n",
    "    output_path = \"../data/testdata/02-simpsons_test_cases_surname.tsv\"\n",
    "elif file == \"all_cases.xlsx\":\n",
    "    all_cases = pd.read_excel(path, sheet_name='ALL_CASES_CLEAN',\n",
    "                              parse_dates=_date_cols, dtype=_dtypes_reg, engine='openpyxl')\n",
    "    output_path = \"../data/testdata/00-test_simpsons.tsv\"\n",
    "\n",
    "all_cases.to_csv(output_path, sep=\"\\t\", index=False)\n"
   ]
  }
 ],
 "metadata": {
  "interpreter": {
   "hash": "cced1986960fe3b129f0d210d1c871ce83f42220302c405c0426e934ac950470"
  },
  "kernelspec": {
   "display_name": "Python 3.9.4 64-bit ('py39': conda)",
   "language": "python",
   "name": "python3"
  },
  "language_info": {
   "codemirror_mode": {
    "name": "ipython",
    "version": 3
   },
   "file_extension": ".py",
   "mimetype": "text/x-python",
   "name": "python",
   "nbconvert_exporter": "python",
   "pygments_lexer": "ipython3",
   "version": "3.9.7"
  },
  "orig_nbformat": 4
 },
 "nbformat": 4,
 "nbformat_minor": 2
}
