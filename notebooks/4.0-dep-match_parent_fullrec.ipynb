{
 "cells": [
  {
   "cell_type": "markdown",
   "source": [
    "# Match parent (full recs)\n",
    "\n",
    "Here we handle a special case, but one surprisingly common: when the full parent name has been correctly recorded, in legal form.  Or even in the casual form, as long as all 4 name parts are there.  It adds around 2M matches (on top of the 10M that were provided originally).\n",
    "\n",
    "Among those where we have ground-truth, the error rate is < 0.2%.  Worth checking out the plots showing birthdates of parents relative to kids - there are some funky things that need to get fixed here.  But overall, this was high-yield, low effort."
   ],
   "metadata": {}
  },
  {
   "cell_type": "code",
   "execution_count": null,
   "source": [
    "%matplotlib notebook\n",
    "\n",
    "import math\n",
    "import pandas as pd\n",
    "import numpy as np\n",
    "import datetime as dt\n",
    "import matplotlib.pyplot as plt\n",
    "import re\n",
    "import datetime as dt\n",
    "\n",
    "import unidecode\n",
    "from fuzzywuzzy import fuzz    \n",
    "    \n",
    "# enable progress bar on long operations\n",
    "from tqdm.auto import tqdm\n",
    "tqdm.pandas()\n",
    "\n",
    "from collections import Counter"
   ],
   "outputs": [],
   "metadata": {}
  },
  {
   "cell_type": "code",
   "execution_count": 2,
   "source": [
    "full_run = False\n",
    "N_ROWS = None #1000000\n",
    "READ_DATE = '20200824'\n",
    "READ_DATE = '20201026'\n",
    "\n",
    "\n",
    "LOC_RAW = \"../data/raw/\"\n",
    "LOC_INTERIM = \"../data/interim/\"\n",
    "\n",
    "\n",
    "MIN_PARENT_AGE = 12 # I truly hope there aren't any parents this young"
   ],
   "outputs": [],
   "metadata": {}
  },
  {
   "cell_type": "code",
   "execution_count": null,
   "source": [
    "%%time\n",
    "nan_values = ['-1.#IND', '1.#QNAN', '1.#IND', '-1.#QNAN', '#N/A N/A', '#N/A', 'N/A', 'n/a', # 'NA' is sometimes name\n",
    "              '<NA>', '#NA', 'NULL', 'null', 'NaN', '-NaN', 'nan', '-nan', '']\n",
    "\n",
    "# read cleaned-up input file\n",
    "print(\"LOADING REG DATA FOR : \" + READ_DATE)\n",
    "dtypes_reg = {'cedula':str, 'nombre':str, 'gender':'category', 'nationality':'category', \n",
    "             'orig_cedula':str, 'marital_status':'category', \n",
    "              'nombre_spouse':str, 'nombre_padre':str, 'nombre_madre':str,\n",
    "              'ced_spouse':str, 'ced_padre':str, 'ced_madre':str\n",
    "             }\n",
    "\n",
    "usecols = ['cedula', 'dt_birth', 'dt_death', 'dt_marriage', 'nombre_spouse', 'ced_spouse', 'ced_padre', 'ced_madre']\n",
    "cols_reg = usecols[1:]\n",
    "rf = pd.read_csv(LOC_RAW + \"REG_NAMES_\" + READ_DATE + \".tsv\", sep='\\t', dtype=dtypes_reg,\n",
    "                 parse_dates=['dt_birth','dt_death','dt_marriage'], usecols=usecols,\n",
    "                 keep_default_na=False, na_values=nan_values,\n",
    "                 nrows=N_ROWS\n",
    "                )\n",
    "\n",
    "for col in ['nombre_spouse','ced_spouse','ced_madre','ced_padre']:\n",
    "    rf[col] = rf[col].fillna('')\n",
    "    \n",
    "print(\"Loaded {0} rows\".format(len(rf)))"
   ],
   "outputs": [],
   "metadata": {}
  },
  {
   "cell_type": "code",
   "execution_count": null,
   "source": [
    "%%time\n",
    "dtypes_names = {'cedula':str, 'sur_padre':str, 'sur_madre':str, 'prenames':str,\n",
    "               'has_padre':bool, 'has_madre':bool, 'is_plegal':bool, 'is_mlegal':bool\n",
    "               }\n",
    "\n",
    "loc_nf = LOC_INTERIM + \"names_cleaned_\" + READ_DATE + \".tsv\"\n",
    "print(\"Loading from\", loc_nf)\n",
    "nf = pd.read_csv(loc_nf, sep='\\t',\n",
    "                 dtype=dtypes_names,\n",
    "                 keep_default_na=False, na_values=nan_values,\n",
    "                nrows=N_ROWS\n",
    "                )\n",
    "print(\"# NF recs :\", len(nf))\n",
    "\n",
    "if True:\n",
    "    nf.loc[nf.sur_padre.isnull(), 'sur_padre'] = \"\"\n",
    "    nf.loc[nf.sur_madre.isnull(), 'sur_madre'] = \"\"\n",
    "    nf.loc[nf.prenames.isnull(), 'prenames'] = \"\"\n",
    "    nf['nlen_pre'] = nf.prenames.map(lambda x: len(x.split()))\n",
    "    nf['is_plegal'] = nf.is_plegal.map(lambda x: np.nan if x is np.nan else bool(x))\n",
    "    nf['is_mlegal'] = nf.is_mlegal.map(lambda x: np.nan if x is np.nan else bool(x))\n",
    "\n",
    "# ~90 sec"
   ],
   "outputs": [],
   "metadata": {}
  },
  {
   "cell_type": "code",
   "execution_count": null,
   "source": [
    "nf.is_plegal.sum()"
   ],
   "outputs": [],
   "metadata": {}
  },
  {
   "cell_type": "code",
   "execution_count": 9,
   "source": [
    "nf.drop(['n_char_nombre','n_char_prenames', 'nlen_pre'], axis=1, inplace=True)"
   ],
   "outputs": [],
   "metadata": {}
  },
  {
   "cell_type": "code",
   "execution_count": null,
   "source": [
    "nf.head()"
   ],
   "outputs": [],
   "metadata": {}
  },
  {
   "cell_type": "code",
   "execution_count": null,
   "source": [
    "(nf.has_padre & nf.has_madre & (nf.sur_padre != \"\") & (nf.sur_madre != \"\")).sum()"
   ],
   "outputs": [],
   "metadata": {}
  },
  {
   "cell_type": "code",
   "execution_count": null,
   "source": [
    "nf.is_plegal.value_counts()"
   ],
   "outputs": [],
   "metadata": {}
  },
  {
   "cell_type": "code",
   "execution_count": null,
   "source": [
    "\"\"\"\n",
    "year  pop (millions)\n",
    "1950  3.47\n",
    "1960  4.54\n",
    "1970  6.07\n",
    "1980  7.99\n",
    "1990 10.23\n",
    "2000 12.68\n",
    "2010 15.01\n",
    "2020 17.6 (est)\n",
    "\n",
    "\"\"\"\n",
    "\n",
    "for y in np.arange(1900,2021,10):\n",
    "    y_beg = dt.datetime(y-78,1,1)\n",
    "    y_end = dt.datetime(y,1,1)\n",
    "    print('{0} {1:>8}'.format(y, ((rf.dt_birth >= y_beg) & (rf.dt_birth < y_end) ).sum()))"
   ],
   "outputs": [],
   "metadata": {}
  },
  {
   "cell_type": "markdown",
   "source": [
    "## Load prenames from regular data"
   ],
   "metadata": {}
  },
  {
   "cell_type": "code",
   "execution_count": null,
   "source": [
    "%%time\n",
    "file_freq = LOC_INTERIM + \"NEWFREQFILE_\" + READ_DATE + \".tsv\"\n",
    "#file_freq = LOC_INTERIM + \"NEWFREQFILE_20200824.tsv\"\n",
    "\n",
    "freq = pd.read_csv(file_freq, sep='\\t', dtype=str)\n",
    "len(freq)"
   ],
   "outputs": [],
   "metadata": {}
  },
  {
   "cell_type": "code",
   "execution_count": null,
   "source": [],
   "outputs": [],
   "metadata": {}
  },
  {
   "cell_type": "code",
   "execution_count": 23,
   "source": [
    "def count_all_names(freq):\n",
    "    tmp = pd.concat([freq.sur_padre, freq.sur_madre], axis=0).value_counts()\n",
    "    count_sur = pd.DataFrame({'obsname':tmp.index, 'n_sur':tmp.values})\n",
    "    tmp = pd.concat([freq.pre1, freq.pre2], axis=0).value_counts()\n",
    "    count_pre = pd.DataFrame({'obsname':tmp.index, 'n_pre':tmp.values})\n",
    "\n",
    "    count_names = count_sur.merge(count_pre, on='obsname', how='outer')\n",
    "    count_names.fillna(0, inplace=True)\n",
    "\n",
    "    # add null record, so that null names get weight factor of 1\n",
    "    count_names.loc[count_names.obsname == \"\", ['n_sur','n_pre']] = 0\n",
    "\n",
    "    count_names['n_sur'] = count_names.n_sur + 0.5\n",
    "    count_names['n_pre'] = count_names.n_pre + 0.5\n",
    "\n",
    "    count_names['sratio'] = count_names.n_sur / count_names.n_pre\n",
    "    count_names['pratio'] = count_names.n_pre / count_names.n_sur\n",
    "    \n",
    "    return count_names"
   ],
   "outputs": [],
   "metadata": {}
  },
  {
   "cell_type": "code",
   "execution_count": null,
   "source": [
    "%%time\n",
    "ncounts = count_all_names(freq)"
   ],
   "outputs": [],
   "metadata": {}
  },
  {
   "cell_type": "markdown",
   "source": [
    "# Attempt matching"
   ],
   "metadata": {}
  },
  {
   "cell_type": "code",
   "execution_count": null,
   "source": [
    "%%time\n",
    "\n",
    "for col in cols_reg:\n",
    "    if col in nf.columns:\n",
    "        del nf[col]\n",
    "\n",
    "nf = nf.merge(rf, how='left', on='cedula')"
   ],
   "outputs": [],
   "metadata": {}
  },
  {
   "cell_type": "code",
   "execution_count": null,
   "source": [
    "nf.head()"
   ],
   "outputs": [],
   "metadata": {}
  },
  {
   "cell_type": "markdown",
   "source": [
    "## First try to match the exact names, in cases where we have all 4"
   ],
   "metadata": {}
  },
  {
   "cell_type": "code",
   "execution_count": 27,
   "source": [
    "obv_padres = nf[nf.has_padre & nf.is_plegal & (nf.nlen_padre == 4)][['cedula','nombre_padre']]\n",
    "obv_padres.rename(columns={'cedula':'ced_kid', 'nombre_padre':'nombre'}, inplace=True)\n",
    "\n",
    "obv_madres = nf[nf.has_madre & nf.is_mlegal & (nf.nlen_madre == 4)][['cedula','nombre_madre']]\n",
    "obv_madres.rename(columns={'cedula':'ced_kid', 'nombre_madre':'nombre'}, inplace=True)"
   ],
   "outputs": [],
   "metadata": {}
  },
  {
   "cell_type": "code",
   "execution_count": 28,
   "source": [
    "clean_pads = nf[['nombre','cedula', 'dt_birth']].merge(obv_padres, on='nombre')\n",
    "clean_pads.rename(columns={'cedula':'ced_pad', 'ced_kid':'cedula', 'dt_birth':'dt_birth_padre'}, inplace=True)\n",
    "\n",
    "clean_mads = nf[['nombre','cedula', 'dt_birth']].merge(obv_madres, on='nombre')\n",
    "clean_mads.rename(columns={'cedula':'ced_mad', 'ced_kid':'cedula', 'dt_birth':'dt_birth_madre'}, inplace=True)"
   ],
   "outputs": [],
   "metadata": {}
  },
  {
   "cell_type": "code",
   "execution_count": null,
   "source": [
    "len(clean_pads)"
   ],
   "outputs": [],
   "metadata": {}
  },
  {
   "cell_type": "code",
   "execution_count": null,
   "source": [
    "len(obv_padres)"
   ],
   "outputs": [],
   "metadata": {}
  },
  {
   "cell_type": "code",
   "execution_count": null,
   "source": [
    "ceds_nopad = set(obv_padres.ced_kid) - set(clean_pads.cedula)\n",
    "len(ceds_nopad)"
   ],
   "outputs": [],
   "metadata": {}
  },
  {
   "cell_type": "code",
   "execution_count": null,
   "source": [
    "fig, ax = plt.subplots(figsize=(9,6))\n",
    "\n",
    "ax.hist(nf[nf.cedula.isin(set(obv_padres.ced_kid))].dt_birth.dt.year, \n",
    "        bins=np.arange(1920,2020), color='b', alpha=0.4, label='padre has 4 names');\n",
    "ax.hist(nf[nf.cedula.isin(ceds_nopad)].dt_birth.dt.year, \n",
    "        bins=np.arange(1920,2020), color='r', alpha=0.4, label='padre has 4 names, but not matched');\n",
    "\n",
    "ax.set(xlabel='year of birth', ylabel='number of citizens')\n",
    "ax.legend()\n"
   ],
   "outputs": [],
   "metadata": {}
  },
  {
   "cell_type": "code",
   "execution_count": null,
   "source": [
    "fig, ax = plt.subplots(figsize=(9,6))\n",
    "\n",
    "ax.hist(nf[~nf.cedula.isin(ceds_nopad)].dt_birth.dt.year, bins=np.arange(1920,2020), color='b', alpha=0.4);\n",
    "ax.hist(nf[nf.cedula.isin(ceds_nopad)].dt_birth.dt.year, bins=np.arange(1920,2020), color='r', alpha=0.4);\n"
   ],
   "outputs": [],
   "metadata": {}
  },
  {
   "cell_type": "code",
   "execution_count": null,
   "source": [
    "%%time\n",
    "whoa_papa = nf.merge(clean_pads[['cedula','ced_pad', 'dt_birth_padre']], how='left', on='cedula')\n",
    "print(\"# poss padre recs :\", len(whoa_papa))\n",
    "\n",
    "whoa_mama = nf.merge(clean_mads[['cedula','ced_mad', 'dt_birth_madre']], how='left', on='cedula')\n",
    "print(\"# poss madre recs :\", len(whoa_mama))\n",
    "\n",
    "# 2 mins"
   ],
   "outputs": [],
   "metadata": {}
  },
  {
   "cell_type": "code",
   "execution_count": null,
   "source": [
    "valid_matched_padres = whoa_papa[~whoa_papa.duplicated(['cedula'],keep=False) \n",
    "                           & (whoa_papa.ced_pad.notnull())\n",
    "                          & (whoa_papa.dt_birth > whoa_papa.dt_birth_padre + dt.timedelta(365.26 * MIN_PARENT_AGE))\n",
    "                          ]\n",
    "len(valid_matched_padres)"
   ],
   "outputs": [],
   "metadata": {}
  },
  {
   "cell_type": "code",
   "execution_count": null,
   "source": [
    "valid_matched_madres = whoa_mama[~whoa_mama.duplicated(['cedula'],keep=False) \n",
    "                           & (whoa_mama.ced_mad.notnull())\n",
    "                          & (whoa_mama.dt_birth > whoa_mama.dt_birth_madre + dt.timedelta(365.26 * MIN_PARENT_AGE))\n",
    "                          ]\n"
   ],
   "outputs": [],
   "metadata": {}
  },
  {
   "cell_type": "code",
   "execution_count": null,
   "source": [],
   "outputs": [],
   "metadata": {}
  },
  {
   "cell_type": "code",
   "execution_count": null,
   "source": [
    "whoa_papa[whoa_papa.cedula.duplicated(keep=False)\n",
    "         & (whoa_papa.dt_birth > whoa_papa.dt_birth_padre + dt.timedelta(365.26 * MIN_PARENT_AGE))\n",
    "         ].sort_values('cedula')"
   ],
   "outputs": [],
   "metadata": {}
  },
  {
   "cell_type": "code",
   "execution_count": null,
   "source": [],
   "outputs": [],
   "metadata": {}
  },
  {
   "cell_type": "code",
   "execution_count": null,
   "source": [
    "matched_padres = whoa_papa[~whoa_papa.duplicated(['cedula'],keep=False) \n",
    "                           & (whoa_papa.ced_pad.notnull())\n",
    "#                          & (whoa_papa.dt_birth > whoa_papa.dt_birth_padre + dt.timedelta(365.26 * MIN_PARENT_AGE))\n",
    "                          ]\n",
    "len(matched_padres)"
   ],
   "outputs": [],
   "metadata": {}
  },
  {
   "cell_type": "code",
   "execution_count": null,
   "source": [
    "matched_madres = whoa_mama[~whoa_mama.duplicated(['cedula'],keep=False) \n",
    "                           & (whoa_mama.ced_mad.notnull())\n",
    "#                          & (whoa_mama.dt_birth > whoa_mama.dt_birth_madre + dt.timedelta(365.26 * MIN_PARENT_AGE))\n",
    "                          ]\n",
    "len(matched_madres)"
   ],
   "outputs": [],
   "metadata": {}
  },
  {
   "cell_type": "code",
   "execution_count": null,
   "source": [],
   "outputs": [],
   "metadata": {}
  },
  {
   "cell_type": "code",
   "execution_count": null,
   "source": [
    "n_official = (valid_matched_padres.ced_padre != \"\").sum()\n",
    "n_official"
   ],
   "outputs": [],
   "metadata": {}
  },
  {
   "cell_type": "code",
   "execution_count": null,
   "source": [
    "errors = valid_matched_padres[(valid_matched_padres.ced_padre != valid_matched_padres.ced_pad)\n",
    "                            & (valid_matched_padres.ced_padre != \"\")\n",
    "                                ]\n",
    "len(errors)"
   ],
   "outputs": [],
   "metadata": {}
  },
  {
   "cell_type": "code",
   "execution_count": null,
   "source": [
    "len(errors)/n_official"
   ],
   "outputs": [],
   "metadata": {}
  },
  {
   "cell_type": "markdown",
   "source": [
    "## Now invert 4-token names that aren't in legal form"
   ],
   "metadata": {}
  },
  {
   "cell_type": "code",
   "execution_count": null,
   "source": [
    "%%time\n",
    "inv_padres = nf[nf.has_padre & ~nf.is_plegal & (nf.nlen_padre == 4)][['cedula','nombre_padre']]\n",
    "inv_padres.rename(columns={'cedula':'ced_kid', 'nombre_padre':'nombre_normform'}, inplace=True)\n",
    "\n",
    "inv_madres = nf[nf.has_madre & ~nf.is_mlegal & (nf.nlen_madre == 4)][['cedula','nombre_madre']]\n",
    "inv_madres.rename(columns={'cedula':'ced_kid', 'nombre_madre':'nombre_normform'}, inplace=True)"
   ],
   "outputs": [],
   "metadata": {}
  },
  {
   "cell_type": "code",
   "execution_count": 73,
   "source": [
    "inv_padres['nombre'] = inv_padres.nombre_normform.map(lambda x: ' '.join(x.split()[2:] + x.split()[:2]))\n",
    "inv_madres['nombre'] = inv_madres.nombre_normform.map(lambda x: ' '.join(x.split()[2:] + x.split()[:2]))"
   ],
   "outputs": [],
   "metadata": {}
  },
  {
   "cell_type": "code",
   "execution_count": null,
   "source": [
    "inv_padres.head()"
   ],
   "outputs": [],
   "metadata": {}
  },
  {
   "cell_type": "code",
   "execution_count": null,
   "source": [
    "%%time\n",
    "flipped_pads = nf[['nombre','cedula', 'dt_birth']].merge(inv_padres[['ced_kid','nombre']], on='nombre')\n",
    "flipped_pads.rename(columns={'cedula':'ced_pad', 'ced_kid':'cedula', 'dt_birth':'dt_birth_padre'}, inplace=True)\n",
    "\n",
    "flipped_mads = nf[['nombre','cedula', 'dt_birth']].merge(inv_madres[['ced_kid','nombre']], on='nombre')\n",
    "flipped_mads.rename(columns={'cedula':'ced_mad', 'ced_kid':'cedula', 'dt_birth':'dt_birth_madre'}, inplace=True)"
   ],
   "outputs": [],
   "metadata": {}
  },
  {
   "cell_type": "code",
   "execution_count": null,
   "source": [
    "%%time\n",
    "wow_papa = nf.merge(flipped_pads[['cedula','ced_pad', 'dt_birth_padre']], how='left', on='cedula')\n",
    "print(\"# poss padre recs :\", len(wow_papa))\n",
    "\n",
    "wow_mama = nf.merge(flipped_mads[['cedula','ced_mad', 'dt_birth_madre']], how='left', on='cedula')\n",
    "print(\"# poss madre recs :\", len(wow_mama))\n",
    "\n",
    "# 2 mins"
   ],
   "outputs": [],
   "metadata": {}
  },
  {
   "cell_type": "code",
   "execution_count": null,
   "source": [
    "alternate_matched_padres = wow_papa[~wow_papa.duplicated(['cedula'],keep=False) \n",
    "                           & (wow_papa.ced_pad.notnull())\n",
    "                          & (wow_papa.dt_birth > wow_papa.dt_birth_padre + dt.timedelta(365.26 * MIN_PARENT_AGE))\n",
    "                          ]\n",
    "len(alternate_matched_padres)"
   ],
   "outputs": [],
   "metadata": {}
  },
  {
   "cell_type": "code",
   "execution_count": null,
   "source": [
    "alternate_matched_madres = wow_mama[~wow_mama.duplicated(['cedula'],keep=False) \n",
    "                           & (wow_mama.ced_mad.notnull())\n",
    "                          & (wow_mama.dt_birth > wow_mama.dt_birth_madre + dt.timedelta(365.26 * MIN_PARENT_AGE))\n",
    "                          ]\n",
    "len(alternate_matched_madres)"
   ],
   "outputs": [],
   "metadata": {}
  },
  {
   "cell_type": "code",
   "execution_count": null,
   "source": [
    "alternate_matched_madres.head()"
   ],
   "outputs": [],
   "metadata": {}
  },
  {
   "cell_type": "markdown",
   "source": [
    "# Combine matched frames, save to disk"
   ],
   "metadata": {}
  },
  {
   "cell_type": "code",
   "execution_count": null,
   "source": [
    "p1 = valid_matched_padres[['cedula', 'ced_padre', 'ced_pad']\n",
    "                    ].rename(columns={'ced_pad':'padre_matched', 'ced_padre':'padre_official'})\n",
    "\n",
    "p2 = alternate_matched_padres[['cedula', 'ced_padre', 'ced_pad']\n",
    "                    ].rename(columns={'ced_pad':'padre_matched', 'ced_padre':'padre_official'})\n",
    "\n",
    "dp = pd.concat([p1, p2], axis=0)\n",
    "len(dp)"
   ],
   "outputs": [],
   "metadata": {}
  },
  {
   "cell_type": "code",
   "execution_count": null,
   "source": [
    "m1 = valid_matched_madres[['cedula', 'ced_madre', 'ced_mad']\n",
    "                    ].rename(columns={'ced_mad':'madre_matched', 'ced_madre':'madre_official'})\n",
    "\n",
    "m2 = alternate_matched_madres[['cedula', 'ced_madre', 'ced_mad']\n",
    "                    ].rename(columns={'ced_mad':'madre_matched', 'ced_madre':'madre_official'})\n",
    "\n",
    "dm = pd.concat([m1, m2], axis=0)\n",
    "len(dm)"
   ],
   "outputs": [],
   "metadata": {}
  },
  {
   "cell_type": "code",
   "execution_count": 95,
   "source": [
    "dp.to_csv('../data/interim/matched_padres_' + READ_DATE + '.tsv', sep='\\t', index=False)"
   ],
   "outputs": [],
   "metadata": {}
  },
  {
   "cell_type": "code",
   "execution_count": 96,
   "source": [
    "dm.to_csv('../data/interim/matched_madres_' + READ_DATE + '.tsv', sep='\\t', index=False)"
   ],
   "outputs": [],
   "metadata": {}
  },
  {
   "cell_type": "markdown",
   "source": [
    "# Some plots"
   ],
   "metadata": {}
  },
  {
   "cell_type": "code",
   "execution_count": 55,
   "source": [
    "chk_pad = matched_padres[(matched_padres.ced_padre == matched_padres.ced_pad)]\n",
    "pad_age = (chk_pad.dt_birth - chk_pad.dt_birth_padre)\n",
    "pad_age = pad_age.dt.days /365.24"
   ],
   "outputs": [],
   "metadata": {}
  },
  {
   "cell_type": "code",
   "execution_count": 56,
   "source": [
    "chk_mad = matched_madres[(matched_madres.ced_madre == matched_madres.ced_mad)]\n",
    "mad_age = (chk_mad.dt_birth - chk_mad.dt_birth_madre)\n",
    "mad_age = mad_age.dt.days /365.24"
   ],
   "outputs": [],
   "metadata": {}
  },
  {
   "cell_type": "code",
   "execution_count": null,
   "source": [
    "fig, ax = plt.subplots(figsize=(9,6))\n",
    "\n",
    "# 99th % for age is 53.7 for men, 42.8 for women\n",
    "\n",
    "ax.set(yscale='log', xlabel=\"parent's age (at birth of child)\", ylabel=\"# of births\")\n",
    "ax.hist(pad_age, bins=np.arange(-100,100,1), alpha=0.3, color='b', label='padre age at birth');\n",
    "ax.hist(mad_age, bins=np.arange(-100,100,1), alpha=0.3, color='r', label='madre age at birth');\n",
    "ax.plot([MIN_PARENT_AGE, MIN_PARENT_AGE], [1, 500000], 'k--', alpha=0.3, label=\"Age \" + str(MIN_PARENT_AGE));\n",
    "ax.legend();"
   ],
   "outputs": [],
   "metadata": {
    "scrolled": false
   }
  },
  {
   "cell_type": "code",
   "execution_count": null,
   "source": [],
   "outputs": [],
   "metadata": {}
  },
  {
   "cell_type": "code",
   "execution_count": null,
   "source": [
    "NANOSEC_TO_YEAR = (365.2425 * 24 * 60 * 60 * 1e9)\n",
    "matched_padres['padre_age'] = (matched_padres.dt_birth - matched_padres.dt_birth_padre).values.astype(float)/NANOSEC_TO_YEAR"
   ],
   "outputs": [],
   "metadata": {}
  },
  {
   "cell_type": "code",
   "execution_count": null,
   "source": [
    "fig, ax = plt.subplots(figsize=(9,9))\n",
    "\n",
    "ax.set(xlabel=\"year of birth\", ylabel=\"age of padre\")\n",
    "\n",
    "sub = matched_padres #.sample(10000000)\n",
    "ax.plot(sub.dt_birth, sub.padre_age, '.', alpha=0.05);"
   ],
   "outputs": [],
   "metadata": {}
  },
  {
   "cell_type": "code",
   "execution_count": null,
   "source": [
    "alternate_matched_madres"
   ],
   "outputs": [],
   "metadata": {}
  },
  {
   "cell_type": "code",
   "execution_count": null,
   "source": [
    "maybe_papa = whoa_papa[whoa_papa.ced_pad.notnull() \n",
    "                     & (whoa_papa.ced_padre != \"\") \n",
    "                     & (whoa_papa.dt_birth > whoa_papa.dt_birth_padre + dt.timedelta(365.26 * MIN_PARENT_AGE))\n",
    "                    ]\n",
    "len(maybe_papa)"
   ],
   "outputs": [],
   "metadata": {}
  },
  {
   "cell_type": "code",
   "execution_count": null,
   "source": [
    "len(maybe_papa[maybe_papa.ced_pad != maybe_papa.ced_padre]) / len(maybe_papa)"
   ],
   "outputs": [],
   "metadata": {}
  },
  {
   "cell_type": "code",
   "execution_count": null,
   "source": [
    "maybe_papa[maybe_papa.ced_padre == maybe_papa.ced_pad]"
   ],
   "outputs": [],
   "metadata": {}
  },
  {
   "cell_type": "code",
   "execution_count": null,
   "source": [
    "maybe_mama = whoa_mama[whoa_mama.ced_mad.notnull() \n",
    "                     & (whoa_mama.ced_madre != \"\") \n",
    "                     & (whoa_mama.dt_birth > whoa_mama.dt_birth_madre + dt.timedelta(365.26 * MIN_PARENT_AGE))\n",
    "                    ]\n",
    "len(maybe_mama)"
   ],
   "outputs": [],
   "metadata": {}
  },
  {
   "cell_type": "code",
   "execution_count": null,
   "source": [
    "len(maybe_mama[maybe_mama.ced_mad != maybe_mama.ced_madre]) / len(maybe_mama)"
   ],
   "outputs": [],
   "metadata": {}
  },
  {
   "cell_type": "code",
   "execution_count": null,
   "source": [
    "maybe_papa[maybe_papa.ced_pad != maybe_papa.ced_padre].head()"
   ],
   "outputs": [],
   "metadata": {}
  },
  {
   "cell_type": "code",
   "execution_count": null,
   "source": [
    "bad_rec = maybe_papa[maybe_papa.ced_pad != maybe_papa.ced_padre].iloc[2]\n",
    "\n",
    "ceds_chk = {bad_rec.cedula, bad_rec.ced_padre, bad_rec.ced_pad}"
   ],
   "outputs": [],
   "metadata": {}
  },
  {
   "cell_type": "code",
   "execution_count": null,
   "source": [
    "fuzz.token_set_ratio('DEL_VALLE ROSA', 'ROSA BIENVENIDA DEL_VALLE RODRIGUEZ')"
   ],
   "outputs": [],
   "metadata": {}
  },
  {
   "cell_type": "code",
   "execution_count": null,
   "source": [
    "maybe_mama[maybe_mama.cedula == bad_rec.cedula]"
   ],
   "outputs": [],
   "metadata": {}
  },
  {
   "cell_type": "code",
   "execution_count": null,
   "source": [
    "%%time\n",
    "whoa = nf.merge(obv_padres.rename(columns={'cedula':'ced_kid', 'nombre_padre':'nombre'}), on='nombre')"
   ],
   "outputs": [],
   "metadata": {}
  },
  {
   "cell_type": "code",
   "execution_count": null,
   "source": [
    "padre_bothsur = padre_prenames[(padre_prenames.sur2 != \"\") & (nf.dt_birth >= dt.datetime(1960,1,1))]\n",
    "len(padre_bothsur)"
   ],
   "outputs": [],
   "metadata": {}
  },
  {
   "cell_type": "code",
   "execution_count": null,
   "source": [
    "targets = nf[nf.cedula.isin(set(padre_bothsur.cedula))]\n",
    "targets.head(8)"
   ],
   "outputs": [],
   "metadata": {}
  },
  {
   "cell_type": "code",
   "execution_count": null,
   "source": [
    "target = targets.iloc[1]\n",
    "target"
   ],
   "outputs": [],
   "metadata": {}
  },
  {
   "cell_type": "code",
   "execution_count": null,
   "source": [
    "target_padre = padre_prenames[padre_prenames.cedula == target.cedula].iloc[0]\n",
    "target_padre"
   ],
   "outputs": [],
   "metadata": {}
  },
  {
   "cell_type": "code",
   "execution_count": null,
   "source": [
    "padre_prenames.head()"
   ],
   "outputs": [],
   "metadata": {}
  },
  {
   "cell_type": "code",
   "execution_count": null,
   "source": [
    "len(whoa)"
   ],
   "outputs": [],
   "metadata": {}
  },
  {
   "cell_type": "code",
   "execution_count": null,
   "source": [
    "whoa = whoa.merge(rf, on='cedula', how='left', suffixes=('_pred', '_obs'))"
   ],
   "outputs": [],
   "metadata": {}
  },
  {
   "cell_type": "code",
   "execution_count": null,
   "source": [
    "whoa.sample(30)"
   ],
   "outputs": [],
   "metadata": {}
  },
  {
   "cell_type": "code",
   "execution_count": null,
   "source": [
    "nf.head()"
   ],
   "outputs": [],
   "metadata": {}
  },
  {
   "cell_type": "code",
   "execution_count": null,
   "source": [
    "sub_pad = nf[(nf.sur_padre == target_padre.sur1) & (nf.sur_madre == target_padre.sur2)\n",
    "             & (nf.gender == 1)\n",
    "            & (nf.dt_birth <= dt.datetime(target.dt_birth.year - 13, target.dt_birth.month, target.dt_birth.day))\n",
    "            ]\n",
    "sub_pad"
   ],
   "outputs": [],
   "metadata": {}
  },
  {
   "cell_type": "code",
   "execution_count": null,
   "source": [
    "subsub = sub_pad[sub_pad.prenames.map(lambda x : \"JOSE\" in x)\n",
    "               ]\n",
    "subsub"
   ],
   "outputs": [],
   "metadata": {}
  },
  {
   "cell_type": "code",
   "execution_count": null,
   "source": [
    "subsub[subsub.nombre_spouse.map(lambda x: target.sur_madre in x)]"
   ],
   "outputs": [],
   "metadata": {}
  },
  {
   "cell_type": "code",
   "execution_count": null,
   "source": [
    "%%time\n",
    "whoa_padre = nf[['cedula','nombre']].rename({'cedula':'ced_padre', 'nombre':'nombre_padre'}, axis=1\n",
    "                    ).merge(nf.loc[(nf.nlen_padre == 4), ['cedula', 'nombre_padre']], on='nombre_padre')\n",
    "print(\"# naive-matched padre :\", len(whoa_padre))"
   ],
   "outputs": [],
   "metadata": {}
  },
  {
   "cell_type": "code",
   "execution_count": null,
   "source": [
    "%%time\n",
    "whoa_madre = nf[['cedula','nombre']].rename({'cedula':'ced_madre', 'nombre':'nombre_madre'}, axis=1\n",
    "                    ).merge(nf.loc[(nf.nlen_padre == 4), ['cedula', 'nombre_madre']], on='nombre_madre')\n",
    "print(\"# naive-matched madre :\", len(whoa_padre))"
   ],
   "outputs": [],
   "metadata": {}
  }
 ],
 "metadata": {
  "kernelspec": {
   "display_name": "conda_tensorflow_p36",
   "language": "python",
   "name": "conda_tensorflow_p36"
  },
  "language_info": {
   "codemirror_mode": {
    "name": "ipython",
    "version": 3
   },
   "file_extension": ".py",
   "mimetype": "text/x-python",
   "name": "python",
   "nbconvert_exporter": "python",
   "pygments_lexer": "ipython3",
   "version": "3.6.10"
  }
 },
 "nbformat": 4,
 "nbformat_minor": 4
}