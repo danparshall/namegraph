{
 "cells": [
  {
   "cell_type": "markdown",
   "metadata": {},
   "source": [
    "# Extract and clean surnames\n",
    "\n",
    "The core insight is that each record contains the citizen's name, as well as a field for their padre's name, and another for their madre's name.  Those names are \"supposed\" to follow the legal format (sur1 sur2 pre1 pre2) but often don't.\n",
    "\n",
    "So while it's tricky to tell just from the citizen's record what tokens are their padre's surname and which are their madre's, we can make progress by comparing the fields.  We know that the citizen's name is always in the correct/legal form, so the first token *must* be part of the padre's surname.  Once the padre's name has been identified and removed, the remainder *must* start with the madre's surname.  Whatever remains is prenames (which also have to be separated out).\n",
    "\n",
    "This is complicated by several things.  Common offenders are multi-token names, when both parents have the same surname, and when the madre's first name is the same as the daughter's.  Likewise, common Catholic dedications can add some confusion.  \n",
    "\n",
    "These are made much easier by having underscores, so that multi-token names become a single token (e.g. a three-token name like `DE LA CRUZ` becomes the single-token `DE_LA_CRUZ`).  The core function here, `parse_fullrow()` was originally written before I'd started collapsing tokens.  There's some assumptions built in that are violated, so a second version has been tweaked to handle the underscores.\n",
    "\n",
    "Later data exploration found all kinds of weirdness.  People without an entry for father, or who had only the father's surname.  People without an entry for *mother*, although not sure how.  A handful of people whose names are in common form (pre1 pre2 sur1 sur2), even in the primary field.  Mis-spellings of the parent's surname (S/Z substitutions are especially common), or in some cases mis-spellings of the *citizen's* name (which then _becomes_ their name, and the name their children are stuck with).\n",
    "\n",
    "This notebook outputs several files; chief among them are:\n",
    "    - `NAMECOUNTS` - has every observed name, and the counts of when used as surname vs prename\n",
    "    - `ALLNAMES` - like the above, but has names both with spaces and with underscores\n",
    "    - `names_cleaned` - citizen names, along with extracted parent surnames, and some useful metadata\n",
    "    - `NEWFREQFILE` - Sorry, future me, it's a horrible filename; it's actually the parsed-out name of each citizen\n",
    "\n",
    "Because of data errors, I couldn only extract surnames for ~90% of citizens.  The other 2 million will have to get handled later."
   ]
  },
  {
   "cell_type": "code",
   "execution_count": null,
   "metadata": {},
   "outputs": [],
   "source": [
    "%matplotlib notebook\n",
    "\n",
    "import math\n",
    "import pandas as pd\n",
    "import numpy as np\n",
    "import datetime as dt\n",
    "import matplotlib.pyplot as plt\n",
    "import re\n",
    "import datetime as dt\n",
    "\n",
    "import unidecode\n",
    "from fuzzywuzzy import fuzz    \n",
    "    \n",
    "# enable progress bar on long operations\n",
    "from tqdm.auto import tqdm\n",
    "tqdm.pandas()\n",
    "\n",
    "from collections import Counter"
   ]
  },
  {
   "cell_type": "code",
   "execution_count": null,
   "metadata": {},
   "outputs": [],
   "source": [
    "full_run = True\n",
    "N_ROWS = None #100000\n",
    "READ_DATE = '20200919'\n",
    "READ_DATE = '20201026'\n",
    "\n",
    "\n",
    "LOC_RAW = \"../data/raw/\"\n",
    "LOC_INTERIM = \"../data/interim/\"\n",
    "\n",
    "TODAY = dt.datetime.now().strftime(\"%Y%m%d\")\n",
    "TODAY"
   ]
  },
  {
   "cell_type": "code",
   "execution_count": null,
   "metadata": {},
   "outputs": [],
   "source": [
    "%%time\n",
    "\n",
    "nan_values = ['-1.#IND', '1.#QNAN', '1.#IND', '-1.#QNAN', '#N/A N/A', '#N/A', 'N/A', 'n/a', # 'NA' is sometimes name\n",
    "              '<NA>', '#NA', 'NULL', 'null', 'NaN', '-NaN', 'nan', '-nan', '']\n",
    "\n",
    "dtypes_reg = {'cedula':str,\n",
    "                'nombre':str,\n",
    "                'gender':'category',\n",
    "                'dt_birth':str,\n",
    "                'nationality':'category',\n",
    "                'nombre_spouse':str,\n",
    "                'dt_death':str,\n",
    "                'orig_cedula':str,\n",
    "                'marital_status':'category',\n",
    "                'nombre_padre':str,\n",
    "                'nombre_madre':str,\n",
    "                'ced_spouse':str,\n",
    "                'ced_padre':str,\n",
    "                'ced_madre':str,\n",
    "                'dt_marriage':str,\n",
    "             }\n",
    "\n",
    "\n",
    "if True:\n",
    "    # read cleaned-up input file\n",
    "    print(\"LOADING REG DATA FOR : \" + READ_DATE)\n",
    "    dtypes_reg = {'cedula':str, 'nombre':str, 'gender':'category', 'nationality':'category', \n",
    "                 'orig_cedula':str, 'marital_status':'category', \n",
    "                  'nombre_spouse':str, 'nombre_padre':str, 'nombre_madre':str,\n",
    "                  'ced_spouse':str, 'ced_padre':str, 'ced_madre':str\n",
    "                 }\n",
    "    \n",
    "    rf = pd.read_csv(LOC_RAW + \"REG_NAMES_\" + READ_DATE + \".tsv\", sep='\\t', dtype=dtypes_reg,\n",
    "                     parse_dates=['dt_birth','dt_death','dt_marriage'],\n",
    "                     keep_default_na=False, na_values=nan_values,\n",
    "                     nrows=N_ROWS\n",
    "                    )\n",
    "    if \"index\" in rf.columns:\n",
    "        rf.drop(columns=['index'], inplace=True)\n",
    "\n",
    "        \n",
    "# replace NaN with empty string\n",
    "text_cols = ['nombre', 'nombre_spouse', 'nombre_padre', 'nombre_madre', 'ced_spouse', 'ced_padre', 'ced_madre']\n",
    "rf[text_cols] = rf[text_cols].fillna(\"\")\n",
    "\n",
    "print(\"# records loaded :\", len(rf))\n",
    "# 5 mins"
   ]
  },
  {
   "cell_type": "markdown",
   "metadata": {},
   "source": [
    "# Funcs to parse primary citizen row-by-row"
   ]
  },
  {
   "cell_type": "code",
   "execution_count": 5,
   "metadata": {},
   "outputs": [],
   "source": [
    "def check_nombre_doubling(nombre):\n",
    "    tokens = nombre.split()\n",
    "    num_parts = len(tokens)\n",
    "    if num_parts == len(set(tokens)):\n",
    "        # no possible doubling, use name as-is\n",
    "        return \"\"\n",
    "    \n",
    "    else:\n",
    "        # check for doublings, looking at both the front and the end of the string\n",
    "        surname = \"\"\n",
    "        for i in range(1, num_parts-1):\n",
    "            if tokens[:i] == tokens[i: 2*i]:\n",
    "                # legal form\n",
    "                surname = ' '.join(tokens[:i])\n",
    "                break\n",
    "            elif tokens[-i:] == tokens[-2*i:-i] :\n",
    "                # sequential form\n",
    "                surname = ' '.join(tokens[-i:])\n",
    "                break\n",
    "    return surname"
   ]
  },
  {
   "cell_type": "code",
   "execution_count": 6,
   "metadata": {},
   "outputs": [],
   "source": [
    "def get_substrings(nombre, START=0):\n",
    "    nlen = len(nombre)\n",
    "    n_max = nlen - START\n",
    "    for chunk_len in range(n_max, 0, -1):\n",
    "        n_subs = n_max - chunk_len + 1\n",
    "        for ind in range(0,n_subs):\n",
    "            sub = ' '.join(nombre[START+ind : ind+chunk_len])\n",
    "    \n",
    "            # only return a single-token substring if the length is at least 2 (avoids matching on \"DE\", etc)\n",
    "            if (chunk_len > 1) or (len(sub) > 2):\n",
    "                yield sub"
   ]
  },
  {
   "cell_type": "code",
   "execution_count": 7,
   "metadata": {},
   "outputs": [],
   "source": [
    "re_de_pre   = re.compile(r\"(^.*)\\s(DEL?\\s\\w+.*$)\")\n",
    "re_one_y_two = re.compile(r\"(^|\\s)\\w{2,} [IYE]{1} \\w{2,}(\\s|$)\")\n",
    "re_de_la_ao = re.compile(r\"(^|\\s)DE LA [AO]+(\\s|$)\")\n",
    "\n",
    "def parse_fullrow_ORIG(row):\n",
    "    # this was the version that worked before I started using underscores during initial cleanup.\n",
    "    # it also allows \"is_plegal\" and \"is_mlegal\" to have Null values (later version is strictly boolean)\n",
    "    \n",
    "    out = {'cedula':'', 'sur_padre':\"\", 'sur_madre':\"\", \"prenames\":\"\", \n",
    "            \"has_padre\":False, \"is_plegal\":None,\n",
    "            \"has_madre\":False, \"is_mlegal\":None}\n",
    "    out['cedula'] = row.cedula\n",
    "\n",
    "    if not row.nombre_padre and not row.nombre_madre:\n",
    "        return out\n",
    "\n",
    "    nombre = row.nombre\n",
    "    nomset = set(nombre.split())\n",
    "    madre = \"\"\n",
    "    padre = \"\"\n",
    "    prenames = \"\"\n",
    "    \n",
    "    # check if madre/padre have overlapping tokens (requires special handling)\n",
    "    mset = set(row.nombre_madre.split())\n",
    "    pset = set(row.nombre_padre.split())\n",
    "    both = pset & mset\n",
    "    flag_overlap = len(both) > 0\n",
    "\n",
    "    if flag_overlap:\n",
    "        surname = check_nombre_doubling(nombre)\n",
    "        if surname != \"\":\n",
    "            madre = surname\n",
    "            padre = surname\n",
    "        else:\n",
    "            for guess in get_substrings(row.nombre_madre.split()):\n",
    "                if (guess in nombre\n",
    "                and not nombre.endswith(guess) ):\n",
    "                    poss_padre = nombre.split(guess)[0].strip()\n",
    "                    poss_set = set(poss_padre.split())\n",
    "                    guess_set = set(guess.split())\n",
    "                    if (poss_padre in row.nombre_padre\n",
    "                        and not nombre.endswith(poss_padre) \n",
    "                        and poss_set.issubset(nomset) and poss_set.issubset(pset)\n",
    "                        and guess_set.issubset(nomset) and guess_set.issubset(mset)\n",
    "                        and poss_padre not in {'DE', 'LA', 'LOS', 'LAS', 'VAN', 'VON', 'DE LA', 'DEL'}\n",
    "                       ):\n",
    "                        padre = poss_padre\n",
    "                        madre = guess\n",
    "                        break\n",
    "\n",
    "\n",
    "    # if the overlap method wasn't successful, parse them separately\n",
    "    if not madre and not padre:\n",
    "        parts = nombre.split()\n",
    "        \n",
    "        #### FATHERS NAME ####\n",
    "        # start by trying the first LEN-1 tokens as a single name, then LEN-2 tokens, etc\n",
    "        # this matches longest chunk found, so it should pick up compound names like DE LA CRUZ\n",
    "        try:\n",
    "            if row.nombre_padre:\n",
    "                poss_padre = check_nombre_doubling(row.nombre_padre)\n",
    "                poss_pset = set(poss_padre.split())\n",
    "                if (poss_padre \n",
    "                and (poss_padre in row.nombre)\n",
    "                and not nombre.endswith(poss_padre) \n",
    "                and poss_pset.issubset(nomset)):\n",
    "                    padre = poss_padre\n",
    "                    parts = ''.join(nombre.split(padre, maxsplit=1)).strip().split()\n",
    "                else:\n",
    "                    # start by trying everything except the last element (always a prename), and work down\n",
    "                    for ind in range(len(parts)-1, 0, -1):\n",
    "                        guess = ' '.join(parts[:ind])\n",
    "                        poss_pset = set(guess.split())\n",
    "                        if ( (guess in row.nombre_padre) \n",
    "                            and poss_pset.issubset(nomset) and poss_pset.issubset(pset)\n",
    "                           ):\n",
    "                            # update before checking mother's name\n",
    "                            padre = guess\n",
    "                            parts = nombre.split(padre, maxsplit=1)[1].split()\n",
    "                            break\n",
    "        except:\n",
    "            out['sur_padre'] = \"WTF PADRE PROBLEM\"\n",
    "            return out\n",
    "\n",
    "        #### MOTHERS NAME ####\n",
    "        # having removed the padre name from the front of the string, try similar trick with the madre name\n",
    "        try:\n",
    "            if row.nombre_madre:\n",
    "                poss_madre = check_nombre_doubling(row.nombre_madre)\n",
    "                poss_mset = set(poss_madre.split())\n",
    "                if (poss_madre \n",
    "                and (poss_madre in row.nombre) \n",
    "                and not nombre.endswith(poss_madre) \n",
    "                and poss_mset.issubset(nomset) and poss_mset.issubset(mset)):\n",
    "                    madre = poss_madre\n",
    "                elif not madre:\n",
    "                    nombre_madre = row.nombre_madre\n",
    "                    \n",
    "                    if nombre_madre.startswith(parts[0]):\n",
    "                        # in legal form, so strike any catholic addons from both citizen and mother\n",
    "                        # complicated bc surnames like \"GOMEZ DE LA TORRE\" mean we have to skip the zeroth token\n",
    "                        m_de_pre_nombre = re_de_pre.match(' '.join(parts[1:]))\n",
    "                        if m_de_pre_nombre:\n",
    "                            # keep 'parts' as a list\n",
    "                            parts = parts[:1] + m_de_pre_nombre.group(1).split()\n",
    "\n",
    "                        mom_parts = nombre_madre.split()\n",
    "                        m_de_pre_madre = re_de_pre.match(' '.join(mom_parts[1:]))\n",
    "                        if m_de_pre_madre:\n",
    "                            # keep 'nombre_madre' as string\n",
    "                            nombre_madre = mom_parts[0] + \" \" + m_de_pre_madre.group(1)\n",
    "        #                print(\"mom :\", nombre_madre)\n",
    "\n",
    "                    for ind in range(len(parts)-1, 0, -1):\n",
    "                        guess = ' '.join(parts[:ind])\n",
    "                        poss_mset = set(guess.split())\n",
    "                        if ((guess in nombre_madre) \n",
    "                            and not nombre.endswith(guess) \n",
    "                            and poss_mset.issubset(nomset) and poss_mset.issubset(mset)):\n",
    "                            # now check which is the better fit\n",
    "                            if (guess == nombre_madre):\n",
    "                                # when madre is in short legal form and daughter has the same prename1\n",
    "                                # it can look like the mother's surname is \"GONZALEZ MARIA\", etc.  \n",
    "                                # So ignore these, ??? because we need to handle them later\n",
    "#                                print('skippit')\n",
    "                                pass\n",
    "                            else:\n",
    "                                madre = guess\n",
    "                                break\n",
    "    \n",
    "        except:\n",
    "            out['sur_madre'] = \"WTF MADRE PROBLEM\"\n",
    "            return out\n",
    "        \n",
    "    # get prenames explicitly, as remainder after removing prenames.\n",
    "    # this bypasses some funny stuff I have to do above\n",
    "    deduced_surnames = (padre + \" \" + madre).strip()\n",
    "    if deduced_surnames and row.nombre.startswith(deduced_surnames):\n",
    "        prenames = ''.join([x.strip() for x in row.nombre.split(deduced_surnames)])\n",
    "    else:\n",
    "        prenames = \"WTF SURNAME PROBLEM\"\n",
    "\n",
    "        \n",
    "    if padre:\n",
    "        out['has_padre'] = True\n",
    "        out['sur_padre'] = padre\n",
    "        out['is_plegal'] = row.nombre_padre.startswith(padre)\n",
    "    if madre:\n",
    "        out['has_madre'] = True\n",
    "        out['sur_madre'] = madre\n",
    "        out['is_mlegal'] = row.nombre_madre.startswith(madre)\n",
    "    out['prenames'] = prenames\n",
    "\n",
    "    return out"
   ]
  },
  {
   "cell_type": "code",
   "execution_count": 16,
   "metadata": {},
   "outputs": [],
   "source": [
    "re_de_pre_UNDERSCORE   = re.compile(r\"(^.*)\\s(DEL?_\\w+.*$)\")\n",
    "def parse_fullrow(row):\n",
    "    # updated function, which expects multi-token names to be handled already with underscores\n",
    "    \n",
    "    out = {'cedula':'', 'sur_padre':\"\", 'sur_madre':\"\", \"prenames\":\"\", \n",
    "            \"has_padre\":False, \"is_plegal\":False,\n",
    "            \"has_madre\":False, \"is_mlegal\":False}\n",
    "    out['cedula'] = row.cedula\n",
    "\n",
    "    if not row.nombre_padre and not row.nombre_madre:\n",
    "        return out\n",
    "\n",
    "    nombre = row.nombre\n",
    "    nomset = set(nombre.split())\n",
    "    madre = \"\"\n",
    "    padre = \"\"\n",
    "    prenames = \"\"\n",
    "    \n",
    "    # check if madre/padre have overlapping tokens (requires special handling)\n",
    "    mset = set(row.nombre_madre.split())\n",
    "    pset = set(row.nombre_padre.split())\n",
    "    both = pset & mset\n",
    "    flag_overlap = len(both) > 0\n",
    "\n",
    "    if flag_overlap:\n",
    "        surname = check_nombre_doubling(nombre)\n",
    "        if surname != \"\":\n",
    "            madre = surname\n",
    "            padre = surname\n",
    "        else:\n",
    "            for guess in get_substrings(row.nombre_madre.split()):\n",
    "                if (guess in nombre\n",
    "                and not nombre.endswith(guess) ):\n",
    "                    poss_padre = nombre.split(guess)[0].strip()\n",
    "                    poss_set = set(poss_padre.split())\n",
    "                    guess_set = set(guess.split())\n",
    "                    if (poss_padre in row.nombre_padre\n",
    "                        and not nombre.endswith(poss_padre) \n",
    "                        and poss_set.issubset(nomset) and poss_set.issubset(pset)\n",
    "                        and guess_set.issubset(nomset) and guess_set.issubset(mset)\n",
    "                       ):\n",
    "                        padre = poss_padre\n",
    "                        madre = guess\n",
    "                        break\n",
    "\n",
    "\n",
    "    # if the overlap method wasn't successful, parse them separately\n",
    "    if not madre and not padre:\n",
    "        parts = nombre.split()\n",
    "        \n",
    "        #### FATHERS NAME ####\n",
    "        # start by trying the first LEN-1 tokens as a single name, then LEN-2 tokens, etc\n",
    "        # this matches longest chunk found, so it should pick up compound names like DE LA CRUZ\n",
    "        try:\n",
    "            if row.nombre_padre:\n",
    "                poss_padre = check_nombre_doubling(row.nombre_padre)\n",
    "                poss_pset = set(poss_padre.split())\n",
    "                if (poss_padre \n",
    "                and (poss_padre in row.nombre)\n",
    "                and not nombre.endswith(poss_padre) \n",
    "                and poss_pset.issubset(nomset)):\n",
    "                    padre = poss_padre\n",
    "                    parts = ''.join(nombre.split(padre, maxsplit=1)).strip().split()\n",
    "                else:\n",
    "                    # start by trying everything except the last element (always a prename), and work down\n",
    "                    for ind in range(len(parts)-1, 0, -1):\n",
    "                        guess = ' '.join(parts[:ind])\n",
    "                        poss_pset = set(guess.split())\n",
    "                        if ( (guess in row.nombre_padre) \n",
    "                            and poss_pset.issubset(nomset) and poss_pset.issubset(pset)\n",
    "                           ):\n",
    "                            # update before checking mother's name\n",
    "                            padre = guess\n",
    "                            parts = nombre.split(padre, maxsplit=1)[1].split()\n",
    "                            break\n",
    "        except:\n",
    "            out['sur_padre'] = \"WTF PADRE PROBLEM\"\n",
    "            return out\n",
    "\n",
    "        #### MOTHERS NAME ####\n",
    "        # having removed the padre name from the front of the string, try similar trick with the madre name\n",
    "        try:\n",
    "            if row.nombre_madre:\n",
    "                poss_madre = check_nombre_doubling(row.nombre_madre)\n",
    "                poss_mset = set(poss_madre.split())\n",
    "                if (poss_madre \n",
    "                and (poss_madre in row.nombre) \n",
    "                and not nombre.endswith(poss_madre) \n",
    "                and poss_mset.issubset(nomset) and poss_mset.issubset(mset)):\n",
    "                    madre = poss_madre\n",
    "                elif not madre:\n",
    "                    nombre_madre = row.nombre_madre\n",
    "                    \n",
    "                    if nombre_madre.startswith(parts[0]):\n",
    "                        # in legal form, so strike any catholic addons from both citizen and mother\n",
    "                        # complicated bc surnames like \"GOMEZ DE LA TORRE\" mean we have to skip the zeroth token\n",
    "                        m_de_pre_nombre = re_de_pre_UNDERSCORE.match(' '.join(parts[1:]))\n",
    "                        if m_de_pre_nombre:\n",
    "                            # keep 'parts' as a list\n",
    "                            parts = parts[:1] + m_de_pre_nombre.group(1).split()\n",
    "\n",
    "                        mom_parts = nombre_madre.split()\n",
    "                        m_de_pre_madre = re_de_pre.match(' '.join(mom_parts[1:]))\n",
    "                        if m_de_pre_madre:\n",
    "                            # keep 'nombre_madre' as string\n",
    "                            nombre_madre = mom_parts[0] + \" \" + m_de_pre_madre.group(1)\n",
    "\n",
    "                    for ind in range(len(parts)-1, 0, -1):\n",
    "                        guess = ' '.join(parts[:ind])\n",
    "                        poss_mset = set(guess.split())\n",
    "                        if ((guess in nombre_madre) \n",
    "                            and not nombre.endswith(guess) \n",
    "                            and poss_mset.issubset(nomset) and poss_mset.issubset(mset)):\n",
    "                            # now check which is the better fit\n",
    "                            if (guess == nombre_madre):\n",
    "                                # when madre is in short legal form and daughter has the same prename1\n",
    "                                # it can look like the mother's surname is \"GONZALEZ MARIA\", etc.  \n",
    "                                # So ignore these, ??? because we need to handle them later\n",
    "                                pass\n",
    "                            else:\n",
    "                                madre = guess\n",
    "                                break\n",
    "    \n",
    "        except:\n",
    "            out['sur_madre'] = \"WTF MADRE PROBLEM\"\n",
    "            return out\n",
    "        \n",
    "    # get prenames explicitly, as remainder after removing prenames.\n",
    "    # this bypasses some funny stuff I have to do above\n",
    "    deduced_surnames = (padre + \" \" + madre).strip()\n",
    "    if deduced_surnames and row.nombre.startswith(deduced_surnames):\n",
    "        prenames = ''.join([x.strip() for x in row.nombre.split(deduced_surnames)])\n",
    "    else:\n",
    "        prenames = \"WTF SURNAME PROBLEM\"\n",
    "\n",
    "        \n",
    "    if padre:\n",
    "        out['has_padre'] = True\n",
    "        out['sur_padre'] = padre\n",
    "        out['is_plegal'] = row.nombre_padre.startswith(padre)\n",
    "    if madre:\n",
    "        out['has_madre'] = True\n",
    "        out['sur_madre'] = madre\n",
    "        out['is_mlegal'] = row.nombre_madre.startswith(madre)\n",
    "    out['prenames'] = prenames\n",
    "\n",
    "    return out"
   ]
  },
  {
   "cell_type": "markdown",
   "metadata": {},
   "source": [
    "# Extract surnames/prenames"
   ]
  },
  {
   "cell_type": "code",
   "execution_count": null,
   "metadata": {},
   "outputs": [
    {
     "data": {
      "application/vnd.jupyter.widget-view+json": {
       "model_id": "31270cce29d1458ebaa25633bb623ec2",
       "version_major": 2,
       "version_minor": 0
      },
      "text/plain": [
       "HBox(children=(FloatProgress(value=0.0, max=20250738.0), HTML(value='')))"
      ]
     },
     "metadata": {},
     "output_type": "display_data"
    }
   ],
   "source": [
    "%%time\n",
    "if full_run:\n",
    "    surnames_extracted = rf.progress_apply(lambda row: parse_fullrow(row), axis=1, result_type='expand')\n",
    "    surnames_extracted.to_csv(LOC_INTERIM + \"surnames_extracted_\" + TODAY + \".tsv\", sep='\\t', index=False)\n",
    "    \n",
    "else:\n",
    "    dtypes_names = {'cedula':str, 'sur_padre':str, 'sur_madre':str, 'prenames':str,\n",
    "                   'has_padre':bool, 'has_madre':bool, 'is_plegal':'category', 'is_mlegal':'category'\n",
    "                   }\n",
    "    surnames_extracted = pd.read_csv(LOC_INTERIM + \"surnames_extracted_\" + READ_DATE + \".tsv\", \n",
    "                                     sep='\\t', dtype=dtypes_names)\n",
    "    \n",
    "    # replace NaN in text columns\n",
    "    textcols = ['sur_padre','sur_madre','prenames']\n",
    "    surnames_extracted[textcols] = surnames_extracted[textcols].fillna(\"\")\n",
    "\n",
    "    # clean up bool columns\n",
    "    if surnames_extracted.is_plegal.dtype != bool:\n",
    "        surnames_extracted['is_plegal'] = surnames_extracted.is_plegal.map(lambda x: x in {'True',True}).astype(bool)\n",
    "    if surnames_extracted.is_mlegal.dtype != bool:\n",
    "        surnames_extracted['is_mlegal'] = surnames_extracted.is_mlegal.map(lambda x: x in {'True',True}).astype(bool)\n",
    "    \n",
    "print(\"# parsed :\", len(surnames_extracted))\n",
    "\n",
    "# set column order\n",
    "surnames_extracted = surnames_extracted[['cedula','sur_padre','has_padre','is_plegal',\n",
    "                                         'sur_madre','has_madre','is_mlegal','prenames']]\n",
    "\n",
    "# 3.5 hours"
   ]
  },
  {
   "cell_type": "markdown",
   "metadata": {},
   "source": [
    "# Clean up extracted\n",
    "\n",
    "## Clean surnames"
   ]
  },
  {
   "cell_type": "code",
   "execution_count": null,
   "metadata": {},
   "outputs": [],
   "source": [
    "%%time\n",
    "\n",
    "## the \"nf\" (name frame) is just the subset of well-behaved names\n",
    "\n",
    "# confirm that the indexing is still correct\n",
    "if not (rf.index == surnames_extracted.index).all():\n",
    "    rf.reset_index(inplace=True, drop=True)\n",
    "assert (rf.cedula == surnames_extracted.cedula).all()\n",
    "\n",
    "# join the parsed names to the originals (but only retain the well-behaved ones)\n",
    "nf = pd.concat([rf[['cedula','nombre','nombre_padre','nombre_madre','gender']], surnames_extracted.iloc[:,1:]], axis=1)\n",
    "\n",
    "nf = nf.loc[(nf.sur_padre.notnull()) & (nf.sur_padre != \"\") & nf.has_padre & \n",
    "            (nf.sur_madre.notnull()) & (nf.sur_madre != \"\") & nf.has_madre & \n",
    "            (nf.prenames.notnull() & (nf.prenames != \"\")),\n",
    "        ['cedula','nombre','prenames', 'gender', \n",
    "         'nombre_padre','sur_padre','has_padre', 'is_plegal',\n",
    "         'nombre_madre','sur_madre','has_madre', 'is_mlegal']]\n",
    "\n",
    "len(nf)"
   ]
  },
  {
   "cell_type": "markdown",
   "metadata": {},
   "source": [
    "### Look for very uncommon names, make sure they're legit, as opposed to parsing errors"
   ]
  },
  {
   "cell_type": "code",
   "execution_count": null,
   "metadata": {},
   "outputs": [],
   "source": [
    "sur_counts = nf.sur_padre.value_counts()\n",
    "sur_counts.sort_index(inplace=True)\n",
    "\n",
    "sur_counts = pd.concat([sur_counts, \n",
    "                        pd.Series(data=sur_counts.index.map(lambda x: len(x.split())), index=sur_counts.index)\n",
    "                       ], axis=1)\n",
    "sur_counts.columns = ['n_obs', 'nlen']\n",
    "\n",
    "sur_counts"
   ]
  },
  {
   "cell_type": "code",
   "execution_count": null,
   "metadata": {},
   "outputs": [],
   "source": [
    "# 7k cases of names w <10 obs, 5100 with only 1\n",
    "# 3900 cases w < 10 obs, only 2600 with just 1 (following improvements)\n",
    "\n",
    "sur_counts[(sur_counts.nlen > 1) & (sur_counts.n_obs < 10)].sample(60)"
   ]
  },
  {
   "cell_type": "code",
   "execution_count": null,
   "metadata": {},
   "outputs": [],
   "source": [
    "# 7k cases of names w <10 obs, 5100 with only 1\n",
    "# 3900 cases w < 10 obs, only 2600 with just 1 (following improvements)\n",
    "\n",
    "sur_counts[(sur_counts.nlen > 1) & (sur_counts.n_obs < 10)].sample(60)"
   ]
  },
  {
   "cell_type": "markdown",
   "metadata": {},
   "source": [
    "## Clean prenames\n",
    "\n",
    "There are plenty of prenames which have some sort of honorific (e.g. \"DEL CARMEN\").  The goal here is to find any of those, and render them into a single token (e.g. \"DEL_CARMEN\").\n",
    "\n",
    "By definition, this only applies to names with at least 3 tokens (since the honorific is minimum of 2, and the prename is a minimum of 1).\n",
    "\n",
    "Occasionally, someone will have something like \"SANTA DEL CARMEN\".  In practice, they're referred to as \"CARMEN\".\n",
    "\n",
    "Because of cleaning in NB 1.0, this section has almost nothing to catch."
   ]
  },
  {
   "cell_type": "code",
   "execution_count": null,
   "metadata": {},
   "outputs": [],
   "source": [
    "# in all cases, we look for a word boundary as the first group, then our funky name as the second\n",
    "\n",
    "re_von = re.compile(u\"(\\s)(V[AO]N \\w{2,})(\\s|$)\")              # these results are subset of \"re_vande\"\n",
    "re_vande = re.compile(u\"(\\s)(V[AO]N DE[RN]? \\w{2,})(\\s|$)\")\n",
    "re_sant = re.compile(u\"(\\s)(SANT?A? \\w{2,})(\\s|$)\")            # SAN and SANTA (SANTO doesn't form compounds)\n",
    "re_dela = re.compile(u\"(\\s)(DE L[AO]S? ?\\w{2,})(\\s|$)\")   # these results are subset of \"re_laos\"\n",
    "re_laos = re.compile(u\"(\\s)(L[AEO]S? \\w{2,})(\\s|$)\")\n",
    "re_del  = re.compile(u\"(\\s)(DEL \\w{2,})(\\s|$)\")\n",
    "re_de   = re.compile(r\"(\\s)(DE \\w{2,})(\\s|$)\")\n",
    "\n",
    "\n",
    "def regex_funky_prenames(nombre):\n",
    "    \"\"\" This is a little slow (~4mins / million rows), but pretty thorough.  \"\"\"\n",
    "    \n",
    "    mdel   = re_del.search(nombre)\n",
    "    msant  = re_sant.search(nombre)\n",
    "    \n",
    "    mlaos  = re_laos.search(nombre)\n",
    "    mdela  = re_dela.search(nombre)\n",
    "    \n",
    "    mvon   = re_von.search(nombre)\n",
    "    mvande = re_vande.search(nombre)\n",
    "    \n",
    "    mde    = re_de.search(nombre)\n",
    "    \n",
    "    poss_funks = set()\n",
    "    \n",
    "    if mdel:\n",
    "        poss_funks.add(mdel.group(2))\n",
    "    if msant:\n",
    "        poss_funks.add(msant.group(2))\n",
    "    if mvon:\n",
    "        # \"VAN DE\" types are a subset of \"VAN\" types\n",
    "        if mvande:\n",
    "            poss_funks.add(mvande.group(2))\n",
    "        else:\n",
    "            poss_funks.add(mvon.group(2))\n",
    "    if mlaos:\n",
    "        # \"DE LA\" type names are a subset of \"LA\" types\n",
    "        if mdela:\n",
    "            poss_funks.add(mdela.group(2))\n",
    "        else:\n",
    "            poss_funks.add(mlaos.group(2))\n",
    "    if mde:\n",
    "        poss_funks.add(mde.group(2))\n",
    "\n",
    "    if poss_funks:\n",
    "        if \"ZOILA CRUZ\" in poss_funks:\n",
    "            print(\"WTF :\", nombre)\n",
    "        for funk in poss_funks:\n",
    "            funky_prenames.add(funk)\n",
    "        return True\n",
    "    else:\n",
    "        return False\n"
   ]
  },
  {
   "cell_type": "code",
   "execution_count": null,
   "metadata": {},
   "outputs": [],
   "source": [
    "%%time\n",
    "def fix_funk(nombre, funks):\n",
    "    \"\"\" The 'funks' list should be sorted in descending length, to prevent substrings from being clobbered.\n",
    "    \n",
    "    NB: there's a potential bug in here, bc the list is sorted according to character length, but checks\n",
    "    here are being done according to number of tokens.  But very unlikely to cause an issue, so ignoring for now\n",
    "    \"\"\"\n",
    "    nlen = len(nombre.split())\n",
    "    if nlen <= 2:\n",
    "        return nombre\n",
    "    \n",
    "    for funk in funks:\n",
    "        flen = len(funk.split())\n",
    "        if (nlen > flen):\n",
    "            if (funk in nombre):\n",
    "                defunk = '_'.join(funk.split())\n",
    "                nombre = defunk.join(nombre.split(funk))\n",
    "                nlen = len(nombre.split())\n",
    "        else:\n",
    "            # since the list is sorted, once we have a match that uses all the tokens, just skip ahead\n",
    "            continue\n",
    "    return nombre"
   ]
  },
  {
   "cell_type": "code",
   "execution_count": null,
   "metadata": {},
   "outputs": [],
   "source": [
    "%%time\n",
    "\n",
    "if True: #full_run:\n",
    "    funky_prenames = set()\n",
    "    nf['is_funky'] = nf.prenames.map(regex_funky_prenames)\n",
    "    funky_prenames = list(funky_prenames)\n",
    "\n",
    "    with open(LOC_INTERIM + \"funky_prenames_\" + TODAY + \".txt\", 'w') as f:\n",
    "        for funk in funky_prenames:\n",
    "            f.write(funk + \"\\n\")\n",
    "\n",
    "funky_prenames.sort(reverse=True, key=len)\n",
    "print(\"# funkies :\", len(funky_prenames))"
   ]
  },
  {
   "cell_type": "code",
   "execution_count": null,
   "metadata": {},
   "outputs": [],
   "source": [
    "nf[nf.is_funky]"
   ]
  },
  {
   "cell_type": "code",
   "execution_count": null,
   "metadata": {
    "scrolled": false
   },
   "outputs": [],
   "source": [
    "funky_prenames"
   ]
  },
  {
   "cell_type": "code",
   "execution_count": null,
   "metadata": {},
   "outputs": [],
   "source": [
    "%%time\n",
    "nf.loc[nf.is_funky, 'prenames'] = nf[nf.is_funky].prenames.progress_map(lambda x: fix_funk(x, funky_prenames))\n",
    "\n",
    "# now that there are only a few hundred funkies (most are handled in data-cleaning), this is faster by 100x"
   ]
  },
  {
   "cell_type": "code",
   "execution_count": null,
   "metadata": {},
   "outputs": [],
   "source": [
    "%%time\n",
    "nf['nlen_padre'] = nf.nombre_padre.map(lambda x: len(x.split()))\n",
    "nf['nlen_madre'] = nf.nombre_madre.map(lambda x: len(x.split()))\n",
    "\n",
    "nf['n_char_nombre'] = nf.nombre.map(len)\n",
    "nf['n_char_prenames'] = nf.prenames.map(len)\n",
    "#  1 min"
   ]
  },
  {
   "cell_type": "code",
   "execution_count": null,
   "metadata": {},
   "outputs": [],
   "source": [
    "fig, ax = plt.subplots()\n",
    "\n",
    "bins = np.arange(80)\n",
    "ax.set(yscale='log')\n",
    "\n",
    "ax.hist(nf.n_char_nombre, bins=bins, color='blue', alpha=0.3);\n",
    "ax.hist(nf.n_char_prenames, bins=bins, color='red', alpha=0.3);"
   ]
  },
  {
   "cell_type": "markdown",
   "metadata": {},
   "source": [
    "# Use surname/prename frequency to adjust results"
   ]
  },
  {
   "cell_type": "code",
   "execution_count": null,
   "metadata": {},
   "outputs": [],
   "source": [
    "def parse_prename(prenames):\n",
    "    \"\"\" The surnames are parsed, but the prenames must be split up.  \n",
    "    This is possible once the multi-part prenames have been given underscores \n",
    "    \"\"\"\n",
    "    \n",
    "    out = {'pre1':\"\", 'pre2':\"\", 'pre3':\"\", 'junk':\"\"}\n",
    "    \n",
    "    # now assign name pices\n",
    "    pres = prenames.split()\n",
    "    if len(pres) >= 1:\n",
    "        out['pre1'] = pres[0]\n",
    "    if len(pres) >= 2:\n",
    "        out['pre2'] = pres[1]\n",
    "    if len(pres) >= 3:\n",
    "        out['pre3'] = pres[2]\n",
    "    if len(pres) >= 4:\n",
    "        out['junk'] = ' '.join(pres[3:])\n",
    "    return out"
   ]
  },
  {
   "cell_type": "code",
   "execution_count": null,
   "metadata": {},
   "outputs": [],
   "source": [
    "def count_all_names(freq):\n",
    "    tmp = pd.concat([freq.sur_padre, freq.sur_madre], axis=0).value_counts()\n",
    "    count_sur = pd.DataFrame({'obsname':tmp.index, 'n_sur':tmp.values})\n",
    "    tmp = pd.concat([freq.pre1, freq.pre2], axis=0).value_counts()\n",
    "    count_pre = pd.DataFrame({'obsname':tmp.index, 'n_pre':tmp.values})\n",
    "\n",
    "    count_names = count_sur.merge(count_pre, on='obsname', how='outer')\n",
    "    count_names.fillna(0, inplace=True)\n",
    "\n",
    "    # add null record, so that null names get weight factor of 1\n",
    "    count_names.loc[count_names.obsname == \"\", ['n_sur','n_pre']] = 0\n",
    "\n",
    "    count_names['n_sur'] = count_names.n_sur + 0.5\n",
    "    count_names['n_pre'] = count_names.n_pre + 0.5\n",
    "\n",
    "    count_names['sratio'] = count_names.n_sur / count_names.n_pre\n",
    "    count_names['pratio'] = count_names.n_pre / count_names.n_sur\n",
    "    \n",
    "    return count_names"
   ]
  },
  {
   "cell_type": "code",
   "execution_count": null,
   "metadata": {},
   "outputs": [],
   "source": [
    "def is_name_multimatch(nombre):\n",
    "    mdel   = re_del.search(nombre)\n",
    "    msant  = re_sant.search(nombre)\n",
    "    \n",
    "    mlaos  = re_laos.search(nombre)\n",
    "    mdela  = re_dela.search(nombre)\n",
    "    \n",
    "    mde  = re_de.search(nombre)\n",
    "    \n",
    "    mvon   = re_von.search(nombre)\n",
    "    mvande = re_vande.search(nombre)\n",
    "    \n",
    "    if mdel or msant or mlaos or mdela or mde or mvon or mvande:\n",
    "        return True\n",
    "    else:\n",
    "        return False"
   ]
  },
  {
   "cell_type": "code",
   "execution_count": null,
   "metadata": {},
   "outputs": [],
   "source": [
    "%%time\n",
    "\n",
    "if full_run:\n",
    "    freq = pd.concat([nf[['cedula', 'nombre', 'sur_padre', 'sur_madre']], \n",
    "                     nf.progress_apply(lambda row: parse_prename(row.prenames), axis=1, result_type='expand')], axis=1)\n",
    "\n",
    "    freq['nlen'] = freq[['sur_padre','sur_madre','pre1','pre2','pre3','junk']\n",
    "                     ].replace(\"\", np.nan).notnull().astype(int).sum(axis=1)\n",
    "    print(\"saving...\")\n",
    "    freq.to_csv(LOC_INTERIM + \"FREQFILE_\" + TODAY + \".tsv\", sep='\\t', index=False)\n",
    "else:\n",
    "    freq = pd.read_csv(LOC_INTERIM +  \"FREQFILE_\" + READ_DATE + \".tsv\", sep='\\t', dtype=str)\n",
    "\n",
    "print(\"# recs :\", len(freq))\n",
    "\n",
    "# 90 mins"
   ]
  },
  {
   "cell_type": "code",
   "execution_count": null,
   "metadata": {},
   "outputs": [],
   "source": [
    "%%time\n",
    "\n",
    "count_names = count_all_names(freq)\n",
    "count_names['nlen'] = count_names.obsname.map(lambda x: len(x.split()))\n",
    "count_names['is_multimatch'] = count_names.obsname.map(is_name_multimatch)\n",
    "\n",
    "if full_run:\n",
    "    count_names.to_csv(LOC_INTERIM + \"NAMECOUNTS_\" + TODAY + \".tsv\", sep='\\t', index=False)"
   ]
  },
  {
   "cell_type": "code",
   "execution_count": null,
   "metadata": {},
   "outputs": [],
   "source": []
  },
  {
   "cell_type": "markdown",
   "metadata": {},
   "source": [
    "### Check single-token surnames"
   ]
  },
  {
   "cell_type": "code",
   "execution_count": null,
   "metadata": {},
   "outputs": [],
   "source": [
    "solo_sur = nf[nf.sur_padre.map(lambda x: len(x.split()) == 1)]\n",
    "solo_counts = solo_sur.sur_padre.value_counts()"
   ]
  },
  {
   "cell_type": "code",
   "execution_count": null,
   "metadata": {},
   "outputs": [],
   "source": [
    "fig, ax = plt.subplots()\n",
    "bins = np.arange(0,100000,100)\n",
    "ax.set(yscale='log')\n",
    "ax.hist(solo_counts, bins=bins);"
   ]
  },
  {
   "cell_type": "code",
   "execution_count": null,
   "metadata": {},
   "outputs": [],
   "source": [
    "solo_counts[:10]"
   ]
  },
  {
   "cell_type": "code",
   "execution_count": null,
   "metadata": {},
   "outputs": [],
   "source": [
    "surs_solo_rare = set(solo_counts[solo_counts < 10].index)\n",
    "len(surs_solo_rare)"
   ]
  },
  {
   "cell_type": "code",
   "execution_count": null,
   "metadata": {},
   "outputs": [],
   "source": [
    "# how many records are used by \"rare\" surnames?\n",
    "nf.sur_padre.isin(surs_solo_rare).sum()   # 101k (out of 20M), so 0.5%"
   ]
  },
  {
   "cell_type": "code",
   "execution_count": null,
   "metadata": {},
   "outputs": [],
   "source": []
  },
  {
   "cell_type": "markdown",
   "metadata": {},
   "source": [
    "### Check the two-token surnames, many are actually a sur-pre combo"
   ]
  },
  {
   "cell_type": "code",
   "execution_count": null,
   "metadata": {},
   "outputs": [],
   "source": [
    "dual_sur = count_names[(count_names.nlen == 2) & ~count_names.is_multimatch]\n",
    "dual_sur = dual_sur.apply(lambda x: x.obsname.split(), axis=1, result_type='expand')\n",
    "dual_sur.columns = ['probably_sur', 'probably_pre']\n",
    "\n",
    "dual_sur = dual_sur.merge(count_names[['obsname','sratio']], \n",
    "                left_on='probably_sur', right_on='obsname').drop(columns=['obsname'])\n",
    "\n",
    "dual_sur = dual_sur.merge(count_names[['obsname','pratio']], \n",
    "                left_on='probably_pre', right_on='obsname').drop(columns=['obsname'])\n",
    "\n",
    "dual_sur['evidence'] = dual_sur.sratio * dual_sur.pratio\n"
   ]
  },
  {
   "cell_type": "code",
   "execution_count": null,
   "metadata": {},
   "outputs": [],
   "source": [
    "dual_sur"
   ]
  },
  {
   "cell_type": "code",
   "execution_count": null,
   "metadata": {},
   "outputs": [],
   "source": [
    "n_samp = np.min((30, len(dual_sur[dual_sur.evidence < 100])))\n",
    "dual_sur[(dual_sur.evidence < 100) ].sample(n_samp) # & (tmp.probably_pre != \"MARIA\")]"
   ]
  },
  {
   "cell_type": "code",
   "execution_count": null,
   "metadata": {},
   "outputs": [],
   "source": [
    "dual_sur[(dual_sur.probably_pre == 'MARIA') & (dual_sur.probably_sur == 'BANO')]"
   ]
  },
  {
   "cell_type": "code",
   "execution_count": null,
   "metadata": {},
   "outputs": [],
   "source": [
    "fig, ax = plt.subplots(figsize=(9,6))\n",
    "\n",
    "ax.set(xscale='log', xlabel='evidence name is actually sur+pre', ylabel='frequency')\n",
    "\n",
    "logbins = np.logspace(-6,10,129)\n",
    "ax.hist(dual_sur.evidence, bins=logbins, color='blue', alpha=0.3);\n",
    "ax.hist(dual_sur[dual_sur.probably_pre == 'MARIA'].evidence, bins=logbins, color='red', alpha=0.3);#"
   ]
  },
  {
   "cell_type": "code",
   "execution_count": null,
   "metadata": {},
   "outputs": [],
   "source": [
    "sub = dual_sur[dual_sur.probably_pre.isin({'MARIA','JORGE','CARMEN','JOSE'})]\n",
    "\n",
    "ax.hist(sub.evidence, bins=logbins, color='red', alpha=0.3);"
   ]
  },
  {
   "cell_type": "code",
   "execution_count": null,
   "metadata": {},
   "outputs": [],
   "source": [
    "dual_sur[(dual_sur.evidence < 20) & (dual_sur.probably_pre == 'MARIA')]"
   ]
  },
  {
   "cell_type": "code",
   "execution_count": null,
   "metadata": {},
   "outputs": [],
   "source": [
    "tst = \"MANSSUR\tYAMILE\"\n",
    "tst = ' '.join(tst.split('\\t'))\n",
    "nf[nf.sur_madre == tst]"
   ]
  },
  {
   "cell_type": "code",
   "execution_count": null,
   "metadata": {},
   "outputs": [],
   "source": [
    "dual_sur[dual_sur.evidence > 100]"
   ]
  },
  {
   "cell_type": "code",
   "execution_count": null,
   "metadata": {},
   "outputs": [],
   "source": [
    "# ~ 120k sur_madre need this treatment.  But only ~300 padres (and most of those seem to actually be correct)\n",
    "needs_repair = dual_sur[dual_sur.evidence > 1000]\n",
    "needs_repair = set(needs_repair.probably_sur + ' ' + needs_repair.probably_pre)"
   ]
  },
  {
   "cell_type": "code",
   "execution_count": null,
   "metadata": {},
   "outputs": [],
   "source": [
    "def repair_dual_surmadre(row):\n",
    "    out = {'sur_madre':\"\", 'prenames':\"\"}\n",
    "    sur_madre, pre1 = row.sur_madre.split()\n",
    "    \n",
    "    out['prenames'] = pre1 + ' ' + row.prenames\n",
    "    out['sur_madre'] = sur_madre\n",
    "    return out"
   ]
  },
  {
   "cell_type": "code",
   "execution_count": null,
   "metadata": {},
   "outputs": [],
   "source": [
    "nf.loc[nf.sur_madre.isin(needs_repair), ['sur_madre','prenames']\n",
    "      ] = nf[nf.sur_madre.isin(needs_repair)].progress_apply(lambda row: repair_dual_surmadre(row), axis=1, result_type='expand')\n",
    "nf"
   ]
  },
  {
   "cell_type": "code",
   "execution_count": null,
   "metadata": {},
   "outputs": [],
   "source": []
  },
  {
   "cell_type": "markdown",
   "metadata": {},
   "source": [
    "## Spousal names\n",
    "\n",
    "Look for \"DE $husband\" within the mother's name, then remove and re-parse.\n",
    "\n",
    "Should probably expand this to include checks for spouse amongst women.  Probably plenty of isuses there."
   ]
  },
  {
   "cell_type": "code",
   "execution_count": null,
   "metadata": {},
   "outputs": [],
   "source": [
    "def poss_husb(row):\n",
    "    # tried both simple search and regex; no difference in speed\n",
    "    return \" DE \" + row.sur_padre in row.nombre_madre"
   ]
  },
  {
   "cell_type": "code",
   "execution_count": null,
   "metadata": {},
   "outputs": [],
   "source": [
    "%%time\n",
    "nf['maybe_husb'] = nf.progress_apply(lambda row: poss_husb(row), axis=1)\n",
    "\n",
    "# 60 minutes  (this is a check of the mother's name, so have to run it for everyone; spouse would be only women)"
   ]
  },
  {
   "cell_type": "code",
   "execution_count": null,
   "metadata": {
    "scrolled": false
   },
   "outputs": [],
   "source": [
    "sub = nf[nf.maybe_husb].copy(deep=True)\n",
    "len(sub)"
   ]
  },
  {
   "cell_type": "code",
   "execution_count": null,
   "metadata": {},
   "outputs": [],
   "source": [
    "#sub.sample(20)\n",
    "sub.head(10)"
   ]
  },
  {
   "cell_type": "code",
   "execution_count": null,
   "metadata": {},
   "outputs": [],
   "source": [
    "# these are almost all when a woman and her mother both use husband's last name, so algo picks it up as mother's\n",
    "nf[nf.sur_madre == 'DE']\n"
   ]
  },
  {
   "cell_type": "code",
   "execution_count": null,
   "metadata": {},
   "outputs": [],
   "source": [
    "def remove_husband(row):\n",
    "    out = row.copy(deep=True)\n",
    "    try:\n",
    "        madre = ''.join(row.nombre_madre.split(\" DE \" + row.sur_padre))\n",
    "    except AttributeError:\n",
    "        print(\"ERROR :\", row)\n",
    "#        return None\n",
    "    out.nombre_madre = madre\n",
    "    return out"
   ]
  },
  {
   "cell_type": "code",
   "execution_count": null,
   "metadata": {},
   "outputs": [],
   "source": [
    "row = sub.iloc[0]\n",
    "row"
   ]
  },
  {
   "cell_type": "code",
   "execution_count": null,
   "metadata": {},
   "outputs": [],
   "source": [
    "remove_husband(row)"
   ]
  },
  {
   "cell_type": "code",
   "execution_count": null,
   "metadata": {},
   "outputs": [],
   "source": []
  },
  {
   "cell_type": "code",
   "execution_count": null,
   "metadata": {},
   "outputs": [],
   "source": [
    "removed = sub.apply(lambda row: remove_husband(row), axis=1, result_type='expand')"
   ]
  },
  {
   "cell_type": "code",
   "execution_count": null,
   "metadata": {},
   "outputs": [],
   "source": [
    "newparse = removed.progress_apply(lambda row: parse_fullrow(row), axis=1, result_type='expand')"
   ]
  },
  {
   "cell_type": "code",
   "execution_count": null,
   "metadata": {},
   "outputs": [],
   "source": [
    "sub[(newparse.sur_madre != sub.sur_madre)]"
   ]
  },
  {
   "cell_type": "code",
   "execution_count": null,
   "metadata": {},
   "outputs": [],
   "source": [
    "newparse[(newparse.sur_madre != sub.sur_madre)]"
   ]
  },
  {
   "cell_type": "code",
   "execution_count": null,
   "metadata": {},
   "outputs": [],
   "source": [
    "removed"
   ]
  },
  {
   "cell_type": "code",
   "execution_count": null,
   "metadata": {},
   "outputs": [],
   "source": []
  },
  {
   "cell_type": "code",
   "execution_count": null,
   "metadata": {},
   "outputs": [],
   "source": [
    "%%time\n",
    "# cleans mother's name of the \"DE HUSBAND\" junk\n",
    "re_despouse = re.compile(u\"\\sDE (\\w{2,})(\\s|$)\")\n",
    "re_despouse = re.compile(u\"(^|\\s)\\w{2,}\\sDE (\\w{2,})(\\s|$)\")\n",
    "\n",
    "def clean_spousename(row):\n",
    "    m = re_despouse.search(row.nombre_madre)\n",
    "    \n",
    "    # group1 might be husband's name, compare to already-extracted husband name\n",
    "    if m and (m.group(1) in row.nombre_padre):\n",
    "        # if it matches, replace with space (and strip, to avoid leaving trailing space)\n",
    "              \n",
    "        # NB : improve this by finding the longest husband-name that matches (as in the parse_fullrow alg)\n",
    "        # ALSO, re-match the child/mother name\n",
    "        return (re_despouse.sub(\" \", row.nombre_madre)).strip()\n",
    "    else:\n",
    "        return row.nombre_madre"
   ]
  },
  {
   "cell_type": "markdown",
   "metadata": {},
   "source": [
    "# Fix errors from the first pass"
   ]
  },
  {
   "cell_type": "code",
   "execution_count": null,
   "metadata": {},
   "outputs": [],
   "source": [
    "missed = rf[~rf.cedula.isin(set(nf.cedula)) & (rf.nombre_padre != \"\") & (rf.nombre_madre != \"\")]\n",
    "len(missed)"
   ]
  },
  {
   "cell_type": "markdown",
   "metadata": {},
   "source": [
    "# Following cleanup, re-check the prename parsing"
   ]
  },
  {
   "cell_type": "code",
   "execution_count": null,
   "metadata": {},
   "outputs": [],
   "source": [
    "%%time\n",
    "if full_run:\n",
    "    nf.to_csv(LOC_INTERIM + 'names_cleaned_' + TODAY + '.tsv', sep='\\t', index=False)\n",
    "# 90 sec"
   ]
  },
  {
   "cell_type": "code",
   "execution_count": null,
   "metadata": {},
   "outputs": [],
   "source": [
    "%%time\n",
    "\n",
    "if full_run:\n",
    "    newfreq = pd.concat([nf[['cedula', 'nombre', 'sur_padre', 'sur_madre']], \n",
    "                     nf.progress_apply(lambda row: parse_prename(row.prenames), axis=1, result_type='expand')], axis=1)\n",
    "\n",
    "    newfreq['nlen'] = newfreq[['sur_padre','sur_madre','pre1','pre2','pre3','junk']\n",
    "                     ].replace(\"\", np.nan).notnull().astype(int).sum(axis=1)\n",
    "    print(\"saving...\")\n",
    "    newfreq.to_csv(LOC_INTERIM + \"NEWFREQFILE_\" + TODAY + \".tsv\", sep='\\t', index=False)\n",
    "#    newfreq.to_csv(\"NEWfreqFILE_\" + READ_DATE + \".tsv\", sep='\\t', index=False)\n",
    "else:\n",
    "    newfreq = pd.read_csv(LOC_INTERIM + \"NEWFREQFILE_\" + READ_DATE + \".tsv\", sep='\\t', dtype=str)\n",
    "\n",
    "print(\"# recs :\", len(newfreq))\n",
    "\n",
    "# 90 mins"
   ]
  },
  {
   "cell_type": "code",
   "execution_count": null,
   "metadata": {},
   "outputs": [],
   "source": [
    "%%time\n",
    "\n",
    "count_names = count_all_names(newfreq)\n",
    "count_names['nlen'] = count_names.obsname.map(lambda x: len(x.split()))\n",
    "count_names['is_multimatch'] = count_names.obsname.map(is_name_multimatch)\n",
    "\n",
    "if full_run:\n",
    "    count_names.to_csv(LOC_INTERIM + \"NAMECOUNTS_\" + TODAY + \".tsv\", sep='\\t', index=False)\n",
    "    "
   ]
  },
  {
   "cell_type": "code",
   "execution_count": null,
   "metadata": {},
   "outputs": [],
   "source": [
    "len(newfreq)"
   ]
  },
  {
   "cell_type": "markdown",
   "metadata": {},
   "source": [
    "# Replace spaces with underscores"
   ]
  },
  {
   "cell_type": "code",
   "execution_count": null,
   "metadata": {},
   "outputs": [],
   "source": [
    "ncounts = count_all_names(freq)"
   ]
  },
  {
   "cell_type": "code",
   "execution_count": null,
   "metadata": {},
   "outputs": [],
   "source": [
    "%time\n",
    "\n",
    "def merge_underscore_names(ncounts):\n",
    "    under_prenames = set(ncounts[ncounts.obsname.map(lambda x: \"_\" in x)].obsname)\n",
    "\n",
    "    for upre in tqdm(under_prenames):\n",
    "\n",
    "        u_rec = ncounts[ncounts.obsname == upre].iloc[0]\n",
    "\n",
    "        norm_pre = ' '.join(upre.split(\"_\"))\n",
    "        norm_rec = ncounts[ncounts.obsname == norm_pre]\n",
    "        if len(norm_rec) == 1:\n",
    "            norm_rec = norm_rec.iloc[0]\n",
    "            ncounts.loc[ncounts.obsname == norm_pre, 'n_sur'] = u_rec.n_sur + norm_rec.n_sur - 0.5\n",
    "            ncounts.loc[ncounts.obsname == norm_pre, 'n_pre'] = u_rec.n_pre + norm_rec.n_pre - 0.5\n",
    "        elif len(norm_rec) == 0:\n",
    "            tmp = u_rec.copy(deep=True)\n",
    "            tmp.obsname = norm_pre\n",
    "            ncounts = ncounts.append(tmp)\n",
    "\n",
    "    ncounts = ncounts[~ncounts.obsname.isin(under_prenames)]\n",
    "    ncounts['sratio'] = ncounts.n_sur/ncounts.n_pre\n",
    "    ncounts['pratio'] = ncounts.n_pre/ncounts.n_sur\n",
    "    \n",
    "    subspace = ncounts[ncounts.obsname.map(lambda x: \" \" in x)].copy(deep=True)\n",
    "    subspace['obsname'] = subspace.obsname.map(lambda x: \"_\".join(x.split()))\n",
    "    return pd.concat([ncounts, subspace], axis=0)"
   ]
  },
  {
   "cell_type": "code",
   "execution_count": null,
   "metadata": {},
   "outputs": [],
   "source": [
    "%%time\n",
    "\n",
    "if full_run:\n",
    "    allnames = merge_underscore_names(ncounts)\n",
    "    allnames.to_csv('../data/interim/ALLNAMES_' + TODAY + '.tsv', sep='\\t', index=False)\n",
    "else:\n",
    "    allnames = pd.read_csv(\"../data/interim/ALLNAMES_\" + READ_DATE + \".tsv\", sep='\\t')\n",
    "\n",
    "print(\"# allnames :\", len(allnames))\n",
    "# 15 mins"
   ]
  },
  {
   "cell_type": "markdown",
   "metadata": {},
   "source": [
    "# OLD JUNK, I THINK"
   ]
  },
  {
   "cell_type": "code",
   "execution_count": null,
   "metadata": {},
   "outputs": [],
   "source": [
    "def parse_parent_prenames(row):\n",
    "    \n",
    "    out = {'padre_sur2':None, 'padre_pre1':None, 'padre_pre2':None,\n",
    "           'madre_sur2':None, 'madre_pre1':None, 'madre_pre2':None\n",
    "          }\n",
    "    \n",
    "    ptokens = row.nombre_padre.split()\n",
    "    if row.nlen_padre == 2:\n",
    "        if row.sur_padre == ptokens[0]:\n",
    "            # legal order; prename is final token\n",
    "            out['padre_pre1'] = ptokens[1]\n",
    "        elif row.sur_padre == ptokens[1]:\n",
    "            # sequential order\n",
    "            out['padre_pre1'] = ptokens[0]\n",
    "        else:\n",
    "            print(\"WTF PADRE n2 ??\", row)\n",
    "            \n",
    "    elif row.nlen_padre == 4:\n",
    "        if row.sur_padre == ptokens[0]:\n",
    "            # legal order\n",
    "            out['padre_sur2'] = ptokens[1]\n",
    "            out['padre_pre1'] = ptokens[2]\n",
    "            out['padre_pre2'] = ptokens[3]\n",
    "        elif row.sur_padre == ptokens[2]:\n",
    "            # sequential ourder\n",
    "            out['padre_sur2'] = ptokens[3]\n",
    "            out['padre_pre1'] = ptokens[0]\n",
    "            out['padre_pre2'] = ptokens[1]\n",
    "        else:\n",
    "            print(\"WTF PADRE n4 ?\", row)\n",
    "            \n",
    "        "
   ]
  },
  {
   "cell_type": "code",
   "execution_count": null,
   "metadata": {},
   "outputs": [],
   "source": [
    "nf.nlen_padre.value_counts()"
   ]
  },
  {
   "cell_type": "markdown",
   "metadata": {},
   "source": [
    "### Identify and fix funky names (\"VAN DER HOOK\", \"DE LA CRUZ\", etc)\n",
    "\n",
    "This takes a while to run, bc ~N**2 "
   ]
  },
  {
   "cell_type": "code",
   "execution_count": null,
   "metadata": {},
   "outputs": [],
   "source": [
    "# in all cases, we look for a word boundary as the first group, then our funky name as the second\n",
    "re_von = re.compile(u\"(^|\\s)(V[AO]N \\w{2,})(\\s|$)\")              # these results are subset of \"re_vande\"\n",
    "re_vande = re.compile(u\"(^|\\s)(V[AO]N DE[RN]? \\w{2,})(\\s|$)\")\n",
    "re_sant = re.compile(u\"(^|\\s)(SANT?A? \\w{2,})(\\s|$)\")\n",
    "re_dela = re.compile(u\"(^|\\s)(DE L[AO]S? ?\\w{2,})(\\s|$)\")   # these results are subset of \"re_laos\"\n",
    "re_laos = re.compile(u\"(^|\\s)(L[AEO]S? \\w{2,})(\\s|$)\")\n",
    "re_del  = re.compile(u\"(^|\\s)(DEL \\w{2,})(\\s|$)\")\n",
    "\n",
    "\n",
    "def regex_funky(row):\n",
    "    \"\"\" This is a little slow (~4mins / million rows), but pretty thorough.  \"\"\"\n",
    "    \n",
    "    mdel   = re_del.search(row.nombre)\n",
    "    msant  = re_sant.search(row.nombre)\n",
    "    \n",
    "    mlaos  = re_laos.search(row.nombre)\n",
    "    mdela  = re_dela.search(row.nombre)\n",
    "    \n",
    "    mvon   = re_von.search(row.nombre)\n",
    "    mvande = re_vande.search(row.nombre)\n",
    "    \n",
    "    poss_funks = set()\n",
    "    \n",
    "    if mdel:\n",
    "        poss_funks.add(mdel.group(2))\n",
    "    if msant:\n",
    "        poss_funks.add(msant.group(2))\n",
    "    if mvon:\n",
    "        # \"VAN DE\" types are a subset of \"VAN\" types\n",
    "        if mvande:\n",
    "            poss_funks.add(mvande.group(2))\n",
    "        else:\n",
    "            poss_funks.add(mvon.group(2))\n",
    "    if mlaos:\n",
    "        # \"DE LA\" type names are a subset of \"LA\" types\n",
    "        if mdela:\n",
    "            poss_funks.add(mdela.group(2))\n",
    "        else:\n",
    "            poss_funks.add(mlaos.group(2))\n",
    "    \n",
    "    for poss_funk in poss_funks:\n",
    "        \n",
    "        if row.nombre.endswith(poss_funk):\n",
    "            # assume it's a prename\n",
    "            funky_prenames.append(poss_funk)\n",
    "            \n",
    "        elif row.nombre_padre and (poss_funk in row.nombre_padre):\n",
    "            # father's surname\n",
    "            funky_surnames.append(poss_funk)\n",
    "            \n",
    "        elif row.nombre_madre and (poss_funk in row.nombre_madre):\n",
    "            # mother's surname\n",
    "            funky_surnames.append(poss_funk)\n",
    "            \n",
    "        elif not row.nombre_padre and not row.nombre_madre:\n",
    "            # no parent data available, so just assume it's correct\n",
    "            funky_surnames.append(poss_funk)\n",
    "\n",
    "        else:\n",
    "            # something's fucky (possible misspelling ?)\n",
    "            funky_junk.append(poss_funk)"
   ]
  },
  {
   "cell_type": "code",
   "execution_count": null,
   "metadata": {},
   "outputs": [],
   "source": [
    "%%time\n",
    "\n",
    "sub = rf.sample(1000000)\n",
    "\n",
    "funky_surnames = list()\n",
    "funky_prenames = list()\n",
    "funky_junk = list()\n",
    "_ = sub.apply(lambda row: regex_funky(row), axis=1)\n",
    "\n",
    "funkcount = Counter(funky_junk)\n",
    "surcount = Counter(funky_surnames)\n",
    "precount = Counter(funky_prenames)"
   ]
  },
  {
   "cell_type": "code",
   "execution_count": null,
   "metadata": {},
   "outputs": [],
   "source": [
    "def check_weirds(row, multi, df, nameset):\n",
    "    \n",
    "    MIN_RECS = 2\n",
    "    new_names = set()\n",
    "    parts = [x.strip() for x in row.nombre.split(multi)[0].split()]\n",
    "    for ind in np.arange(len(parts)):\n",
    "        guess = ' '.join(parts[ind:] + [multi])\n",
    "        if guess in nameset:\n",
    "            # it's already known to be a last nome, just skip\n",
    "            break\n",
    "            \n",
    "        # don't draw conclusions unless we have data from both parents\n",
    "        if (row.nombre_padre and row.nombre_madre):\n",
    "            if (   (guess in row.nombre_padre and not multi in row.nombre_madre)\n",
    "                or (guess in row.nombre_madre and not multi in row.nombre_padre) ):\n",
    "                if df.nombre.map(lambda x: x.startswith(guess)).sum() >= MIN_RECS:\n",
    "                    print(\"\\t\", guess)\n",
    "                    new_names.add(guess)\n",
    "        \n",
    "        \"\"\"\n",
    "                if (guess in row.nombre_padre) or (guess in row.nombre_madre):\n",
    "            if df.nombre.map(lambda x: x.startswith(guess)).sum() >= MIN_RECS:\n",
    "                print(\"\\t\", guess)\n",
    "                new_names.add(guess)\n",
    "        \"\"\"\n",
    "    return new_names"
   ]
  },
  {
   "cell_type": "code",
   "execution_count": null,
   "metadata": {},
   "outputs": [],
   "source": [
    "%%time\n",
    "\n",
    "nameset = set(surcount)\n",
    "\n",
    "# funky/multi-word surnames which have occurred more than once\n",
    "multis = [x for x,y in surcount.items() if y > 1]\n",
    "for multi in multis:\n",
    "    \n",
    "    # check how often the proposed surname is the first element/surname  \n",
    "    # If that happens rarely, then there might be another word in front\n",
    "    sub = rf[rf.nombre.map(lambda x: x.startswith(multi))]\n",
    "    thresh = np.max([2, np.floor(np.sqrt(surcount[multi]))])\n",
    "    if len(sub) <= thresh:\n",
    "        print(multi)\n",
    "        for ind, row in rf[rf.nombre.map(lambda x: multi in x)].iterrows():\n",
    "            new_names = check_weirds(row, multi, rf, nameset)\n",
    "            nameset = nameset | new_names\n",
    "\n",
    "#  ~ 5 mins/million"
   ]
  },
  {
   "cell_type": "code",
   "execution_count": null,
   "metadata": {},
   "outputs": [],
   "source": [
    "junky = list()\n",
    "my_ynames = list()\n",
    "\n",
    "def get_ynames(row):\n",
    "    names = row.nombre.split()\n",
    "    ind_y = names.index('Y')\n",
    "    \n",
    "    pre = names[ind_y - 1]\n",
    "    post = names[ind_y + 1]\n",
    "    \n",
    "    if pre == post:\n",
    "        # sometimes \"SANCHEZ Y SANCHEZ\" is used to indicate that both parents had the same name.  \n",
    "        pass\n",
    "    else:\n",
    "        possible = pre + ' Y ' + post\n",
    "\n",
    "        if possible in row.nombre_padre or possible in row.nombre_madre:\n",
    "#            funky_surnames.append(possible)\n",
    "            my_ynames.append(possible)\n",
    "        else:\n",
    "            junky.append(possible)"
   ]
  },
  {
   "cell_type": "code",
   "execution_count": null,
   "metadata": {},
   "outputs": [],
   "source": [
    "%%time\n",
    "has_y = rf[rf.nombre.map(lambda x: \" Y \" in x)]\n",
    "has_y.apply(lambda row: get_ynames(row), axis=1);\n",
    "\n",
    "junk_count = Counter(junky)"
   ]
  },
  {
   "cell_type": "code",
   "execution_count": null,
   "metadata": {},
   "outputs": [],
   "source": [
    "Counter(my_ynames)"
   ]
  },
  {
   "cell_type": "code",
   "execution_count": null,
   "metadata": {},
   "outputs": [],
   "source": [
    "funky_surnames = list(set(surcount) | set(my_ynames) | nameset)\n",
    "funky_surnames.sort(reverse=True, key=len)\n",
    "len(funky_surnames)"
   ]
  },
  {
   "cell_type": "code",
   "execution_count": null,
   "metadata": {},
   "outputs": [],
   "source": [
    "re_laroy = re.compile(r\"(^)LA ROSA(\\s|$)\")\n",
    "rf[rf.nombre.map(lambda x: True if re_laroy.search(x) else False)]"
   ]
  },
  {
   "cell_type": "code",
   "execution_count": null,
   "metadata": {},
   "outputs": [],
   "source": [
    "funky_prenames = list(set(precount))\n",
    "funky_prenames.sort(reverse=True, key=len)\n",
    "len(funky_prenames)"
   ]
  },
  {
   "cell_type": "code",
   "execution_count": null,
   "metadata": {},
   "outputs": [],
   "source": [
    "funks = funky_surnames + funky_prenames\n",
    "funks.sort(reverse=True, key=len)\n",
    "funks"
   ]
  },
  {
   "cell_type": "code",
   "execution_count": null,
   "metadata": {},
   "outputs": [],
   "source": []
  },
  {
   "cell_type": "code",
   "execution_count": null,
   "metadata": {},
   "outputs": [],
   "source": [
    "%%time\n",
    "def fix_funk(nombre, funks):\n",
    "    \"\"\" The 'funks' list should be sorted in descending length, to prevent substrings from being clobbered.\"\"\"\n",
    "    nlen = len(nombre.split())\n",
    "    for funk in funks:\n",
    "        flen = len(funk.split())\n",
    "        if (nlen - flen > 1):\n",
    "            if (funk in nombre):\n",
    "                defunk = '_'.join(funk.split())\n",
    "                nombre = defunk.join(nombre.split(funk))\n",
    "                nlen = len(nombre.split())\n",
    "        else:\n",
    "            # since the list is sorted, once we have a match that uses all the tokens, just skip ahead\n",
    "            continue\n",
    "    return nombre"
   ]
  },
  {
   "cell_type": "code",
   "execution_count": null,
   "metadata": {},
   "outputs": [],
   "source": [
    "%%time\n",
    "def fix_funk(nombre, funks):\n",
    "    \"\"\" The 'funks' list should be sorted in descending length, to prevent substrings from being clobbered.\"\"\"\n",
    "    nlen = len(nombre.split())\n",
    "    for funk in funks:\n",
    "        flen = len(funk.split())\n",
    "        if (nlen - flen > 1):\n",
    "            if (funk in nombre):\n",
    "                defunk = '_'.join(funk.split())\n",
    "                nombre = defunk.join(nombre.split(funk))\n",
    "                nlen = len(nombre.split())\n",
    "        else:\n",
    "            # since the list is sorted, once we have a match that uses all the tokens, just skip ahead\n",
    "            continue\n",
    "    return nombre"
   ]
  },
  {
   "cell_type": "code",
   "execution_count": null,
   "metadata": {},
   "outputs": [],
   "source": [
    "from collections import namedtuple"
   ]
  },
  {
   "cell_type": "code",
   "execution_count": null,
   "metadata": {},
   "outputs": [],
   "source": [
    "re_under = re.compile(r\"(^|\\s)(\\w+_\\w*)(\\s|$)\")"
   ]
  },
  {
   "cell_type": "code",
   "execution_count": null,
   "metadata": {},
   "outputs": [],
   "source": [
    "re_under.findall(\"DE_LA_CRUZ SOME WAN\")"
   ]
  },
  {
   "cell_type": "code",
   "execution_count": null,
   "metadata": {},
   "outputs": [],
   "source": [
    "help(re_under.finditer)"
   ]
  },
  {
   "cell_type": "code",
   "execution_count": null,
   "metadata": {},
   "outputs": [],
   "source": [
    "len(rf)"
   ]
  },
  {
   "cell_type": "markdown",
   "metadata": {},
   "source": [
    "# Split names, write output"
   ]
  },
  {
   "cell_type": "code",
   "execution_count": null,
   "metadata": {},
   "outputs": [],
   "source": [
    "def write_nameparts(nombre):\n",
    "    \n",
    "    rec = {'sur1': '',\n",
    "           'sur2': '',\n",
    "           'pre1': '',\n",
    "           'pre2': '',\n",
    "           'pre3': '',\n",
    "           'junk': ''\n",
    "          }\n",
    "    \n",
    "    try:\n",
    "        tokens = nombre.split()\n",
    "    except AttributeError:\n",
    "        # when something besids a string is passed in\n",
    "        tokens = []\n",
    "    \n",
    "    # get rid of rogue commas\n",
    "    if ',' in nombre:\n",
    "        print(nombre)\n",
    "        nombre = ' '.join(nombre.split(','))\n",
    "        \n",
    "    tlen = len(tokens)\n",
    "    \n",
    "    if tlen < 2:\n",
    "        return pd.Series(rec)\n",
    "    \n",
    "    elif tlen == 2:\n",
    "        rec['sur1'] = tokens[0]\n",
    "        rec['pre1'] = tokens[1]\n",
    "        \n",
    "    elif tlen == 3:\n",
    "        # assume only 1 surname - it's correct for extranjeros, and ecudoranos will get fixed by the algorithm\n",
    "        rec['sur1'] = tokens[0]\n",
    "        rec['pre1'] = tokens[1]\n",
    "        rec['pre2'] = tokens[2]\n",
    "        \n",
    "    else :\n",
    "        rec['sur1'] = tokens[0]\n",
    "        rec['sur2'] = tokens[1]\n",
    "        rec['pre1'] = tokens[2]\n",
    "        \n",
    "        if tlen > 4:\n",
    "            rec['pre3'] = tokens[4]\n",
    "        if tlen > 5:\n",
    "            rec['junk'] = ' '.join(tokens[5:])\n",
    "    return pd.Series(rec)"
   ]
  },
  {
   "cell_type": "code",
   "execution_count": null,
   "metadata": {},
   "outputs": [],
   "source": []
  },
  {
   "cell_type": "code",
   "execution_count": null,
   "metadata": {},
   "outputs": [],
   "source": [
    "def parse_column(rf, col):\n",
    "    namecols = ['sur1', 'sur2', 'pre1', 'pre2', 'pre3', 'junk']\n",
    "    \n",
    "    now = dt.datetime.now()\n",
    "    fname = col + \"_\" + now.strftime(\"%Y%m%dT%H%M\") + \".tsv\"\n",
    "    \n",
    "    datacol = rf[col]\n",
    "    cedulas = rf['cedula']\n",
    "    nlens = datacol.map(lambda x: len(x.split())).astype(str)\n",
    "    with open(fname, 'w') as f:\n",
    "        f.write('\\t'.join(['cedula','nombre','nlen'] + namecols) + '\\n')\n",
    "        for ind, nombre in tqdm(datacol.items()):\n",
    "            vals = write_nameparts(nombre)\n",
    "            f.write('\\t'.join([cedulas[ind], nombre, nlens[ind]] + [v for v in vals]) + '\\n')"
   ]
  },
  {
   "cell_type": "code",
   "execution_count": null,
   "metadata": {},
   "outputs": [],
   "source": [
    "%%time\n",
    "parse_column(rf, 'nombre')\n",
    "\n",
    "parse_column(rf, 'nombre_padre')\n",
    "\n",
    "parse_column(rf, 'nombre_madre')"
   ]
  },
  {
   "cell_type": "code",
   "execution_count": null,
   "metadata": {},
   "outputs": [],
   "source": []
  },
  {
   "cell_type": "code",
   "execution_count": null,
   "metadata": {},
   "outputs": [],
   "source": [
    "for i, target in datacol.items():\n",
    "    pass"
   ]
  },
  {
   "cell_type": "code",
   "execution_count": null,
   "metadata": {},
   "outputs": [],
   "source": [
    "datacol = rf['nombre']"
   ]
  },
  {
   "cell_type": "code",
   "execution_count": null,
   "metadata": {},
   "outputs": [],
   "source": [
    "for namefile in namefiles:\n",
    "    tokens = namefile.split(\"/\")\n",
    "    path = \"/\".join(tokens[:-1])\n",
    "    nameout = tokens[-1][:-4] + '_PARSED.tsv'\n",
    "    print(nameout)\n",
    "    \n",
    "    df = load_large_dta(namefile)\n",
    "    df.rename(columns={'name':'nombre', 'name_len':'nlen'}, inplace=True)\n",
    "    df['nlen'] = df.nlen.astype(str)\n",
    "#    df = pd.concat([df, df['nombre'].apply(split_firstlast)], axis=1)\n",
    "#    df = pd.concat([df, df['nombre'].apply(split_nameparts)], axis=1)\n",
    "\n",
    "    with open(nameout, 'w') as f:\n",
    "        f.write('\\t'.join(['cc','nombre','nlen'] + namecols) + '\\n')\n",
    "        for ind, row in tqdm(df.iterrows()):\n",
    "            vals = write_nameparts(row)\n",
    "            f.write('\\t'.join([row.cc, row.nombre, row.nlen] + [v for v in vals]) + '\\n')\n",
    "    \n",
    "    if i == 0:\n",
    "        ff = df.copy(deep=True)\n",
    "    i += 1"
   ]
  }
 ],
 "metadata": {
  "kernelspec": {
   "display_name": "Python (jhub)",
   "language": "python",
   "name": "jhub"
  },
  "language_info": {
   "codemirror_mode": {
    "name": "ipython",
    "version": 3
   },
   "file_extension": ".py",
   "mimetype": "text/x-python",
   "name": "python",
   "nbconvert_exporter": "python",
   "pygments_lexer": "ipython3",
   "version": "3.7.8"
  }
 },
 "nbformat": 4,
 "nbformat_minor": 4
}
