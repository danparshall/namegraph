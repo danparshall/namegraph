{
 "cells": [
  {
   "cell_type": "markdown",
   "metadata": {},
   "source": [
    "# Match parent (partial record)\n",
    "\n",
    "Now we get to the hard part - trying to find the parent record even when the full name hasn't been provided.  There are a few tricks here to make this tractable.\n",
    "\n",
    "    1 - split the dataframe in half on gender (i.e. only consider guys when looking for fathers)\n",
    "    2 - use \"categorical\" datatype, so we only have to check 30k names, not 18M records\n",
    "    3 - batch-process by surname (e.g. do everyone named \"LOPEZ\" at once; saves on search overhead)\n",
    "    4 - exclude candidates who are too young/old to be the parent\n",
    "    \n",
    "Together, those sped up the matching by a factor of ~100x.  It now runs in roughly a day.  For the padres, was able to identify around a third of the records (i.e. another 2M, bringing the total known links to 14M).  For the madres, I discovered that the prename assignment hadn't worked well, far too many had bad data.  I did a quick check, and unfortunately I think there's some issue with the extraction algorithm for madres (in NB3)."
   ]
  },
  {
   "cell_type": "code",
   "execution_count": null,
   "metadata": {},
   "outputs": [],
   "source": [
    "%matplotlib notebook\n",
    "\n",
    "import math\n",
    "import pandas as pd\n",
    "import numpy as np\n",
    "import datetime as dt\n",
    "import matplotlib.pyplot as plt\n",
    "import re\n",
    "import datetime as dt\n",
    "\n",
    "import unidecode\n",
    "from fuzzywuzzy import fuzz    \n",
    "    \n",
    "# enable progress bar on long operations\n",
    "from tqdm.auto import tqdm\n",
    "tqdm.pandas()\n",
    "\n",
    "from collections import Counter"
   ]
  },
  {
   "cell_type": "code",
   "execution_count": 43,
   "metadata": {},
   "outputs": [],
   "source": [
    "full_run = False\n",
    "N_ROWS = None #1000000\n",
    "READ_DATE = '20200824'\n",
    "READ_DATE = '20201026'\n",
    "READ_DATE = '20201111'\n",
    "\n",
    "\n",
    "LOC_RAW = \"../data/raw/\"\n",
    "LOC_INTERIM = \"../data/interim/\"\n",
    "\n",
    "\n",
    "MIN_PARENT_AGE = 12 # I truly hope there aren't any parents this young\n",
    "\n",
    "TODAY = dt.datetime.now().strftime('%Y%m%d')"
   ]
  },
  {
   "cell_type": "code",
   "execution_count": null,
   "metadata": {},
   "outputs": [],
   "source": [
    "%%time\n",
    "nan_values = ['-1.#IND', '1.#QNAN', '1.#IND', '-1.#QNAN', '#N/A N/A', '#N/A', 'N/A', 'n/a', # 'NA' is sometimes name\n",
    "              '<NA>', '#NA', 'NULL', 'null', 'NaN', '-NaN', 'nan', '-nan', '']\n",
    "\n",
    "\n",
    "\n",
    "# read cleaned-up input file\n",
    "print(\"LOADING REG DATA FOR : \" + READ_DATE)\n",
    "dtypes_reg = {'cedula':str, 'nombre':str, 'gender':'category', 'nationality':'category', \n",
    "             'orig_cedula':str, 'marital_status':'category', \n",
    "              'nombre_spouse':str, 'nombre_padre':str, 'nombre_madre':str,\n",
    "              'ced_spouse':str, 'ced_padre':str, 'ced_madre':str\n",
    "             }\n",
    "\n",
    "usecols = ['cedula', 'gender', 'dt_birth', 'dt_death', 'nombre_padre','ced_padre', 'nombre_madre','ced_madre', 'nombre_spouse']\n",
    "cols_reg = usecols[1:]\n",
    "\n",
    "if True:\n",
    "    rf = pd.read_csv(LOC_RAW + \"REG_NAMES_current.tsv\", sep='\\t', dtype=dtypes_reg,\n",
    "                     parse_dates=['dt_birth','dt_death'], usecols=usecols,\n",
    "                     keep_default_na=False, na_values=nan_values,\n",
    "                     nrows=N_ROWS\n",
    "                    )\n",
    "\n",
    "    for col in ['ced_madre','ced_padre', 'nombre_spouse']:\n",
    "        rf[col] = rf[col].fillna('')\n",
    "\n",
    "    print(\"Loaded {0} rows\".format(len(rf)))"
   ]
  },
  {
   "cell_type": "code",
   "execution_count": 6,
   "metadata": {},
   "outputs": [],
   "source": [
    "rf['has_pced'] = rf.ced_padre != ''\n",
    "rf['has_mced'] = rf.ced_madre != ''\n",
    "rf['yob'] = rf.dt_birth.dt.year"
   ]
  },
  {
   "cell_type": "code",
   "execution_count": null,
   "metadata": {},
   "outputs": [],
   "source": [
    "rf.groupby('yob').has_pced.mean()"
   ]
  },
  {
   "cell_type": "code",
   "execution_count": null,
   "metadata": {},
   "outputs": [],
   "source": [
    "fig, ax = plt.subplots()\n",
    "\n",
    "xlim = [1900,2020]\n",
    "ax.set(xlabel=\"year of birth\", ylabel=\"fract. with parent cedula\", xlim=xlim)\n",
    "ax.plot(xlim, [0,0], 'k--', alpha=0.3)\n",
    "ax.plot(xlim, [1,1], 'k--', alpha=0.3)\n",
    "ax.plot(rf.groupby('yob').has_pced.mean(), 'b-', label='pad. ced.');\n",
    "ax.plot(rf.groupby('yob').has_mced.mean(), 'r-', label='mad. ced.');\n",
    "ax.legend();"
   ]
  },
  {
   "cell_type": "code",
   "execution_count": 9,
   "metadata": {},
   "outputs": [],
   "source": [
    "READ_DATE = '20201111'"
   ]
  },
  {
   "cell_type": "code",
   "execution_count": null,
   "metadata": {},
   "outputs": [],
   "source": [
    "rf.head()"
   ]
  },
  {
   "cell_type": "code",
   "execution_count": null,
   "metadata": {},
   "outputs": [],
   "source": [
    "%%time\n",
    "dtypes_names = {'cedula':str, 'sur_padre':'category', 'sur_madre':'category', 'prenames':str,\n",
    "               'has_padre':bool, 'has_madre':bool, 'is_plegal':bool, 'is_mlegal':bool,\n",
    "                'gender':int, \n",
    "               }\n",
    "\n",
    "usecols_names = ['cedula', 'nombre', 'prenames', 'gender',\n",
    "                 'nombre_padre',\n",
    "                'sur_padre', 'has_padre', 'is_plegal', \n",
    "                'sur_madre', 'has_madre', 'is_mlegal',\n",
    "                'is_funky',\n",
    "                ]\n",
    "\n",
    "\n",
    "nf = pd.read_csv(\"names_parsed_20200721.tsv\", sep='\\t', dtype = dtypes_names)\n",
    "\n",
    "# ~90 sec"
   ]
  },
  {
   "cell_type": "code",
   "execution_count": null,
   "metadata": {},
   "outputs": [],
   "source": []
  },
  {
   "cell_type": "code",
   "execution_count": null,
   "metadata": {},
   "outputs": [],
   "source": [
    "\"\"\"\n",
    "year  pop (millions)   myest\n",
    "1950  3.47        2.309\n",
    "1960  4.54        3.699\n",
    "1970  6.07        5.646\n",
    "1980  7.99        8.064\n",
    "1990 10.23       10.81\n",
    "2000 12.68       13.77 \n",
    "2010 15.01       16.72\n",
    "2020 17.6 (est)  18.69\n",
    "\n",
    "\"\"\"\n",
    "\n",
    "for y in np.arange(1900,2021,10):\n",
    "    y_beg = dt.datetime(y-78,1,1)\n",
    "    y_end = dt.datetime(y,1,1)\n",
    "    print('{0} {1:>8}'.format(y, ((rf.dt_birth >= y_beg) & (rf.dt_birth < y_end) ).sum()))"
   ]
  },
  {
   "cell_type": "code",
   "execution_count": null,
   "metadata": {},
   "outputs": [],
   "source": [
    "guys = nf[nf.gender == 1]\n",
    "gals = nf[nf.gender == 2]\n",
    "len(guys)\n",
    "len(gals)"
   ]
  },
  {
   "cell_type": "markdown",
   "metadata": {},
   "source": [
    "# Load parsed namedata"
   ]
  },
  {
   "cell_type": "code",
   "execution_count": null,
   "metadata": {},
   "outputs": [],
   "source": [
    "%%time\n",
    "\n",
    "dtypes_names = {'cedula':str, 'nombre':str, 'sur_padre':'category', 'sur_madre':'category',\n",
    "               'pre1':'category', 'pre2':'category', 'pre3':'category',\n",
    "                'junk':str, 'nlen':int\n",
    "               }\n",
    "usecols_names = ['cedula', 'sur_padre', 'sur_madre', 'pre1', 'pre2', 'pre3', 'junk', 'nlen']\n",
    "\n",
    "loc_names = LOC_INTERIM + \"NEWFREQFILE_\" + READ_DATE + \".tsv\"\n",
    "names = pd.read_csv(loc_names, sep='\\t', dtype=dtypes_names, usecols=usecols_names)"
   ]
  },
  {
   "cell_type": "code",
   "execution_count": 15,
   "metadata": {},
   "outputs": [],
   "source": [
    "cols_cat = ['sur_padre','sur_madre', 'pre1', 'pre2', 'pre3']\n",
    "    \n",
    "for col in cols_cat:\n",
    "    names[col].cat.add_categories('', inplace=True)\n",
    "    names[col].fillna('', inplace=True)\n",
    "\n",
    "names['junk'].fillna('', inplace=True)"
   ]
  },
  {
   "cell_type": "code",
   "execution_count": null,
   "metadata": {},
   "outputs": [],
   "source": [
    "names.head()"
   ]
  },
  {
   "cell_type": "code",
   "execution_count": null,
   "metadata": {},
   "outputs": [],
   "source": []
  },
  {
   "cell_type": "code",
   "execution_count": null,
   "metadata": {},
   "outputs": [],
   "source": [
    "%%time\n",
    "names = names.merge(rf, on='cedula', how='left')"
   ]
  },
  {
   "cell_type": "code",
   "execution_count": null,
   "metadata": {},
   "outputs": [],
   "source": [
    "names.head()"
   ]
  },
  {
   "cell_type": "markdown",
   "metadata": {},
   "source": [
    "## Load matched data"
   ]
  },
  {
   "cell_type": "code",
   "execution_count": null,
   "metadata": {},
   "outputs": [],
   "source": [
    "%%time\n",
    "pmatch = pd.read_csv(LOC_INTERIM + 'matched_padres_' + READ_DATE + '.tsv', sep='\\t', dtype=str,) # usecols=['cedula'])\n",
    "len(pmatch)"
   ]
  },
  {
   "cell_type": "code",
   "execution_count": null,
   "metadata": {},
   "outputs": [],
   "source": [
    "%%time\n",
    "mmatch = pd.read_csv(LOC_INTERIM + 'matched_madres_' + READ_DATE + '.tsv', sep='\\t', dtype=str,) # usecols=['cedula'])\n",
    "len(mmatch)"
   ]
  },
  {
   "cell_type": "code",
   "execution_count": null,
   "metadata": {},
   "outputs": [],
   "source": [
    "pmatch.head()"
   ]
  },
  {
   "cell_type": "code",
   "execution_count": null,
   "metadata": {},
   "outputs": [],
   "source": [
    "pmatch[pmatch.padre_official.isnull() | pmatch.padre_matched.isnull()]"
   ]
  },
  {
   "cell_type": "code",
   "execution_count": null,
   "metadata": {},
   "outputs": [],
   "source": [
    "pmatch.padre_official.isnull().sum()"
   ]
  },
  {
   "cell_type": "markdown",
   "metadata": {},
   "source": [
    "## Load parsed parent names"
   ]
  },
  {
   "cell_type": "code",
   "execution_count": null,
   "metadata": {},
   "outputs": [],
   "source": [
    "#ceds_found_padre = set(nf[nf.cedula.isin(set(pmatch.cedula)) & (nf.ced_padre != \"\")].cedula)\n",
    "ceds_found_padre = set(names[names.cedula.isin(set(pmatch.cedula)) | (names.ced_padre != '')].cedula)\n",
    "#ceds_found_padre = set(pmatch.cedula)\n",
    "len(ceds_found_padre)"
   ]
  },
  {
   "cell_type": "code",
   "execution_count": null,
   "metadata": {},
   "outputs": [],
   "source": [
    "ceds_found_madre = set(names[names.cedula.isin(set(mmatch.cedula)) \n",
    "                             | (names.ced_madre != '')].cedula)\n",
    "len(ceds_found_madre)"
   ]
  },
  {
   "cell_type": "code",
   "execution_count": null,
   "metadata": {},
   "outputs": [],
   "source": [
    "(names.ced_padre != '').sum()"
   ]
  },
  {
   "cell_type": "code",
   "execution_count": null,
   "metadata": {},
   "outputs": [],
   "source": []
  },
  {
   "cell_type": "code",
   "execution_count": null,
   "metadata": {},
   "outputs": [],
   "source": [
    "%%time\n",
    "dtype_parsed = {'cedula':str,\n",
    "                'sur1':'category', 'sur2':'category', \n",
    "                'pre1':'category', 'pre2':'category', 'pre3':'category', \n",
    "                'junk':str}\n",
    "\n",
    "pparsed = pd.read_csv('../data/interim/PADRES_20201111.tsv', sep='\\t', dtype=dtype_parsed)\n",
    "\n",
    "# fill NaN with empty string\n",
    "for col in ['sur1', 'sur2', 'pre1', 'pre2', 'pre3']:\n",
    "    pparsed[col].cat.add_categories('', inplace=True)\n",
    "pparsed.fillna('', inplace=True)\n",
    "\n",
    "len(pparsed)"
   ]
  },
  {
   "cell_type": "code",
   "execution_count": null,
   "metadata": {},
   "outputs": [],
   "source": [
    "pparsed = pparsed[~pparsed.cedula.isin(ceds_found_padre)]   # 12 M recs, 34517 names\n",
    "len(pparsed)"
   ]
  },
  {
   "cell_type": "code",
   "execution_count": null,
   "metadata": {},
   "outputs": [],
   "source": [
    "%%time\n",
    "\n",
    "mparsed = pd.read_csv('../data/interim/MADRES_20201111.tsv', sep='\\t', \n",
    "                      dtype=dtype_parsed)\n",
    "\n",
    "# fill NaN with empty string\n",
    "for col in ['sur1', 'sur2', 'pre1', 'pre2', 'pre3']:\n",
    "    mparsed[col].cat.add_categories('', inplace=True)\n",
    "mparsed.fillna('', inplace=True)\n",
    "\n",
    "len(mparsed)"
   ]
  },
  {
   "cell_type": "code",
   "execution_count": null,
   "metadata": {},
   "outputs": [],
   "source": [
    "mparsed = mparsed[~mparsed.cedula.isin(ceds_found_madre)]   # 12 M recs, 34517 names\n",
    "len(mparsed)"
   ]
  },
  {
   "cell_type": "code",
   "execution_count": null,
   "metadata": {},
   "outputs": [],
   "source": []
  },
  {
   "cell_type": "code",
   "execution_count": null,
   "metadata": {},
   "outputs": [],
   "source": [
    "ITERS_PER_SEC = 40\n",
    "SECS_PER_DAY = 60*60*24\n",
    "len(pparsed) / ITERS_PER_SEC / SECS_PER_DAY"
   ]
  },
  {
   "cell_type": "code",
   "execution_count": null,
   "metadata": {},
   "outputs": [],
   "source": [
    "nc = pd.read_csv('../data/interim/NAMECOUNTS_20201111.tsv', sep='\\t')\n",
    "len(nc)"
   ]
  },
  {
   "cell_type": "code",
   "execution_count": null,
   "metadata": {},
   "outputs": [],
   "source": [
    "pcount = pparsed.sur1.value_counts()\n",
    "pcount[pcount > 1]"
   ]
  },
  {
   "cell_type": "code",
   "execution_count": null,
   "metadata": {},
   "outputs": [],
   "source": [
    "mcount = mparsed.sur1.value_counts()\n",
    "mcount[mcount > 1][:10]"
   ]
  },
  {
   "cell_type": "code",
   "execution_count": null,
   "metadata": {},
   "outputs": [],
   "source": [
    "surm_unique = set(mcount[mcount <= 1].index)\n",
    "len(surm_unique)"
   ]
  },
  {
   "cell_type": "code",
   "execution_count": null,
   "metadata": {},
   "outputs": [],
   "source": [
    "surp_unique = set(pcount[pcount <= 1].index)\n",
    "len(surp_unique)"
   ]
  },
  {
   "cell_type": "code",
   "execution_count": null,
   "metadata": {},
   "outputs": [],
   "source": [
    "surp_multi = set(pcount[pcount > 1].index)\n",
    "len(surp_multi)"
   ]
  },
  {
   "cell_type": "code",
   "execution_count": null,
   "metadata": {},
   "outputs": [],
   "source": [
    "surm_multi = set(mcount[mcount > 1].index)\n",
    "len(surm_multi)"
   ]
  },
  {
   "cell_type": "markdown",
   "metadata": {},
   "source": [
    "# Match\n",
    "\n",
    "### 99th % for age is 53.7 for men, 42.8 for women\n"
   ]
  },
  {
   "cell_type": "code",
   "execution_count": null,
   "metadata": {},
   "outputs": [],
   "source": [
    "guys = names[names.gender=='1']\n",
    "len(guys)"
   ]
  },
  {
   "cell_type": "code",
   "execution_count": 35,
   "metadata": {},
   "outputs": [],
   "source": [
    "MAX_PADRE_AGE = 53.7\n",
    "MAX_MADRE_AGE = 42.8"
   ]
  },
  {
   "cell_type": "code",
   "execution_count": null,
   "metadata": {},
   "outputs": [],
   "source": [
    "guys.drop(columns=['has_pced','has_mced','yob'], inplace=True)"
   ]
  },
  {
   "cell_type": "code",
   "execution_count": null,
   "metadata": {},
   "outputs": [],
   "source": [
    "guys.head()"
   ]
  },
  {
   "cell_type": "code",
   "execution_count": null,
   "metadata": {},
   "outputs": [],
   "source": []
  },
  {
   "cell_type": "code",
   "execution_count": null,
   "metadata": {},
   "outputs": [],
   "source": [
    "def match_padre(par, nf, guys):\n",
    "    \n",
    "    try:\n",
    "        rec = nf[nf.cedula == par.cedula].iloc[0]\n",
    "    except IndexError:\n",
    "        return None\n",
    "    \n",
    "\n",
    "    sub = guys[ (guys.sur_padre == par.sur1) ]\n",
    "    sub = sub[(sub.dt_birth < rec.dt_birth - dt.timedelta(365.2425*MIN_PARENT_AGE))]\n",
    "    sub = sub[(sub.dt_birth > rec.dt_birth - dt.timedelta(365.2425*MAX_PADRE_AGE))]\n",
    "    \n",
    "    if par.sur2:\n",
    "        sub = sub[sub.sur_madre == par.sur2]\n",
    "    \n",
    "    if par.pre1:\n",
    "        sub = sub[sub.prenames.map(lambda x: par.pre1 in x)]\n",
    "    if len(sub) == 0:\n",
    "        return None\n",
    "    \n",
    "    if par.pre2:\n",
    "        sub = sub[sub.prenames.map(lambda x: par.pre2 in x)]\n",
    "    if len(sub) == 0:\n",
    "        return None\n",
    "    \n",
    "    if par.pre3:\n",
    "        sub = sub[sub.prenames.map(lambda x: par.pre3 in x)]\n",
    "    if len(sub) == 0:\n",
    "        return None\n",
    "    \n",
    "\n",
    "    elif len(sub) == 1:\n",
    "        return sub.iloc[0].cedula\n",
    "    else:\n",
    "        return \"Found {0} options\".format(len(sub))  "
   ]
  },
  {
   "cell_type": "code",
   "execution_count": 52,
   "metadata": {},
   "outputs": [],
   "source": [
    "def match_padre_namedata(par, sub):    \n",
    "\n",
    "    \n",
    "    if par.sur2:\n",
    "        sub = sub[sub.sur_madre == par.sur2]\n",
    "        \n",
    "    # if we have 2 prenames, use them in sequence\n",
    "    if par.pre2:\n",
    "        sub = sub[(sub.pre1 == par.pre1) & (sub.pre2 == par.pre2)]\n",
    "    if len(sub) == 0:\n",
    "        return ''\n",
    "    \n",
    "    # if we only have 1 prename, it might be in either column\n",
    "    if par.pre1:\n",
    "        sub = sub[(sub.pre1 == par.pre1) | (sub.pre2 == par.pre1)]\n",
    "        \n",
    "    # check mother's name against candidate's spouse\n",
    "    if (len(sub) > 1) and par.sur2:\n",
    "        tmp = sub[sub.nombre_spouse.map(lambda x: par.sur2 in x)]\n",
    "        if len(tmp) > 0:\n",
    "            return \"MAMAS: \" + ';'.join(list(set(tmp.cedula)))\n",
    "        \n",
    "    # return results\n",
    "    if len(sub) == 0:\n",
    "        return ''\n",
    "    elif len(sub) == 1:\n",
    "        return sub.iloc[0].cedula\n",
    "    elif len(sub) < 100:\n",
    "        return ';'.join(list(set(sub.cedula)))\n",
    "    else:\n",
    "        return \"Found {0} options\".format(len(sub))"
   ]
  },
  {
   "cell_type": "code",
   "execution_count": 104,
   "metadata": {},
   "outputs": [],
   "source": [
    "def match_madre_namedata(par, sub):    \n",
    "\n",
    "    if par.sur2:\n",
    "        sub = sub[sub.sur_madre == par.sur2]\n",
    "        \n",
    "    # if we have 2 prenames, use them in sequence\n",
    "    if par.pre2:\n",
    "        sub = sub[(sub.pre1 == par.pre1) & (sub.pre2 == par.pre2)]\n",
    "    if len(sub) == 0:\n",
    "        return ''\n",
    "    \n",
    "    # if we only have 1 prename, it might be in either column\n",
    "    if par.pre1:\n",
    "        sub = sub[(sub.pre1 == par.pre1) | (sub.pre2 == par.pre1)]\n",
    "        \n",
    "    # check father's name against candidate's spouse\n",
    "    if (len(sub) > 1) and par.sur1:\n",
    "        tmp = sub[sub.nombre_spouse.map(lambda x: par.sur1 in x)]\n",
    "        if len(tmp) > 0:\n",
    "            return \"PAPAS: \" + ';'.join(list(set(tmp.cedula)))\n",
    "        \n",
    "    # return results\n",
    "    if len(sub) == 0:\n",
    "        return ''\n",
    "    elif len(sub) == 1:\n",
    "        return sub.iloc[0].cedula\n",
    "    elif len(sub) < 100:\n",
    "        return ';'.join(list(set(sub.cedula)))\n",
    "    else:\n",
    "        return \"Found {0} options\".format(len(sub))"
   ]
  },
  {
   "cell_type": "code",
   "execution_count": null,
   "metadata": {},
   "outputs": [],
   "source": [
    "%%time\n",
    "\n",
    "\n",
    "### NB - check to see if the categoricals persist in the \"sub_citizens\" frame.  May be worthwhile\n",
    "\n",
    "file_out = 'MADRES_matched_by_name_' + TODAY + '.tsv'\n",
    "with open(file_out, 'wt') as f:\n",
    "    results = []\n",
    "    past = set()\n",
    "\n",
    "    for ind, chk_name in tqdm(enumerate(sorted(mcount[mcount > 1].index))):\n",
    "\n",
    "        if ind % 1000 == 0:\n",
    "            print(\"  >>>>>>>>>>>> ITER \" + str(ind))\n",
    "\n",
    "        if pd.isnull(chk_name) or chk_name == '':\n",
    "            continue\n",
    "\n",
    "        # copying only takes ~15 mins overhead, and probably makes subsequent searching faster.  Do it.\n",
    "        sub_citizens = gals[gals.sur_padre == chk_name].copy(deep=True)\n",
    "        sub_madres = mparsed[mparsed.sur1 == chk_name]\n",
    "\n",
    "        if len(sub_madres) > 1000:\n",
    "            print(chk_name, len(sub_madres))   # show the progress if there are a lot of names\n",
    "            for par in tqdm(sub_madres.itertuples()) :\n",
    "                if par.cedula in past:\n",
    "                    break\n",
    "                out = match_madre_namedata(par, sub_citizens)\n",
    "                results.append((par.cedula, out))\n",
    "                past.add(par.cedula)\n",
    "                f.write(par.cedula + '\\t' + out + '\\n')\n",
    "        else:\n",
    "            for par in sub_madres.itertuples():\n",
    "                if par.cedula in past:\n",
    "                    break\n",
    "                out = match_madre_namedata(par, sub_citizens)\n",
    "                results.append((par.cedula, out))\n",
    "                past.add(par.cedula)\n",
    "                f.write(par.cedula + '\\t' + out + '\\n')"
   ]
  },
  {
   "cell_type": "code",
   "execution_count": null,
   "metadata": {},
   "outputs": [],
   "source": [
    "results[:10]"
   ]
  },
  {
   "cell_type": "code",
   "execution_count": null,
   "metadata": {},
   "outputs": [],
   "source": [
    "%%time\n",
    "\n",
    "\n",
    "### NB - check to see if the categoricals persist in the \"sub_citizens\" frame.  May be worthwhile\n",
    "\n",
    "file_out = 'PADRES_matched_by_name_' + TODAY + '.tsv'\n",
    "with open(file_out, 'wt') as f:\n",
    "    results = []\n",
    "    past = set()\n",
    "\n",
    "    for ind, chk_name in tqdm(enumerate(sorted(pcount[pcount > 1].index))):\n",
    "\n",
    "        if ind % 1000 == 0:\n",
    "            print(\"  >>>>>>>>>>>> ITER \" + str(ind))\n",
    "\n",
    "        if pd.isnull(chk_name) or chk_name == '':\n",
    "            continue\n",
    "\n",
    "        # copying only takes ~15 mins overhead, and probably makes subsequent searching faster.  Do it.\n",
    "        sub_citizens = guys[guys.sur_padre == chk_name].copy(deep=True)\n",
    "\n",
    "        sub_padres = pparsed[pparsed.sur1 == chk_name]\n",
    "\n",
    "        if len(sub_padres) > 1000:\n",
    "            print(chk_name, len(sub_padres))   # show the progress if there are a lot of names\n",
    "            for par in tqdm(sub_padres.itertuples()) :\n",
    "                if par.cedula in past:\n",
    "                    break\n",
    "                out = match_padre_namedata(par, sub_citizens)\n",
    "                results.append((par.cedula, out))\n",
    "                past.add(par.cedula)\n",
    "                f.write(par.cedula + '\\t' + out + '\\n')\n",
    "        else:\n",
    "            for par in sub_padres.itertuples():\n",
    "                if par.cedula in past:\n",
    "                    break\n",
    "                out = match_padre_namedata(par, sub_citizens)\n",
    "                results.append((par.cedula, out))\n",
    "                past.add(par.cedula)\n",
    "                f.write(par.cedula + '\\t' + out + '\\n')"
   ]
  },
  {
   "cell_type": "code",
   "execution_count": null,
   "metadata": {
    "scrolled": true
   },
   "outputs": [],
   "source": [
    "%%time\n",
    "\n",
    "results = []\n",
    "past = set()\n",
    "    \n",
    "for ind, chk_name in tqdm(enumerate(set(pcount[pcount > 1].index))):\n",
    "    \n",
    "    if ind % 1000 == 0:\n",
    "        print(\"  ITER \" + str(ind))\n",
    "    \n",
    "    if pd.isnull(chk_name) or chk_name == '':\n",
    "        continue\n",
    "    \n",
    "    # copying only takes ~15 mins overhead, and probably makes subsequent searching faster.  Do it.\n",
    "    sub_citizens = guys[guys.sur_padre == chk_name].copy(deep=True)\n",
    "    \n",
    "    sub_padres = pparsed[pparsed.sur1 == chk_name]\n",
    "    \n",
    "    if len(sub_padres) > 1000:\n",
    "        print(chk_name, len(sub_padres))   # show the progress if there are a lot of names\n",
    "        for par in tqdm(sub_padres.itertuples()) :\n",
    "            if par.cedula in past:\n",
    "                break\n",
    "            out = match_padre_namedata(par, sub_citizens)\n",
    "            results.append((par.cedula, out))\n",
    "            past.add(par.cedula)\n",
    "    else:\n",
    "        for par in sub_padres.itertuples():\n",
    "            if par.cedula in past:\n",
    "                break\n",
    "            out = match_padre_namedata(par, sub_citizens)\n",
    "            results.append((par.cedula, out))\n",
    "            past.add(par.cedula)"
   ]
  },
  {
   "cell_type": "code",
   "execution_count": null,
   "metadata": {},
   "outputs": [],
   "source": []
  },
  {
   "cell_type": "code",
   "execution_count": null,
   "metadata": {},
   "outputs": [],
   "source": [
    "gals = names[names.gender=='2']\n",
    "gals.drop(columns=['has_pced','has_mced','yob'], inplace=True)\n",
    "len(gals)"
   ]
  },
  {
   "cell_type": "code",
   "execution_count": null,
   "metadata": {},
   "outputs": [],
   "source": []
  },
  {
   "cell_type": "code",
   "execution_count": null,
   "metadata": {},
   "outputs": [],
   "source": [
    "df = pd.DataFrame(data = zip(*results)) #, columns=['ced_kid', 'ced_pad'])\n",
    "df = df.T\n",
    "df.columns = ['ced_kid', 'ced_pad']\n",
    "len(df)"
   ]
  },
  {
   "cell_type": "code",
   "execution_count": null,
   "metadata": {},
   "outputs": [],
   "source": [
    "df[df.ced_pad.notnull()][-40:]"
   ]
  },
  {
   "cell_type": "code",
   "execution_count": null,
   "metadata": {},
   "outputs": [],
   "source": [
    "df[df.ced_pad.map(lambda x: x.startswith(\"Found\"))]  #[df.ced_pad == '']"
   ]
  },
  {
   "cell_type": "code",
   "execution_count": null,
   "metadata": {},
   "outputs": [],
   "source": [
    "len(df)"
   ]
  },
  {
   "cell_type": "code",
   "execution_count": 79,
   "metadata": {},
   "outputs": [],
   "source": [
    "df.fillna('', inplace=True)"
   ]
  },
  {
   "cell_type": "code",
   "execution_count": null,
   "metadata": {},
   "outputs": [],
   "source": [
    "df[df.ced_pad.map(lambda x: (x != '') and (\"Found\" not in x))]\n"
   ]
  },
  {
   "cell_type": "code",
   "execution_count": null,
   "metadata": {},
   "outputs": [],
   "source": []
  },
  {
   "cell_type": "code",
   "execution_count": null,
   "metadata": {},
   "outputs": [],
   "source": [
    "top_0 = set(nc[(nc.n_sur > 100000)].obsname)  # eg PAREDES\n",
    "len(top_0) * 90"
   ]
  },
  {
   "cell_type": "code",
   "execution_count": null,
   "metadata": {},
   "outputs": [],
   "source": [
    "top_1 = set(nc[(nc.n_sur < 100000) & (nc.n_sur >= 10000)].obsname)  # eg VILLALBA\n",
    "len(top_1) * 6"
   ]
  },
  {
   "cell_type": "code",
   "execution_count": null,
   "metadata": {},
   "outputs": [],
   "source": [
    "top_2 = set(nc[(nc.n_sur < 10000) & (nc.n_sur >= 1000)].obsname)   # eg CORDOVEZ\n",
    "len(top_2)"
   ]
  },
  {
   "cell_type": "code",
   "execution_count": null,
   "metadata": {},
   "outputs": [],
   "source": [
    "top_3 = set(nc[(nc.n_sur < 1000) & (nc.n_sur >= 100)].obsname)   # eg CORDOVEZ\n",
    "len(top_3)"
   ]
  },
  {
   "cell_type": "code",
   "execution_count": null,
   "metadata": {},
   "outputs": [],
   "source": [
    "24*60"
   ]
  },
  {
   "cell_type": "code",
   "execution_count": null,
   "metadata": {},
   "outputs": [],
   "source": [
    "df = pd.read_csv('partial_padre_matching_20201120.tsv', sep='\\t')\n",
    "len(df)"
   ]
  },
  {
   "cell_type": "code",
   "execution_count": null,
   "metadata": {},
   "outputs": [],
   "source": [
    "df.head()"
   ]
  },
  {
   "cell_type": "code",
   "execution_count": null,
   "metadata": {},
   "outputs": [],
   "source": [
    "df.ced_pad.isnull().sum()  # 255k (20%, can't find candidate"
   ]
  },
  {
   "cell_type": "code",
   "execution_count": null,
   "metadata": {},
   "outputs": [],
   "source": [
    "df.fillna('', inplace=True)\n",
    "df[df.ced_pad.map(lambda x: x.startswith('Found'))]   # 893k (68%) have multiple options"
   ]
  },
  {
   "cell_type": "code",
   "execution_count": null,
   "metadata": {},
   "outputs": [],
   "source": [
    "df[df.ced_pad.map(lambda x: not x.startswith('Found'))]  # 414k (31%) have single match"
   ]
  },
  {
   "cell_type": "code",
   "execution_count": null,
   "metadata": {},
   "outputs": [],
   "source": [
    "413/1307"
   ]
  },
  {
   "cell_type": "code",
   "execution_count": null,
   "metadata": {},
   "outputs": [],
   "source": [
    "def get_n_cand(res):\n",
    "    if pd.isnull(res) or res == '':\n",
    "        return 0\n",
    "    elif res.startswith('Found'):\n",
    "        return float(res.split()[1])\n",
    "    else:\n",
    "        return 1"
   ]
  },
  {
   "cell_type": "code",
   "execution_count": null,
   "metadata": {},
   "outputs": [],
   "source": [
    "df['n_cand'] = df.ced_pad.map(get_n_cand)"
   ]
  },
  {
   "cell_type": "code",
   "execution_count": null,
   "metadata": {},
   "outputs": [],
   "source": [
    "df.describe()"
   ]
  },
  {
   "cell_type": "code",
   "execution_count": null,
   "metadata": {},
   "outputs": [],
   "source": [
    "df[df.n_cand > 1].describe()"
   ]
  },
  {
   "cell_type": "code",
   "execution_count": null,
   "metadata": {},
   "outputs": [],
   "source": []
  },
  {
   "cell_type": "code",
   "execution_count": null,
   "metadata": {},
   "outputs": [],
   "source": [
    "rec = nf[nf.cedula == par.cedula].iloc[0]\n",
    "rec"
   ]
  },
  {
   "cell_type": "code",
   "execution_count": null,
   "metadata": {},
   "outputs": [],
   "source": [
    "sub = guys[ (guys.sur_padre == par.sur1) ]\n",
    "sub = sub[(sub.dt_birth < rec.dt_birth - dt.timedelta(365.2425*MIN_PARENT_AGE))]\n",
    "sub = sub[(sub.dt_birth > rec.dt_birth - dt.timedelta(365.2425*MAX_PADRE_AGE))]\n",
    "sub"
   ]
  },
  {
   "cell_type": "code",
   "execution_count": null,
   "metadata": {},
   "outputs": [],
   "source": [
    "if par.sur2:\n",
    "    sub = sub[sub.sur_madre == par.sur2]\n",
    "sub"
   ]
  },
  {
   "cell_type": "code",
   "execution_count": null,
   "metadata": {},
   "outputs": [],
   "source": [
    "sub = sub[sub.prenames.map(lambda x: (par.pre1.strip() in x) )]\n",
    "sub"
   ]
  },
  {
   "cell_type": "code",
   "execution_count": null,
   "metadata": {},
   "outputs": [],
   "source": [
    "if par.pre2:\n",
    "    sub = sub[sub.prenames.map(lambda x: par.pre2 in x)]\n",
    "\n",
    "if par.pre3:\n",
    "    sub = sub[sub.prenames.map(lambda x: par.pre3 in x)]\n",
    "    \n",
    "print(len(sub))"
   ]
  },
  {
   "cell_type": "code",
   "execution_count": null,
   "metadata": {
    "scrolled": false
   },
   "outputs": [],
   "source": [
    "sub[sub.nombre_spouse == \"\"] #[sub.prenames.map(lambda x: \"FRANCISCO\" in x)]"
   ]
  }
 ],
 "metadata": {
  "kernelspec": {
   "display_name": "conda_tensorflow_p36",
   "language": "python",
   "name": "conda_tensorflow_p36"
  },
  "language_info": {
   "codemirror_mode": {
    "name": "ipython",
    "version": 3
   },
   "file_extension": ".py",
   "mimetype": "text/x-python",
   "name": "python",
   "nbconvert_exporter": "python",
   "pygments_lexer": "ipython3",
   "version": "3.6.10"
  }
 },
 "nbformat": 4,
 "nbformat_minor": 4
}
