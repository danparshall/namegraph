{
 "cells": [
  {
   "attachments": {},
   "cell_type": "markdown",
   "metadata": {},
   "source": [
    "# Firm Centrality Statistics"
   ]
  },
  {
   "cell_type": "code",
   "execution_count": null,
   "metadata": {},
   "outputs": [],
   "source": [
    "import pandas as pd\n",
    "import seaborn as sns\n",
    "import matplotlib.pyplot as plt"
   ]
  },
  {
   "cell_type": "code",
   "execution_count": 3,
   "metadata": {},
   "outputs": [],
   "source": [
    "main_dir = \"/home/juan.russy/shared/FamilyNetwork/firms_nihs_centrality.tsv\"\n",
    "firm_centrality = pd.read_csv(main_dir, sep='\\t', encoding='utf-8')"
   ]
  },
  {
   "attachments": {},
   "cell_type": "markdown",
   "metadata": {},
   "source": [
    "## Number of Employees Analysis"
   ]
  },
  {
   "attachments": {},
   "cell_type": "markdown",
   "metadata": {},
   "source": [
    "There exist 206.185 firms with one employee, 65.121 with two, 31.405 with three, etc.\n",
    "\n",
    "The company with the largest amount of employees has 1414."
   ]
  },
  {
   "cell_type": "code",
   "execution_count": 18,
   "metadata": {},
   "outputs": [
    {
     "data": {
      "text/html": [
       "<div>\n",
       "<style scoped>\n",
       "    .dataframe tbody tr th:only-of-type {\n",
       "        vertical-align: middle;\n",
       "    }\n",
       "\n",
       "    .dataframe tbody tr th {\n",
       "        vertical-align: top;\n",
       "    }\n",
       "\n",
       "    .dataframe thead th {\n",
       "        text-align: right;\n",
       "    }\n",
       "</style>\n",
       "<table border=\"1\" class=\"dataframe\">\n",
       "  <thead>\n",
       "    <tr style=\"text-align: right;\">\n",
       "      <th></th>\n",
       "      <th>index</th>\n",
       "      <th>num_employees</th>\n",
       "    </tr>\n",
       "  </thead>\n",
       "  <tbody>\n",
       "    <tr>\n",
       "      <th>0</th>\n",
       "      <td>1</td>\n",
       "      <td>206185</td>\n",
       "    </tr>\n",
       "    <tr>\n",
       "      <th>1</th>\n",
       "      <td>2</td>\n",
       "      <td>65121</td>\n",
       "    </tr>\n",
       "    <tr>\n",
       "      <th>2</th>\n",
       "      <td>3</td>\n",
       "      <td>31405</td>\n",
       "    </tr>\n",
       "    <tr>\n",
       "      <th>3</th>\n",
       "      <td>4</td>\n",
       "      <td>17726</td>\n",
       "    </tr>\n",
       "    <tr>\n",
       "      <th>4</th>\n",
       "      <td>5</td>\n",
       "      <td>11108</td>\n",
       "    </tr>\n",
       "    <tr>\n",
       "      <th>...</th>\n",
       "      <td>...</td>\n",
       "      <td>...</td>\n",
       "    </tr>\n",
       "    <tr>\n",
       "      <th>174</th>\n",
       "      <td>592</td>\n",
       "      <td>1</td>\n",
       "    </tr>\n",
       "    <tr>\n",
       "      <th>191</th>\n",
       "      <td>604</td>\n",
       "      <td>1</td>\n",
       "    </tr>\n",
       "    <tr>\n",
       "      <th>165</th>\n",
       "      <td>680</td>\n",
       "      <td>1</td>\n",
       "    </tr>\n",
       "    <tr>\n",
       "      <th>180</th>\n",
       "      <td>1078</td>\n",
       "      <td>1</td>\n",
       "    </tr>\n",
       "    <tr>\n",
       "      <th>178</th>\n",
       "      <td>1414</td>\n",
       "      <td>1</td>\n",
       "    </tr>\n",
       "  </tbody>\n",
       "</table>\n",
       "<p>212 rows × 2 columns</p>\n",
       "</div>"
      ],
      "text/plain": [
       "     index  num_employees\n",
       "0        1         206185\n",
       "1        2          65121\n",
       "2        3          31405\n",
       "3        4          17726\n",
       "4        5          11108\n",
       "..     ...            ...\n",
       "174    592              1\n",
       "191    604              1\n",
       "165    680              1\n",
       "180   1078              1\n",
       "178   1414              1\n",
       "\n",
       "[212 rows x 2 columns]"
      ]
     },
     "execution_count": 18,
     "metadata": {},
     "output_type": "execute_result"
    }
   ],
   "source": [
    "n_emp = firm_centrality.num_employees.value_counts().reset_index(drop=False).sort_values(by='index')\n",
    "n_emp.columns = ['num_employees', 'count']\n",
    "n_emp"
   ]
  },
  {
   "cell_type": "code",
   "execution_count": 8,
   "metadata": {},
   "outputs": [
    {
     "data": {
      "text/plain": [
       "<AxesSubplot:>"
      ]
     },
     "execution_count": 8,
     "metadata": {},
     "output_type": "execute_result"
    },
    {
     "data": {
      "image/png": "[encoded data removed]",
      "text/plain": [
       "<Figure size 432x288 with 1 Axes>"
      ]
     },
     "metadata": {
      "needs_background": "light"
     },
     "output_type": "display_data"
    }
   ],
   "source": [
    "ax = firm_centrality.num_employees.value_counts().head(10).plot(kind='bar')\n",
    "ax.set_title('Number of firms by number of employees', fontsize=16)\n",
    "ax.set_xlabel('Number of employees', fontsize=14)\n",
    "ax.set_ylabel('Number of firms', fontsize=14)\n",
    "plt.savefig('/home/juan.russy/shared/FamilyNetwork/num_firms_num_emp.png',\n",
    "            dpi=300, bbox_inches='tight')\n"
   ]
  },
  {
   "attachments": {},
   "cell_type": "markdown",
   "metadata": {},
   "source": [
    "Verify how many of the firms with only one employee has the owner as employee"
   ]
  },
  {
   "cell_type": "code",
   "execution_count": 38,
   "metadata": {},
   "outputs": [],
   "source": [
    "employees_path = \"/home/juan.russy/shared/FamilyNetwork/employees_non_incorporated_hs.tsv\"\n",
    "employees_nihs = pd.read_csv(employees_path, sep = '\\t', encoding = 'utf-8')"
   ]
  },
  {
   "cell_type": "code",
   "execution_count": 39,
   "metadata": {},
   "outputs": [],
   "source": [
    "emp = employees_nihs.groupby(\n",
    "    ['id_firm_hs', 'id_owner_hs']).id_employee_hs.count()\n",
    "emp = pd.DataFrame(emp).reset_index(drop=False) \n",
    "emp = emp [emp.id_employee_hs == 1].id_firm_hs"
   ]
  },
  {
   "cell_type": "code",
   "execution_count": 40,
   "metadata": {},
   "outputs": [
    {
     "name": "stdout",
     "output_type": "stream",
     "text": [
      "There are 160205 rows with identical values in columns 'id_employee_hs' and 'id_owner_hs'. Which represents a 77.7% of the dataset.\n"
     ]
    }
   ],
   "source": [
    "firms_one_emp = employees_nihs[employees_nihs.id_firm_hs.isin(emp)]\n",
    "num_identical = (firms_one_emp['id_employee_hs'] == firms_one_emp['id_owner_hs']).sum()\n",
    "\n",
    "print(\n",
    "    f\"There are {num_identical} rows with identical values in columns 'id_employee_hs' and 'id_owner_hs'. Which represents a {round(num_identical/len(firms_one_emp)*100, 2)}% of the dataset.\")\n"
   ]
  },
  {
   "attachments": {},
   "cell_type": "markdown",
   "metadata": {},
   "source": [
    "## Fraction of employees that are within 6 degrees of separation"
   ]
  },
  {
   "cell_type": "code",
   "execution_count": null,
   "metadata": {},
   "outputs": [],
   "source": [
    "# Create a grid of plots using facet_wrap\n",
    "def grid_num_employees(num_employees):\n",
    "    if num_employees < 10:\n",
    "        return str(num_employees)\n",
    "    else:\n",
    "        return 'more than 10'\n",
    "\n",
    "\n",
    "firm_centrality['grid_num_employees'] = firm_centrality.num_employees.apply(\n",
    "    grid_num_employees)\n",
    "firm_centrality = firm_centrality.sort_values(by='grid_num_employees')\n",
    "\n",
    "g = sns.FacetGrid(firm_centrality, col=\"grid_num_employees\", col_wrap=5)\n",
    "g.map(sns.histplot, \"fraction_employees\", stat='probability')\n",
    "g.set_titles(\n",
    "    col_template=\"# Employees {col_name}\", row_template=\"{row_name}\", size=16)\n",
    "g.set_axis_labels(\"Fraction of employees\", \"Probability\", size=14)\n",
    "\n",
    "g.fig.suptitle(\n",
    "    'Fraction of employees in the consanguinity map by size of the firm', fontsize=25, y=1.1)\n",
    "# Show the plot\n",
    "plt.savefig('/home/juan.russy/shared/FamilyNetwork/fraction_employees_by_size.png',\n",
    "            dpi=300, bbox_inches='tight')\n"
   ]
  },
  {
   "cell_type": "code",
   "execution_count": null,
   "metadata": {},
   "outputs": [],
   "source": [
    "sns.histplot(data=firm_centrality, x='fraction_employees', stat='probability')\n",
    "# Set the new tick labels\n",
    "plt.xticks([x/10 for x in range(11)])\n",
    "plt.title('Fraction of employees in the consanguinity map', fontsize=16)\n",
    "plt.xlabel('Fraction of employees', fontsize=14)\n",
    "plt.ylabel('Probability', fontsize=14)\n",
    "plt.savefig('/home/juan.russy/shared/FamilyNetwork/fraction_employees.png',\n",
    "            dpi=300, bbox_inches='tight')\n"
   ]
  },
  {
   "attachments": {},
   "cell_type": "markdown",
   "metadata": {},
   "source": [
    "# Harmonic Centrality"
   ]
  },
  {
   "cell_type": "code",
   "execution_count": 46,
   "metadata": {},
   "outputs": [
    {
     "data": {
      "text/html": [
       "<div>\n",
       "<style scoped>\n",
       "    .dataframe tbody tr th:only-of-type {\n",
       "        vertical-align: middle;\n",
       "    }\n",
       "\n",
       "    .dataframe tbody tr th {\n",
       "        vertical-align: top;\n",
       "    }\n",
       "\n",
       "    .dataframe thead th {\n",
       "        text-align: right;\n",
       "    }\n",
       "</style>\n",
       "<table border=\"1\" class=\"dataframe\">\n",
       "  <thead>\n",
       "    <tr style=\"text-align: right;\">\n",
       "      <th></th>\n",
       "      <th>id_firm_hs</th>\n",
       "      <th>id_owner_hs</th>\n",
       "      <th>num_employees</th>\n",
       "      <th>harmonic_centrality</th>\n",
       "      <th>avg_dist_employees_owner</th>\n",
       "      <th>fraction_employees</th>\n",
       "      <th>fraction_family</th>\n",
       "      <th>fraction_citizens</th>\n",
       "    </tr>\n",
       "  </thead>\n",
       "  <tbody>\n",
       "    <tr>\n",
       "      <th>0</th>\n",
       "      <td>0000100e43853e27</td>\n",
       "      <td>e293e6137bd5f616</td>\n",
       "      <td>1</td>\n",
       "      <td>0.0</td>\n",
       "      <td>NaN</td>\n",
       "      <td>0.000000</td>\n",
       "      <td>0.000000</td>\n",
       "      <td>1.117340e-07</td>\n",
       "    </tr>\n",
       "    <tr>\n",
       "      <th>1</th>\n",
       "      <td>00007133cc53990a</td>\n",
       "      <td>0a2eaeae3e02e116</td>\n",
       "      <td>3</td>\n",
       "      <td>2.0</td>\n",
       "      <td>0.0</td>\n",
       "      <td>0.666667</td>\n",
       "      <td>0.017699</td>\n",
       "      <td>6.312974e-06</td>\n",
       "    </tr>\n",
       "    <tr>\n",
       "      <th>2</th>\n",
       "      <td>00009602f43b3b9b</td>\n",
       "      <td>2594cf5214431469</td>\n",
       "      <td>1</td>\n",
       "      <td>1.0</td>\n",
       "      <td>0.0</td>\n",
       "      <td>1.000000</td>\n",
       "      <td>0.016949</td>\n",
       "      <td>3.296154e-06</td>\n",
       "    </tr>\n",
       "    <tr>\n",
       "      <th>3</th>\n",
       "      <td>0000c6b2cc710308</td>\n",
       "      <td>14b852a21a631f85</td>\n",
       "      <td>3</td>\n",
       "      <td>1.5</td>\n",
       "      <td>1.0</td>\n",
       "      <td>0.666667</td>\n",
       "      <td>0.020619</td>\n",
       "      <td>5.419101e-06</td>\n",
       "    </tr>\n",
       "    <tr>\n",
       "      <th>4</th>\n",
       "      <td>000127ee1f505487</td>\n",
       "      <td>f920312eea1ba9ed</td>\n",
       "      <td>8</td>\n",
       "      <td>3.0</td>\n",
       "      <td>1.6</td>\n",
       "      <td>0.625000</td>\n",
       "      <td>0.040650</td>\n",
       "      <td>6.871644e-06</td>\n",
       "    </tr>\n",
       "    <tr>\n",
       "      <th>...</th>\n",
       "      <td>...</td>\n",
       "      <td>...</td>\n",
       "      <td>...</td>\n",
       "      <td>...</td>\n",
       "      <td>...</td>\n",
       "      <td>...</td>\n",
       "      <td>...</td>\n",
       "      <td>...</td>\n",
       "    </tr>\n",
       "    <tr>\n",
       "      <th>367801</th>\n",
       "      <td>ffff3d2d70af9b40</td>\n",
       "      <td>da047b778ce12cac</td>\n",
       "      <td>1</td>\n",
       "      <td>1.0</td>\n",
       "      <td>0.0</td>\n",
       "      <td>1.000000</td>\n",
       "      <td>0.004032</td>\n",
       "      <td>1.385502e-05</td>\n",
       "    </tr>\n",
       "    <tr>\n",
       "      <th>367802</th>\n",
       "      <td>ffffc8118409f59f</td>\n",
       "      <td>f73f1ef1ab9cb44b</td>\n",
       "      <td>4</td>\n",
       "      <td>4.0</td>\n",
       "      <td>0.5</td>\n",
       "      <td>1.000000</td>\n",
       "      <td>0.012618</td>\n",
       "      <td>1.770985e-05</td>\n",
       "    </tr>\n",
       "    <tr>\n",
       "      <th>367803</th>\n",
       "      <td>ffffca1fc98996f9</td>\n",
       "      <td>bdfa902707641488</td>\n",
       "      <td>5</td>\n",
       "      <td>2.0</td>\n",
       "      <td>0.5</td>\n",
       "      <td>0.400000</td>\n",
       "      <td>0.012903</td>\n",
       "      <td>8.659389e-06</td>\n",
       "    </tr>\n",
       "    <tr>\n",
       "      <th>367804</th>\n",
       "      <td>ffffd99565ce6bd0</td>\n",
       "      <td>5871394eaf84cc50</td>\n",
       "      <td>2</td>\n",
       "      <td>1.0</td>\n",
       "      <td>0.0</td>\n",
       "      <td>0.500000</td>\n",
       "      <td>0.010989</td>\n",
       "      <td>5.083899e-06</td>\n",
       "    </tr>\n",
       "    <tr>\n",
       "      <th>367805</th>\n",
       "      <td>ffffe7c98fe3b2a9</td>\n",
       "      <td>60e97a49fd90f861</td>\n",
       "      <td>1</td>\n",
       "      <td>0.0</td>\n",
       "      <td>NaN</td>\n",
       "      <td>0.000000</td>\n",
       "      <td>0.000000</td>\n",
       "      <td>1.676011e-07</td>\n",
       "    </tr>\n",
       "  </tbody>\n",
       "</table>\n",
       "<p>367806 rows × 8 columns</p>\n",
       "</div>"
      ],
      "text/plain": [
       "              id_firm_hs       id_owner_hs  num_employees  \\\n",
       "0       0000100e43853e27  e293e6137bd5f616              1   \n",
       "1       00007133cc53990a  0a2eaeae3e02e116              3   \n",
       "2       00009602f43b3b9b  2594cf5214431469              1   \n",
       "3       0000c6b2cc710308  14b852a21a631f85              3   \n",
       "4       000127ee1f505487  f920312eea1ba9ed              8   \n",
       "...                  ...               ...            ...   \n",
       "367801  ffff3d2d70af9b40  da047b778ce12cac              1   \n",
       "367802  ffffc8118409f59f  f73f1ef1ab9cb44b              4   \n",
       "367803  ffffca1fc98996f9  bdfa902707641488              5   \n",
       "367804  ffffd99565ce6bd0  5871394eaf84cc50              2   \n",
       "367805  ffffe7c98fe3b2a9  60e97a49fd90f861              1   \n",
       "\n",
       "        harmonic_centrality  avg_dist_employees_owner  fraction_employees  \\\n",
       "0                       0.0                       NaN            0.000000   \n",
       "1                       2.0                       0.0            0.666667   \n",
       "2                       1.0                       0.0            1.000000   \n",
       "3                       1.5                       1.0            0.666667   \n",
       "4                       3.0                       1.6            0.625000   \n",
       "...                     ...                       ...                 ...   \n",
       "367801                  1.0                       0.0            1.000000   \n",
       "367802                  4.0                       0.5            1.000000   \n",
       "367803                  2.0                       0.5            0.400000   \n",
       "367804                  1.0                       0.0            0.500000   \n",
       "367805                  0.0                       NaN            0.000000   \n",
       "\n",
       "        fraction_family  fraction_citizens  \n",
       "0              0.000000       1.117340e-07  \n",
       "1              0.017699       6.312974e-06  \n",
       "2              0.016949       3.296154e-06  \n",
       "3              0.020619       5.419101e-06  \n",
       "4              0.040650       6.871644e-06  \n",
       "...                 ...                ...  \n",
       "367801         0.004032       1.385502e-05  \n",
       "367802         0.012618       1.770985e-05  \n",
       "367803         0.012903       8.659389e-06  \n",
       "367804         0.010989       5.083899e-06  \n",
       "367805         0.000000       1.676011e-07  \n",
       "\n",
       "[367806 rows x 8 columns]"
      ]
     },
     "execution_count": 46,
     "metadata": {},
     "output_type": "execute_result"
    }
   ],
   "source": [
    "firm_centrality"
   ]
  },
  {
   "cell_type": "code",
   "execution_count": 45,
   "metadata": {},
   "outputs": [
    {
     "data": {
      "text/plain": [
       "<AxesSubplot:>"
      ]
     },
     "execution_count": 45,
     "metadata": {},
     "output_type": "execute_result"
    },
    {
     "data": {
      "image/png": "[encoded data removed]",
      "text/plain": [
       "<Figure size 432x288 with 1 Axes>"
      ]
     },
     "metadata": {
      "needs_background": "light"
     },
     "output_type": "display_data"
    }
   ],
   "source": [
    "ts = firm_centrality[firm_centrality.fraction_citizens > 0.00006]\n",
    "ts.fraction_citizens.hist(bins=20)\n"
   ]
  },
  {
   "cell_type": "code",
   "execution_count": null,
   "metadata": {},
   "outputs": [],
   "source": []
  },
  {
   "cell_type": "code",
   "execution_count": 49,
   "metadata": {},
   "outputs": [
    {
     "name": "stdout",
     "output_type": "stream",
     "text": [
      "0    1\n",
      "1    2\n",
      "2    3\n",
      "3    4\n",
      "4    5\n",
      "dtype: int64\n",
      "0     1\n",
      "1     2\n",
      "2     3\n",
      "3     4\n",
      "4     5\n",
      "0     6\n",
      "1     7\n",
      "2     8\n",
      "3     9\n",
      "4    10\n",
      "dtype: int64\n"
     ]
    }
   ],
   "source": [
    "import pandas as pd\n",
    "\n",
    "my_list = [1, 2, 3, 4, 5]\n",
    "my_series = pd.Series(my_list)\n",
    "print(my_series)\n",
    "my_series = my_series.append(pd.Series([6, 7, 8, 9, 10]))\n",
    "print(my_series)"
   ]
  }
 ],
 "metadata": {
  "kernelspec": {
   "display_name": "Python 3",
   "language": "python",
   "name": "python3"
  },
  "language_info": {
   "codemirror_mode": {
    "name": "ipython",
    "version": 3
   },
   "file_extension": ".py",
   "mimetype": "text/x-python",
   "name": "python",
   "nbconvert_exporter": "python",
   "pygments_lexer": "ipython3",
   "version": "3.6.8"
  },
  "orig_nbformat": 4,
  "vscode": {
   "interpreter": {
    "hash": "916dbcbb3f70747c44a77c7bcd40155683ae19c65e1c03b4aa3499c5328201f1"
   }
  }
 },
 "nbformat": 4,
 "nbformat_minor": 2
}
