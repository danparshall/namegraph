{
 "cells": [
  {
   "attachments": {},
   "cell_type": "markdown",
   "metadata": {},
   "source": [
    "# Analysis consanguinity map owners and employees"
   ]
  },
  {
   "cell_type": "code",
   "execution_count": 140,
   "metadata": {},
   "outputs": [],
   "source": [
    "import pandas as pd\n",
    "import matplotlib.pyplot as plt\n",
    "import numpy as np"
   ]
  },
  {
   "attachments": {},
   "cell_type": "markdown",
   "metadata": {},
   "source": [
    "## 1. Datasets"
   ]
  },
  {
   "cell_type": "code",
   "execution_count": 3,
   "metadata": {},
   "outputs": [],
   "source": [
    "main_path = \"/home/juan.russy/shared/FamilyNetwork/\""
   ]
  },
  {
   "attachments": {},
   "cell_type": "markdown",
   "metadata": {},
   "source": [
    "### 1.1 Citizens"
   ]
  },
  {
   "cell_type": "code",
   "execution_count": 4,
   "metadata": {},
   "outputs": [],
   "source": [
    "filepath_raw = '/home/juan.russy/shared/FamilyNetwork/RegCleaned.tsv'\n",
    "\n",
    "\n",
    "def load_registry(filepath_raw, NROWS=None):\n",
    "    \"\"\" Load original dataset with cedula and nombre information\n",
    "\n",
    "    Args:\n",
    "        filepath_raw : path with original dataframe file\n",
    "        NROWS : Argument for number of rows in read_csv\n",
    "\n",
    "    Returns:\n",
    "        rf : dataframe with cedula and nombre columns\n",
    "    \"\"\"\n",
    "    cols_interest = ['cedula', 'dt_birth', 'dt_death',\n",
    "                    'gender', 'is_citizen', 'marital_status']\n",
    "    reg_cleaned = pd.read_csv(  filepath_raw,\n",
    "                                sep='\\t',\n",
    "                                encoding='latin-1',\n",
    "                                usecols=cols_interest,\n",
    "                                keep_default_na=False,\n",
    "                                nrows=NROWS\n",
    "                                )\n",
    "    return reg_cleaned\n",
    "\n",
    "rf = load_registry(filepath_raw, NROWS=None)\n",
    "rf['dt_birth'] = pd.to_datetime(\n",
    "    rf['dt_birth'], format=r'%Y-%m-%d')\n",
    "rf['dt_death'] = rf['dt_death'].replace('//', np.nan)\n",
    "rf['dt_death'] = pd.to_datetime(\n",
    "    rf['dt_death'], format=r'%Y-%m-%d')"
   ]
  },
  {
   "attachments": {},
   "cell_type": "markdown",
   "metadata": {},
   "source": [
    "### 1.2 Owners"
   ]
  },
  {
   "cell_type": "code",
   "execution_count": 5,
   "metadata": {},
   "outputs": [],
   "source": [
    "consanguinity = '/home/juan.russy/shared/FamilyNetwork/consangunity_map_owners_6.tsv'\n",
    "consang = pd.read_csv(consanguinity, sep='\\t', encoding='utf-8', \n",
    "                        usecols = ['degree_separation', 'cedula_reference', 'cedula'],\n",
    "                        nrows=None)"
   ]
  },
  {
   "cell_type": "code",
   "execution_count": 7,
   "metadata": {},
   "outputs": [
    {
     "data": {
      "text/plain": [
       "(356852,)"
      ]
     },
     "execution_count": 7,
     "metadata": {},
     "output_type": "execute_result"
    }
   ],
   "source": [
    "consang.cedula_reference.unique().shape"
   ]
  },
  {
   "cell_type": "code",
   "execution_count": 8,
   "metadata": {},
   "outputs": [],
   "source": [
    "ref_count = pd.DataFrame(consang.cedula_reference.value_counts())"
   ]
  },
  {
   "cell_type": "code",
   "execution_count": 9,
   "metadata": {},
   "outputs": [
    {
     "data": {
      "text/html": [
       "<div>\n",
       "<style scoped>\n",
       "    .dataframe tbody tr th:only-of-type {\n",
       "        vertical-align: middle;\n",
       "    }\n",
       "\n",
       "    .dataframe tbody tr th {\n",
       "        vertical-align: top;\n",
       "    }\n",
       "\n",
       "    .dataframe thead th {\n",
       "        text-align: right;\n",
       "    }\n",
       "</style>\n",
       "<table border=\"1\" class=\"dataframe\">\n",
       "  <thead>\n",
       "    <tr style=\"text-align: right;\">\n",
       "      <th></th>\n",
       "      <th>degree_separation</th>\n",
       "      <th>cedula</th>\n",
       "      <th>cedula_reference</th>\n",
       "    </tr>\n",
       "  </thead>\n",
       "  <tbody>\n",
       "    <tr>\n",
       "      <th>0</th>\n",
       "      <td>0</td>\n",
       "      <td>0000233aaa95d489</td>\n",
       "      <td>0000233aaa95d489</td>\n",
       "    </tr>\n",
       "    <tr>\n",
       "      <th>1</th>\n",
       "      <td>0</td>\n",
       "      <td>23bdf3e2257a05c5</td>\n",
       "      <td>0000233aaa95d489</td>\n",
       "    </tr>\n",
       "    <tr>\n",
       "      <th>2</th>\n",
       "      <td>1</td>\n",
       "      <td>85190b46db53c502</td>\n",
       "      <td>0000233aaa95d489</td>\n",
       "    </tr>\n",
       "    <tr>\n",
       "      <th>3</th>\n",
       "      <td>1</td>\n",
       "      <td>b6c29102abe724a8</td>\n",
       "      <td>0000233aaa95d489</td>\n",
       "    </tr>\n",
       "    <tr>\n",
       "      <th>4</th>\n",
       "      <td>1</td>\n",
       "      <td>b842ec19d02ca42d</td>\n",
       "      <td>0000233aaa95d489</td>\n",
       "    </tr>\n",
       "    <tr>\n",
       "      <th>...</th>\n",
       "      <td>...</td>\n",
       "      <td>...</td>\n",
       "      <td>...</td>\n",
       "    </tr>\n",
       "    <tr>\n",
       "      <th>74331268</th>\n",
       "      <td>6</td>\n",
       "      <td>f7811ef1a01e87d0</td>\n",
       "      <td>fffffc843f9e2bf5</td>\n",
       "    </tr>\n",
       "    <tr>\n",
       "      <th>74331269</th>\n",
       "      <td>6</td>\n",
       "      <td>faf073408cc425e6</td>\n",
       "      <td>fffffc843f9e2bf5</td>\n",
       "    </tr>\n",
       "    <tr>\n",
       "      <th>74331270</th>\n",
       "      <td>6</td>\n",
       "      <td>21e063e665845148</td>\n",
       "      <td>fffffc843f9e2bf5</td>\n",
       "    </tr>\n",
       "    <tr>\n",
       "      <th>74331271</th>\n",
       "      <td>6</td>\n",
       "      <td>23b400871549aa8b</td>\n",
       "      <td>fffffc843f9e2bf5</td>\n",
       "    </tr>\n",
       "    <tr>\n",
       "      <th>74331272</th>\n",
       "      <td>6</td>\n",
       "      <td>212bd8bae11e37c5</td>\n",
       "      <td>fffffc843f9e2bf5</td>\n",
       "    </tr>\n",
       "  </tbody>\n",
       "</table>\n",
       "<p>74331273 rows × 3 columns</p>\n",
       "</div>"
      ],
      "text/plain": [
       "          degree_separation            cedula  cedula_reference\n",
       "0                         0  0000233aaa95d489  0000233aaa95d489\n",
       "1                         0  23bdf3e2257a05c5  0000233aaa95d489\n",
       "2                         1  85190b46db53c502  0000233aaa95d489\n",
       "3                         1  b6c29102abe724a8  0000233aaa95d489\n",
       "4                         1  b842ec19d02ca42d  0000233aaa95d489\n",
       "...                     ...               ...               ...\n",
       "74331268                  6  f7811ef1a01e87d0  fffffc843f9e2bf5\n",
       "74331269                  6  faf073408cc425e6  fffffc843f9e2bf5\n",
       "74331270                  6  21e063e665845148  fffffc843f9e2bf5\n",
       "74331271                  6  23b400871549aa8b  fffffc843f9e2bf5\n",
       "74331272                  6  212bd8bae11e37c5  fffffc843f9e2bf5\n",
       "\n",
       "[74331273 rows x 3 columns]"
      ]
     },
     "execution_count": 9,
     "metadata": {},
     "output_type": "execute_result"
    }
   ],
   "source": [
    "consang"
   ]
  },
  {
   "attachments": {},
   "cell_type": "markdown",
   "metadata": {},
   "source": [
    "### 1.3 Employees"
   ]
  },
  {
   "cell_type": "code",
   "execution_count": null,
   "metadata": {},
   "outputs": [],
   "source": [
    "consanguinity = '/home/juan.russy/shared/FamilyNetwork/consangunity_map_employees_6.tsv'\n",
    "consang = pd.read_csv(  consanguinity, sep='\\t', encoding='utf-8',\n",
    "                        usecols=['degree_separation',\n",
    "                                'cedula_reference', 'cedula'],\n",
    "                        nrows=None)"
   ]
  },
  {
   "cell_type": "code",
   "execution_count": null,
   "metadata": {},
   "outputs": [],
   "source": [
    "consang.cedula_reference.unique().shape"
   ]
  },
  {
   "cell_type": "code",
   "execution_count": null,
   "metadata": {},
   "outputs": [],
   "source": [
    "ref_count = pd.DataFrame(consang.cedula_reference.value_counts())"
   ]
  },
  {
   "attachments": {},
   "cell_type": "markdown",
   "metadata": {},
   "source": [
    "## 2. Invariates Analysis"
   ]
  },
  {
   "cell_type": "code",
   "execution_count": 111,
   "metadata": {},
   "outputs": [],
   "source": [
    "# Owners with more and less than 100 relatives\n",
    "ref_count_less_100 = ref_count[ref_count.cedula_reference < 100].index.tolist()\n",
    "ref_count_more_100 = ref_count[ref_count.cedula_reference >= 100].index.tolist()"
   ]
  },
  {
   "cell_type": "code",
   "execution_count": 112,
   "metadata": {},
   "outputs": [],
   "source": [
    "# Filter by owners\n",
    "rf_less_100 = rf[rf.cedula.isin(ref_count_less_100)]\n",
    "rf_more_100 = rf[rf.cedula.isin(ref_count_more_100)]"
   ]
  },
  {
   "cell_type": "code",
   "execution_count": 180,
   "metadata": {},
   "outputs": [
    {
     "data": {
      "text/plain": [
       "246050"
      ]
     },
     "execution_count": 180,
     "metadata": {},
     "output_type": "execute_result"
    }
   ],
   "source": [
    "len(ref_count_less_100)\n",
    "len(ref_count_more_100)\n"
   ]
  },
  {
   "cell_type": "code",
   "execution_count": 113,
   "metadata": {},
   "outputs": [
    {
     "name": "stdout",
     "output_type": "stream",
     "text": [
      "Difference in length less 100: 129\n",
      "Difference in length more 100: 22\n"
     ]
    }
   ],
   "source": [
    "dif_len = len(ref_count_less_100) - len(rf_less_100)\n",
    "print('Difference in length less 100: {}'.format(dif_len))\n",
    "dif_len = len(ref_count_more_100) - len(rf_more_100)\n",
    "print('Difference in length more 100: {}'.format(dif_len))"
   ]
  },
  {
   "attachments": {},
   "cell_type": "markdown",
   "metadata": {},
   "source": [
    "### 2.1 Date of birth"
   ]
  },
  {
   "cell_type": "code",
   "execution_count": 68,
   "metadata": {},
   "outputs": [
    {
     "name": "stderr",
     "output_type": "stream",
     "text": [
      "/home/juan.russy/.local/lib/python3.6/site-packages/ipykernel_launcher.py:1: SettingWithCopyWarning: \n",
      "A value is trying to be set on a copy of a slice from a DataFrame.\n",
      "Try using .loc[row_indexer,col_indexer] = value instead\n",
      "\n",
      "See the caveats in the documentation: http://pandas.pydata.org/pandas-docs/stable/user_guide/indexing.html#returning-a-view-versus-a-copy\n",
      "  \"\"\"Entry point for launching an IPython kernel.\n",
      "/home/juan.russy/.local/lib/python3.6/site-packages/ipykernel_launcher.py:2: SettingWithCopyWarning: \n",
      "A value is trying to be set on a copy of a slice from a DataFrame.\n",
      "Try using .loc[row_indexer,col_indexer] = value instead\n",
      "\n",
      "See the caveats in the documentation: http://pandas.pydata.org/pandas-docs/stable/user_guide/indexing.html#returning-a-view-versus-a-copy\n",
      "  \n"
     ]
    }
   ],
   "source": [
    "rf_less_100['year_birth'] = rf_less_100['dt_birth'].dt.year\n",
    "rf_more_100['year_birth'] = rf_more_100['dt_birth'].dt.year"
   ]
  },
  {
   "cell_type": "code",
   "execution_count": 73,
   "metadata": {},
   "outputs": [
    {
     "name": "stdout",
     "output_type": "stream",
     "text": [
      "Min rf_less_100 year birth: 1912 , Max rf_less_100 year birth: 2001\n",
      "Min rf_more_100 year birth: 1914 , Max rf_more_100 year birth: 2000\n"
     ]
    }
   ],
   "source": [
    "print('Min rf_less_100 year birth:', min(rf_less_100.year_birth), ', Max rf_less_100 year birth:', max(rf_less_100.year_birth))\n",
    "print('Min rf_more_100 year birth:', min(rf_more_100.year_birth), ', Max rf_more_100 year birth:', max(rf_more_100.year_birth))"
   ]
  },
  {
   "cell_type": "code",
   "execution_count": 79,
   "metadata": {},
   "outputs": [
    {
     "data": {
      "image/png": "[encoded data removed]",
      "text/plain": [
       "<Figure size 432x288 with 1 Axes>"
      ]
     },
     "metadata": {
      "needs_background": "light"
     },
     "output_type": "display_data"
    }
   ],
   "source": [
    "# Plot density of dt_birth\n",
    "rf_less_100[\"year_birth\"].plot.density(\n",
    "    xlim=(1912, 2001))\n",
    "# Add density plot dt_birth for rf_more_100\n",
    "rf_more_100[\"year_birth\"].plot.density(\n",
    "    xlim=(1912, 2001))\n",
    "plt.legend(['Owners with less than 100 relatives', 'Owners with more than 100 relatives'])\n",
    "plt.title('Date of birth distribution', fontsize=20)\n",
    "plt.xlabel('Year of birth', fontsize=15)\n",
    "plt.ylabel('Density', fontsize=15)\n",
    "plt.savefig(main_path+'owners_dt_birth_distribution.png', dpi=300)"
   ]
  },
  {
   "cell_type": "code",
   "execution_count": null,
   "metadata": {},
   "outputs": [],
   "source": [
    "rf_less_100.drop(['dt_birth', 'year_birth'], axis=1, inplace=True)\n",
    "rf_more_100.drop(['dt_birth', 'year_birth'], axis=1, inplace=True)"
   ]
  },
  {
   "attachments": {},
   "cell_type": "markdown",
   "metadata": {},
   "source": [
    "### 2.2 Date of death"
   ]
  },
  {
   "cell_type": "code",
   "execution_count": 121,
   "metadata": {},
   "outputs": [
    {
     "name": "stdout",
     "output_type": "stream",
     "text": [
      "Proportion of owners with not death date (less 100): 0.9770223993205208 Total death: 2543\n",
      "Proportion of owners with not death date (more 100): 0.9805997691319687 Total death: 4773\n"
     ]
    }
   ],
   "source": [
    "num_not_death = rf_less_100.dt_death.isna().sum()\n",
    "print(  'Proportion of owners with not death date (less 100):',\n",
    "        num_not_death/len(rf_less_100), 'Total death:', len(rf_less_100) - num_not_death)\n",
    "num_not_death = rf_more_100.dt_death.isna().sum()\n",
    "print(  'Proportion of owners with not death date (more 100):',\n",
    "        num_not_death/len(rf_more_100), 'Total death:', len(rf_more_100) - num_not_death)\n"
   ]
  },
  {
   "cell_type": "code",
   "execution_count": 122,
   "metadata": {},
   "outputs": [],
   "source": [
    "year_death_less_100 = rf_less_100['dt_death'].dropna().dt.year\n",
    "year_death_more_100 = rf_more_100['dt_death'].dropna().dt.year"
   ]
  },
  {
   "cell_type": "code",
   "execution_count": 127,
   "metadata": {},
   "outputs": [
    {
     "name": "stdout",
     "output_type": "stream",
     "text": [
      "Min rf_less_100 year death: 2005 , Max rf_less_100 year death: 2021\n",
      "Min rf_more_100 year death: 2008 , Max rf_more_100 year death: 2021\n"
     ]
    }
   ],
   "source": [
    "print('Min rf_less_100 year death:', min(year_death_less_100), ', Max rf_less_100 year death:', max(year_death_less_100))\n",
    "print('Min rf_more_100 year death:', min(year_death_more_100), ', Max rf_more_100 year death:', max(year_death_more_100))"
   ]
  },
  {
   "cell_type": "code",
   "execution_count": 188,
   "metadata": {},
   "outputs": [
    {
     "ename": "KeyboardInterrupt",
     "evalue": "",
     "output_type": "error",
     "traceback": [
      "\u001b[0;31m---------------------------------------------------------------------------\u001b[0m",
      "\u001b[0;31mKeyboardInterrupt\u001b[0m                         Traceback (most recent call last)",
      "\u001b[0;32m<ipython-input-188-1826cbc99222>\u001b[0m in \u001b[0;36m<module>\u001b[0;34m\u001b[0m\n\u001b[1;32m      6\u001b[0m \u001b[0mplt\u001b[0m\u001b[0;34m.\u001b[0m\u001b[0mxlabel\u001b[0m\u001b[0;34m(\u001b[0m\u001b[0;34m'Year of death'\u001b[0m\u001b[0;34m,\u001b[0m \u001b[0mfontsize\u001b[0m\u001b[0;34m=\u001b[0m\u001b[0;36m15\u001b[0m\u001b[0;34m)\u001b[0m\u001b[0;34m\u001b[0m\u001b[0;34m\u001b[0m\u001b[0m\n\u001b[1;32m      7\u001b[0m \u001b[0mplt\u001b[0m\u001b[0;34m.\u001b[0m\u001b[0mylabel\u001b[0m\u001b[0;34m(\u001b[0m\u001b[0;34m'Density'\u001b[0m\u001b[0;34m,\u001b[0m \u001b[0mfontsize\u001b[0m\u001b[0;34m=\u001b[0m\u001b[0;36m15\u001b[0m\u001b[0;34m)\u001b[0m\u001b[0;34m\u001b[0m\u001b[0;34m\u001b[0m\u001b[0m\n\u001b[0;32m----> 8\u001b[0;31m \u001b[0mplt\u001b[0m\u001b[0;34m.\u001b[0m\u001b[0msavefig\u001b[0m\u001b[0;34m(\u001b[0m\u001b[0mmain_path\u001b[0m\u001b[0;34m+\u001b[0m\u001b[0;34m'owners_dt_death_distribution.png'\u001b[0m\u001b[0;34m,\u001b[0m \u001b[0mdpi\u001b[0m\u001b[0;34m=\u001b[0m\u001b[0;36m300\u001b[0m\u001b[0;34m)\u001b[0m\u001b[0;34m\u001b[0m\u001b[0;34m\u001b[0m\u001b[0m\n\u001b[0m",
      "\u001b[0;32m~/.local/lib/python3.6/site-packages/matplotlib/pyplot.py\u001b[0m in \u001b[0;36msavefig\u001b[0;34m(*args, **kwargs)\u001b[0m\n\u001b[1;32m    857\u001b[0m \u001b[0;32mdef\u001b[0m \u001b[0msavefig\u001b[0m\u001b[0;34m(\u001b[0m\u001b[0;34m*\u001b[0m\u001b[0margs\u001b[0m\u001b[0;34m,\u001b[0m \u001b[0;34m**\u001b[0m\u001b[0mkwargs\u001b[0m\u001b[0;34m)\u001b[0m\u001b[0;34m:\u001b[0m\u001b[0;34m\u001b[0m\u001b[0;34m\u001b[0m\u001b[0m\n\u001b[1;32m    858\u001b[0m     \u001b[0mfig\u001b[0m \u001b[0;34m=\u001b[0m \u001b[0mgcf\u001b[0m\u001b[0;34m(\u001b[0m\u001b[0;34m)\u001b[0m\u001b[0;34m\u001b[0m\u001b[0;34m\u001b[0m\u001b[0m\n\u001b[0;32m--> 859\u001b[0;31m     \u001b[0mres\u001b[0m \u001b[0;34m=\u001b[0m \u001b[0mfig\u001b[0m\u001b[0;34m.\u001b[0m\u001b[0msavefig\u001b[0m\u001b[0;34m(\u001b[0m\u001b[0;34m*\u001b[0m\u001b[0margs\u001b[0m\u001b[0;34m,\u001b[0m \u001b[0;34m**\u001b[0m\u001b[0mkwargs\u001b[0m\u001b[0;34m)\u001b[0m\u001b[0;34m\u001b[0m\u001b[0;34m\u001b[0m\u001b[0m\n\u001b[0m\u001b[1;32m    860\u001b[0m     \u001b[0mfig\u001b[0m\u001b[0;34m.\u001b[0m\u001b[0mcanvas\u001b[0m\u001b[0;34m.\u001b[0m\u001b[0mdraw_idle\u001b[0m\u001b[0;34m(\u001b[0m\u001b[0;34m)\u001b[0m   \u001b[0;31m# need this if 'transparent=True' to reset colors\u001b[0m\u001b[0;34m\u001b[0m\u001b[0;34m\u001b[0m\u001b[0m\n\u001b[1;32m    861\u001b[0m     \u001b[0;32mreturn\u001b[0m \u001b[0mres\u001b[0m\u001b[0;34m\u001b[0m\u001b[0;34m\u001b[0m\u001b[0m\n",
      "\u001b[0;32m~/.local/lib/python3.6/site-packages/matplotlib/figure.py\u001b[0m in \u001b[0;36msavefig\u001b[0;34m(self, fname, transparent, **kwargs)\u001b[0m\n\u001b[1;32m   2309\u001b[0m                 \u001b[0mpatch\u001b[0m\u001b[0;34m.\u001b[0m\u001b[0mset_edgecolor\u001b[0m\u001b[0;34m(\u001b[0m\u001b[0;34m'none'\u001b[0m\u001b[0;34m)\u001b[0m\u001b[0;34m\u001b[0m\u001b[0;34m\u001b[0m\u001b[0m\n\u001b[1;32m   2310\u001b[0m \u001b[0;34m\u001b[0m\u001b[0m\n\u001b[0;32m-> 2311\u001b[0;31m         \u001b[0mself\u001b[0m\u001b[0;34m.\u001b[0m\u001b[0mcanvas\u001b[0m\u001b[0;34m.\u001b[0m\u001b[0mprint_figure\u001b[0m\u001b[0;34m(\u001b[0m\u001b[0mfname\u001b[0m\u001b[0;34m,\u001b[0m \u001b[0;34m**\u001b[0m\u001b[0mkwargs\u001b[0m\u001b[0;34m)\u001b[0m\u001b[0;34m\u001b[0m\u001b[0;34m\u001b[0m\u001b[0m\n\u001b[0m\u001b[1;32m   2312\u001b[0m \u001b[0;34m\u001b[0m\u001b[0m\n\u001b[1;32m   2313\u001b[0m         \u001b[0;32mif\u001b[0m \u001b[0mtransparent\u001b[0m\u001b[0;34m:\u001b[0m\u001b[0;34m\u001b[0m\u001b[0;34m\u001b[0m\u001b[0m\n",
      "\u001b[0;32m~/.local/lib/python3.6/site-packages/matplotlib/backend_bases.py\u001b[0m in \u001b[0;36mprint_figure\u001b[0;34m(self, filename, dpi, facecolor, edgecolor, orientation, format, bbox_inches, pad_inches, bbox_extra_artists, backend, **kwargs)\u001b[0m\n\u001b[1;32m   2215\u001b[0m                     \u001b[0morientation\u001b[0m\u001b[0;34m=\u001b[0m\u001b[0morientation\u001b[0m\u001b[0;34m,\u001b[0m\u001b[0;34m\u001b[0m\u001b[0;34m\u001b[0m\u001b[0m\n\u001b[1;32m   2216\u001b[0m                     \u001b[0mbbox_inches_restore\u001b[0m\u001b[0;34m=\u001b[0m\u001b[0m_bbox_inches_restore\u001b[0m\u001b[0;34m,\u001b[0m\u001b[0;34m\u001b[0m\u001b[0;34m\u001b[0m\u001b[0m\n\u001b[0;32m-> 2217\u001b[0;31m                     **kwargs)\n\u001b[0m\u001b[1;32m   2218\u001b[0m             \u001b[0;32mfinally\u001b[0m\u001b[0;34m:\u001b[0m\u001b[0;34m\u001b[0m\u001b[0;34m\u001b[0m\u001b[0m\n\u001b[1;32m   2219\u001b[0m                 \u001b[0;32mif\u001b[0m \u001b[0mbbox_inches\u001b[0m \u001b[0;32mand\u001b[0m \u001b[0mrestore_bbox\u001b[0m\u001b[0;34m:\u001b[0m\u001b[0;34m\u001b[0m\u001b[0;34m\u001b[0m\u001b[0m\n",
      "\u001b[0;32m~/.local/lib/python3.6/site-packages/matplotlib/backend_bases.py\u001b[0m in \u001b[0;36mwrapper\u001b[0;34m(*args, **kwargs)\u001b[0m\n\u001b[1;32m   1637\u001b[0m             \u001b[0mkwargs\u001b[0m\u001b[0;34m.\u001b[0m\u001b[0mpop\u001b[0m\u001b[0;34m(\u001b[0m\u001b[0marg\u001b[0m\u001b[0;34m)\u001b[0m\u001b[0;34m\u001b[0m\u001b[0;34m\u001b[0m\u001b[0m\n\u001b[1;32m   1638\u001b[0m \u001b[0;34m\u001b[0m\u001b[0m\n\u001b[0;32m-> 1639\u001b[0;31m         \u001b[0;32mreturn\u001b[0m \u001b[0mfunc\u001b[0m\u001b[0;34m(\u001b[0m\u001b[0;34m*\u001b[0m\u001b[0margs\u001b[0m\u001b[0;34m,\u001b[0m \u001b[0;34m**\u001b[0m\u001b[0mkwargs\u001b[0m\u001b[0;34m)\u001b[0m\u001b[0;34m\u001b[0m\u001b[0;34m\u001b[0m\u001b[0m\n\u001b[0m\u001b[1;32m   1640\u001b[0m \u001b[0;34m\u001b[0m\u001b[0m\n\u001b[1;32m   1641\u001b[0m     \u001b[0;32mreturn\u001b[0m \u001b[0mwrapper\u001b[0m\u001b[0;34m\u001b[0m\u001b[0;34m\u001b[0m\u001b[0m\n",
      "\u001b[0;32m~/.local/lib/python3.6/site-packages/matplotlib/backends/backend_agg.py\u001b[0m in \u001b[0;36mprint_png\u001b[0;34m(self, filename_or_obj, metadata, pil_kwargs, *args)\u001b[0m\n\u001b[1;32m    507\u001b[0m             \u001b[0;34m*\u001b[0m\u001b[0mmetadata\u001b[0m\u001b[0;34m*\u001b[0m\u001b[0;34m,\u001b[0m \u001b[0mincluding\u001b[0m \u001b[0mthe\u001b[0m \u001b[0mdefault\u001b[0m \u001b[0;34m'Software'\u001b[0m \u001b[0mkey\u001b[0m\u001b[0;34m.\u001b[0m\u001b[0;34m\u001b[0m\u001b[0;34m\u001b[0m\u001b[0m\n\u001b[1;32m    508\u001b[0m         \"\"\"\n\u001b[0;32m--> 509\u001b[0;31m         \u001b[0mFigureCanvasAgg\u001b[0m\u001b[0;34m.\u001b[0m\u001b[0mdraw\u001b[0m\u001b[0;34m(\u001b[0m\u001b[0mself\u001b[0m\u001b[0;34m)\u001b[0m\u001b[0;34m\u001b[0m\u001b[0;34m\u001b[0m\u001b[0m\n\u001b[0m\u001b[1;32m    510\u001b[0m         mpl.image.imsave(\n\u001b[1;32m    511\u001b[0m             \u001b[0mfilename_or_obj\u001b[0m\u001b[0;34m,\u001b[0m \u001b[0mself\u001b[0m\u001b[0;34m.\u001b[0m\u001b[0mbuffer_rgba\u001b[0m\u001b[0;34m(\u001b[0m\u001b[0;34m)\u001b[0m\u001b[0;34m,\u001b[0m \u001b[0mformat\u001b[0m\u001b[0;34m=\u001b[0m\u001b[0;34m\"png\"\u001b[0m\u001b[0;34m,\u001b[0m \u001b[0morigin\u001b[0m\u001b[0;34m=\u001b[0m\u001b[0;34m\"upper\"\u001b[0m\u001b[0;34m,\u001b[0m\u001b[0;34m\u001b[0m\u001b[0;34m\u001b[0m\u001b[0m\n",
      "\u001b[0;32m~/.local/lib/python3.6/site-packages/matplotlib/backends/backend_agg.py\u001b[0m in \u001b[0;36mdraw\u001b[0;34m(self)\u001b[0m\n\u001b[1;32m    405\u001b[0m              (self.toolbar._wait_cursor_for_draw_cm() if self.toolbar\n\u001b[1;32m    406\u001b[0m               else nullcontext()):\n\u001b[0;32m--> 407\u001b[0;31m             \u001b[0mself\u001b[0m\u001b[0;34m.\u001b[0m\u001b[0mfigure\u001b[0m\u001b[0;34m.\u001b[0m\u001b[0mdraw\u001b[0m\u001b[0;34m(\u001b[0m\u001b[0mself\u001b[0m\u001b[0;34m.\u001b[0m\u001b[0mrenderer\u001b[0m\u001b[0;34m)\u001b[0m\u001b[0;34m\u001b[0m\u001b[0;34m\u001b[0m\u001b[0m\n\u001b[0m\u001b[1;32m    408\u001b[0m             \u001b[0;31m# A GUI class may be need to update a window using this draw, so\u001b[0m\u001b[0;34m\u001b[0m\u001b[0;34m\u001b[0m\u001b[0;34m\u001b[0m\u001b[0m\n\u001b[1;32m    409\u001b[0m             \u001b[0;31m# don't forget to call the superclass.\u001b[0m\u001b[0;34m\u001b[0m\u001b[0;34m\u001b[0m\u001b[0;34m\u001b[0m\u001b[0m\n",
      "\u001b[0;32m~/.local/lib/python3.6/site-packages/matplotlib/artist.py\u001b[0m in \u001b[0;36mdraw_wrapper\u001b[0;34m(artist, renderer, *args, **kwargs)\u001b[0m\n\u001b[1;32m     39\u001b[0m                 \u001b[0mrenderer\u001b[0m\u001b[0;34m.\u001b[0m\u001b[0mstart_filter\u001b[0m\u001b[0;34m(\u001b[0m\u001b[0;34m)\u001b[0m\u001b[0;34m\u001b[0m\u001b[0;34m\u001b[0m\u001b[0m\n\u001b[1;32m     40\u001b[0m \u001b[0;34m\u001b[0m\u001b[0m\n\u001b[0;32m---> 41\u001b[0;31m             \u001b[0;32mreturn\u001b[0m \u001b[0mdraw\u001b[0m\u001b[0;34m(\u001b[0m\u001b[0martist\u001b[0m\u001b[0;34m,\u001b[0m \u001b[0mrenderer\u001b[0m\u001b[0;34m,\u001b[0m \u001b[0;34m*\u001b[0m\u001b[0margs\u001b[0m\u001b[0;34m,\u001b[0m \u001b[0;34m**\u001b[0m\u001b[0mkwargs\u001b[0m\u001b[0;34m)\u001b[0m\u001b[0;34m\u001b[0m\u001b[0;34m\u001b[0m\u001b[0m\n\u001b[0m\u001b[1;32m     42\u001b[0m         \u001b[0;32mfinally\u001b[0m\u001b[0;34m:\u001b[0m\u001b[0;34m\u001b[0m\u001b[0;34m\u001b[0m\u001b[0m\n\u001b[1;32m     43\u001b[0m             \u001b[0;32mif\u001b[0m \u001b[0martist\u001b[0m\u001b[0;34m.\u001b[0m\u001b[0mget_agg_filter\u001b[0m\u001b[0;34m(\u001b[0m\u001b[0;34m)\u001b[0m \u001b[0;32mis\u001b[0m \u001b[0;32mnot\u001b[0m \u001b[0;32mNone\u001b[0m\u001b[0;34m:\u001b[0m\u001b[0;34m\u001b[0m\u001b[0;34m\u001b[0m\u001b[0m\n",
      "\u001b[0;32m~/.local/lib/python3.6/site-packages/matplotlib/figure.py\u001b[0m in \u001b[0;36mdraw\u001b[0;34m(self, renderer)\u001b[0m\n\u001b[1;32m   1862\u001b[0m             \u001b[0mself\u001b[0m\u001b[0;34m.\u001b[0m\u001b[0mpatch\u001b[0m\u001b[0;34m.\u001b[0m\u001b[0mdraw\u001b[0m\u001b[0;34m(\u001b[0m\u001b[0mrenderer\u001b[0m\u001b[0;34m)\u001b[0m\u001b[0;34m\u001b[0m\u001b[0;34m\u001b[0m\u001b[0m\n\u001b[1;32m   1863\u001b[0m             mimage._draw_list_compositing_images(\n\u001b[0;32m-> 1864\u001b[0;31m                 renderer, self, artists, self.suppressComposite)\n\u001b[0m\u001b[1;32m   1865\u001b[0m \u001b[0;34m\u001b[0m\u001b[0m\n\u001b[1;32m   1866\u001b[0m             \u001b[0mrenderer\u001b[0m\u001b[0;34m.\u001b[0m\u001b[0mclose_group\u001b[0m\u001b[0;34m(\u001b[0m\u001b[0;34m'figure'\u001b[0m\u001b[0;34m)\u001b[0m\u001b[0;34m\u001b[0m\u001b[0;34m\u001b[0m\u001b[0m\n",
      "\u001b[0;32m~/.local/lib/python3.6/site-packages/matplotlib/image.py\u001b[0m in \u001b[0;36m_draw_list_compositing_images\u001b[0;34m(renderer, parent, artists, suppress_composite)\u001b[0m\n\u001b[1;32m    129\u001b[0m     \u001b[0;32mif\u001b[0m \u001b[0mnot_composite\u001b[0m \u001b[0;32mor\u001b[0m \u001b[0;32mnot\u001b[0m \u001b[0mhas_images\u001b[0m\u001b[0;34m:\u001b[0m\u001b[0;34m\u001b[0m\u001b[0;34m\u001b[0m\u001b[0m\n\u001b[1;32m    130\u001b[0m         \u001b[0;32mfor\u001b[0m \u001b[0ma\u001b[0m \u001b[0;32min\u001b[0m \u001b[0martists\u001b[0m\u001b[0;34m:\u001b[0m\u001b[0;34m\u001b[0m\u001b[0;34m\u001b[0m\u001b[0m\n\u001b[0;32m--> 131\u001b[0;31m             \u001b[0ma\u001b[0m\u001b[0;34m.\u001b[0m\u001b[0mdraw\u001b[0m\u001b[0;34m(\u001b[0m\u001b[0mrenderer\u001b[0m\u001b[0;34m)\u001b[0m\u001b[0;34m\u001b[0m\u001b[0;34m\u001b[0m\u001b[0m\n\u001b[0m\u001b[1;32m    132\u001b[0m     \u001b[0;32melse\u001b[0m\u001b[0;34m:\u001b[0m\u001b[0;34m\u001b[0m\u001b[0;34m\u001b[0m\u001b[0m\n\u001b[1;32m    133\u001b[0m         \u001b[0;31m# Composite any adjacent images together\u001b[0m\u001b[0;34m\u001b[0m\u001b[0;34m\u001b[0m\u001b[0;34m\u001b[0m\u001b[0m\n",
      "\u001b[0;32m~/.local/lib/python3.6/site-packages/matplotlib/artist.py\u001b[0m in \u001b[0;36mdraw_wrapper\u001b[0;34m(artist, renderer, *args, **kwargs)\u001b[0m\n\u001b[1;32m     39\u001b[0m                 \u001b[0mrenderer\u001b[0m\u001b[0;34m.\u001b[0m\u001b[0mstart_filter\u001b[0m\u001b[0;34m(\u001b[0m\u001b[0;34m)\u001b[0m\u001b[0;34m\u001b[0m\u001b[0;34m\u001b[0m\u001b[0m\n\u001b[1;32m     40\u001b[0m \u001b[0;34m\u001b[0m\u001b[0m\n\u001b[0;32m---> 41\u001b[0;31m             \u001b[0;32mreturn\u001b[0m \u001b[0mdraw\u001b[0m\u001b[0;34m(\u001b[0m\u001b[0martist\u001b[0m\u001b[0;34m,\u001b[0m \u001b[0mrenderer\u001b[0m\u001b[0;34m,\u001b[0m \u001b[0;34m*\u001b[0m\u001b[0margs\u001b[0m\u001b[0;34m,\u001b[0m \u001b[0;34m**\u001b[0m\u001b[0mkwargs\u001b[0m\u001b[0;34m)\u001b[0m\u001b[0;34m\u001b[0m\u001b[0;34m\u001b[0m\u001b[0m\n\u001b[0m\u001b[1;32m     42\u001b[0m         \u001b[0;32mfinally\u001b[0m\u001b[0;34m:\u001b[0m\u001b[0;34m\u001b[0m\u001b[0;34m\u001b[0m\u001b[0m\n\u001b[1;32m     43\u001b[0m             \u001b[0;32mif\u001b[0m \u001b[0martist\u001b[0m\u001b[0;34m.\u001b[0m\u001b[0mget_agg_filter\u001b[0m\u001b[0;34m(\u001b[0m\u001b[0;34m)\u001b[0m \u001b[0;32mis\u001b[0m \u001b[0;32mnot\u001b[0m \u001b[0;32mNone\u001b[0m\u001b[0;34m:\u001b[0m\u001b[0;34m\u001b[0m\u001b[0;34m\u001b[0m\u001b[0m\n",
      "\u001b[0;32m~/.local/lib/python3.6/site-packages/matplotlib/cbook/deprecation.py\u001b[0m in \u001b[0;36mwrapper\u001b[0;34m(*inner_args, **inner_kwargs)\u001b[0m\n\u001b[1;32m    409\u001b[0m                          \u001b[0;32melse\u001b[0m \u001b[0mdeprecation_addendum\u001b[0m\u001b[0;34m,\u001b[0m\u001b[0;34m\u001b[0m\u001b[0;34m\u001b[0m\u001b[0m\n\u001b[1;32m    410\u001b[0m                 **kwargs)\n\u001b[0;32m--> 411\u001b[0;31m         \u001b[0;32mreturn\u001b[0m \u001b[0mfunc\u001b[0m\u001b[0;34m(\u001b[0m\u001b[0;34m*\u001b[0m\u001b[0minner_args\u001b[0m\u001b[0;34m,\u001b[0m \u001b[0;34m**\u001b[0m\u001b[0minner_kwargs\u001b[0m\u001b[0;34m)\u001b[0m\u001b[0;34m\u001b[0m\u001b[0;34m\u001b[0m\u001b[0m\n\u001b[0m\u001b[1;32m    412\u001b[0m \u001b[0;34m\u001b[0m\u001b[0m\n\u001b[1;32m    413\u001b[0m     \u001b[0;32mreturn\u001b[0m \u001b[0mwrapper\u001b[0m\u001b[0;34m\u001b[0m\u001b[0;34m\u001b[0m\u001b[0m\n",
      "\u001b[0;32m~/.local/lib/python3.6/site-packages/matplotlib/axes/_base.py\u001b[0m in \u001b[0;36mdraw\u001b[0;34m(self, renderer, inframe)\u001b[0m\n\u001b[1;32m   2745\u001b[0m             \u001b[0mrenderer\u001b[0m\u001b[0;34m.\u001b[0m\u001b[0mstop_rasterizing\u001b[0m\u001b[0;34m(\u001b[0m\u001b[0;34m)\u001b[0m\u001b[0;34m\u001b[0m\u001b[0;34m\u001b[0m\u001b[0m\n\u001b[1;32m   2746\u001b[0m \u001b[0;34m\u001b[0m\u001b[0m\n\u001b[0;32m-> 2747\u001b[0;31m         \u001b[0mmimage\u001b[0m\u001b[0;34m.\u001b[0m\u001b[0m_draw_list_compositing_images\u001b[0m\u001b[0;34m(\u001b[0m\u001b[0mrenderer\u001b[0m\u001b[0;34m,\u001b[0m \u001b[0mself\u001b[0m\u001b[0;34m,\u001b[0m \u001b[0martists\u001b[0m\u001b[0;34m)\u001b[0m\u001b[0;34m\u001b[0m\u001b[0;34m\u001b[0m\u001b[0m\n\u001b[0m\u001b[1;32m   2748\u001b[0m \u001b[0;34m\u001b[0m\u001b[0m\n\u001b[1;32m   2749\u001b[0m         \u001b[0mrenderer\u001b[0m\u001b[0;34m.\u001b[0m\u001b[0mclose_group\u001b[0m\u001b[0;34m(\u001b[0m\u001b[0;34m'axes'\u001b[0m\u001b[0;34m)\u001b[0m\u001b[0;34m\u001b[0m\u001b[0;34m\u001b[0m\u001b[0m\n",
      "\u001b[0;32m~/.local/lib/python3.6/site-packages/matplotlib/image.py\u001b[0m in \u001b[0;36m_draw_list_compositing_images\u001b[0;34m(renderer, parent, artists, suppress_composite)\u001b[0m\n\u001b[1;32m    129\u001b[0m     \u001b[0;32mif\u001b[0m \u001b[0mnot_composite\u001b[0m \u001b[0;32mor\u001b[0m \u001b[0;32mnot\u001b[0m \u001b[0mhas_images\u001b[0m\u001b[0;34m:\u001b[0m\u001b[0;34m\u001b[0m\u001b[0;34m\u001b[0m\u001b[0m\n\u001b[1;32m    130\u001b[0m         \u001b[0;32mfor\u001b[0m \u001b[0ma\u001b[0m \u001b[0;32min\u001b[0m \u001b[0martists\u001b[0m\u001b[0;34m:\u001b[0m\u001b[0;34m\u001b[0m\u001b[0;34m\u001b[0m\u001b[0m\n\u001b[0;32m--> 131\u001b[0;31m             \u001b[0ma\u001b[0m\u001b[0;34m.\u001b[0m\u001b[0mdraw\u001b[0m\u001b[0;34m(\u001b[0m\u001b[0mrenderer\u001b[0m\u001b[0;34m)\u001b[0m\u001b[0;34m\u001b[0m\u001b[0;34m\u001b[0m\u001b[0m\n\u001b[0m\u001b[1;32m    132\u001b[0m     \u001b[0;32melse\u001b[0m\u001b[0;34m:\u001b[0m\u001b[0;34m\u001b[0m\u001b[0;34m\u001b[0m\u001b[0m\n\u001b[1;32m    133\u001b[0m         \u001b[0;31m# Composite any adjacent images together\u001b[0m\u001b[0;34m\u001b[0m\u001b[0;34m\u001b[0m\u001b[0;34m\u001b[0m\u001b[0m\n",
      "\u001b[0;32m~/.local/lib/python3.6/site-packages/matplotlib/artist.py\u001b[0m in \u001b[0;36mdraw_wrapper\u001b[0;34m(artist, renderer, *args, **kwargs)\u001b[0m\n\u001b[1;32m     39\u001b[0m                 \u001b[0mrenderer\u001b[0m\u001b[0;34m.\u001b[0m\u001b[0mstart_filter\u001b[0m\u001b[0;34m(\u001b[0m\u001b[0;34m)\u001b[0m\u001b[0;34m\u001b[0m\u001b[0;34m\u001b[0m\u001b[0m\n\u001b[1;32m     40\u001b[0m \u001b[0;34m\u001b[0m\u001b[0m\n\u001b[0;32m---> 41\u001b[0;31m             \u001b[0;32mreturn\u001b[0m \u001b[0mdraw\u001b[0m\u001b[0;34m(\u001b[0m\u001b[0martist\u001b[0m\u001b[0;34m,\u001b[0m \u001b[0mrenderer\u001b[0m\u001b[0;34m,\u001b[0m \u001b[0;34m*\u001b[0m\u001b[0margs\u001b[0m\u001b[0;34m,\u001b[0m \u001b[0;34m**\u001b[0m\u001b[0mkwargs\u001b[0m\u001b[0;34m)\u001b[0m\u001b[0;34m\u001b[0m\u001b[0;34m\u001b[0m\u001b[0m\n\u001b[0m\u001b[1;32m     42\u001b[0m         \u001b[0;32mfinally\u001b[0m\u001b[0;34m:\u001b[0m\u001b[0;34m\u001b[0m\u001b[0;34m\u001b[0m\u001b[0m\n\u001b[1;32m     43\u001b[0m             \u001b[0;32mif\u001b[0m \u001b[0martist\u001b[0m\u001b[0;34m.\u001b[0m\u001b[0mget_agg_filter\u001b[0m\u001b[0;34m(\u001b[0m\u001b[0;34m)\u001b[0m \u001b[0;32mis\u001b[0m \u001b[0;32mnot\u001b[0m \u001b[0;32mNone\u001b[0m\u001b[0;34m:\u001b[0m\u001b[0;34m\u001b[0m\u001b[0;34m\u001b[0m\u001b[0m\n",
      "\u001b[0;32m~/.local/lib/python3.6/site-packages/matplotlib/axis.py\u001b[0m in \u001b[0;36mdraw\u001b[0;34m(self, renderer, *args, **kwargs)\u001b[0m\n\u001b[1;32m   1164\u001b[0m         \u001b[0mticks_to_draw\u001b[0m \u001b[0;34m=\u001b[0m \u001b[0mself\u001b[0m\u001b[0;34m.\u001b[0m\u001b[0m_update_ticks\u001b[0m\u001b[0;34m(\u001b[0m\u001b[0;34m)\u001b[0m\u001b[0;34m\u001b[0m\u001b[0;34m\u001b[0m\u001b[0m\n\u001b[1;32m   1165\u001b[0m         ticklabelBoxes, ticklabelBoxes2 = self._get_tick_bboxes(ticks_to_draw,\n\u001b[0;32m-> 1166\u001b[0;31m                                                                 renderer)\n\u001b[0m\u001b[1;32m   1167\u001b[0m \u001b[0;34m\u001b[0m\u001b[0m\n\u001b[1;32m   1168\u001b[0m         \u001b[0;32mfor\u001b[0m \u001b[0mtick\u001b[0m \u001b[0;32min\u001b[0m \u001b[0mticks_to_draw\u001b[0m\u001b[0;34m:\u001b[0m\u001b[0;34m\u001b[0m\u001b[0;34m\u001b[0m\u001b[0m\n",
      "\u001b[0;32m~/.local/lib/python3.6/site-packages/matplotlib/axis.py\u001b[0m in \u001b[0;36m_get_tick_bboxes\u001b[0;34m(self, ticks, renderer)\u001b[0m\n\u001b[1;32m   1090\u001b[0m         \u001b[0;34m\"\"\"Return lists of bboxes for ticks' label1's and label2's.\"\"\"\u001b[0m\u001b[0;34m\u001b[0m\u001b[0;34m\u001b[0m\u001b[0m\n\u001b[1;32m   1091\u001b[0m         return ([tick.label1.get_window_extent(renderer)\n\u001b[0;32m-> 1092\u001b[0;31m                  for tick in ticks if tick.label1.get_visible()],\n\u001b[0m\u001b[1;32m   1093\u001b[0m                 [tick.label2.get_window_extent(renderer)\n\u001b[1;32m   1094\u001b[0m                  for tick in ticks if tick.label2.get_visible()])\n",
      "\u001b[0;32m~/.local/lib/python3.6/site-packages/matplotlib/axis.py\u001b[0m in \u001b[0;36m<listcomp>\u001b[0;34m(.0)\u001b[0m\n\u001b[1;32m   1090\u001b[0m         \u001b[0;34m\"\"\"Return lists of bboxes for ticks' label1's and label2's.\"\"\"\u001b[0m\u001b[0;34m\u001b[0m\u001b[0;34m\u001b[0m\u001b[0m\n\u001b[1;32m   1091\u001b[0m         return ([tick.label1.get_window_extent(renderer)\n\u001b[0;32m-> 1092\u001b[0;31m                  for tick in ticks if tick.label1.get_visible()],\n\u001b[0m\u001b[1;32m   1093\u001b[0m                 [tick.label2.get_window_extent(renderer)\n\u001b[1;32m   1094\u001b[0m                  for tick in ticks if tick.label2.get_visible()])\n",
      "\u001b[0;32m~/.local/lib/python3.6/site-packages/matplotlib/text.py\u001b[0m in \u001b[0;36mget_window_extent\u001b[0;34m(self, renderer, dpi)\u001b[0m\n\u001b[1;32m    900\u001b[0m \u001b[0;34m\u001b[0m\u001b[0m\n\u001b[1;32m    901\u001b[0m         \u001b[0;32mwith\u001b[0m \u001b[0mcbook\u001b[0m\u001b[0;34m.\u001b[0m\u001b[0m_setattr_cm\u001b[0m\u001b[0;34m(\u001b[0m\u001b[0mself\u001b[0m\u001b[0;34m.\u001b[0m\u001b[0mfigure\u001b[0m\u001b[0;34m,\u001b[0m \u001b[0mdpi\u001b[0m\u001b[0;34m=\u001b[0m\u001b[0mdpi\u001b[0m\u001b[0;34m)\u001b[0m\u001b[0;34m:\u001b[0m\u001b[0;34m\u001b[0m\u001b[0;34m\u001b[0m\u001b[0m\n\u001b[0;32m--> 902\u001b[0;31m             \u001b[0mbbox\u001b[0m\u001b[0;34m,\u001b[0m \u001b[0minfo\u001b[0m\u001b[0;34m,\u001b[0m \u001b[0mdescent\u001b[0m \u001b[0;34m=\u001b[0m \u001b[0mself\u001b[0m\u001b[0;34m.\u001b[0m\u001b[0m_get_layout\u001b[0m\u001b[0;34m(\u001b[0m\u001b[0mself\u001b[0m\u001b[0;34m.\u001b[0m\u001b[0m_renderer\u001b[0m\u001b[0;34m)\u001b[0m\u001b[0;34m\u001b[0m\u001b[0;34m\u001b[0m\u001b[0m\n\u001b[0m\u001b[1;32m    903\u001b[0m             \u001b[0mx\u001b[0m\u001b[0;34m,\u001b[0m \u001b[0my\u001b[0m \u001b[0;34m=\u001b[0m \u001b[0mself\u001b[0m\u001b[0;34m.\u001b[0m\u001b[0mget_unitless_position\u001b[0m\u001b[0;34m(\u001b[0m\u001b[0;34m)\u001b[0m\u001b[0;34m\u001b[0m\u001b[0;34m\u001b[0m\u001b[0m\n\u001b[1;32m    904\u001b[0m             \u001b[0mx\u001b[0m\u001b[0;34m,\u001b[0m \u001b[0my\u001b[0m \u001b[0;34m=\u001b[0m \u001b[0mself\u001b[0m\u001b[0;34m.\u001b[0m\u001b[0mget_transform\u001b[0m\u001b[0;34m(\u001b[0m\u001b[0;34m)\u001b[0m\u001b[0;34m.\u001b[0m\u001b[0mtransform\u001b[0m\u001b[0;34m(\u001b[0m\u001b[0;34m(\u001b[0m\u001b[0mx\u001b[0m\u001b[0;34m,\u001b[0m \u001b[0my\u001b[0m\u001b[0;34m)\u001b[0m\u001b[0;34m)\u001b[0m\u001b[0;34m\u001b[0m\u001b[0;34m\u001b[0m\u001b[0m\n",
      "\u001b[0;32m~/.local/lib/python3.6/site-packages/matplotlib/text.py\u001b[0m in \u001b[0;36m_get_layout\u001b[0;34m(self, renderer)\u001b[0m\n\u001b[1;32m    294\u001b[0m             \u001b[0;32mif\u001b[0m \u001b[0mclean_line\u001b[0m\u001b[0;34m:\u001b[0m\u001b[0;34m\u001b[0m\u001b[0;34m\u001b[0m\u001b[0m\n\u001b[1;32m    295\u001b[0m                 w, h, d = renderer.get_text_width_height_descent(\n\u001b[0;32m--> 296\u001b[0;31m                     clean_line, self._fontproperties, ismath=ismath)\n\u001b[0m\u001b[1;32m    297\u001b[0m             \u001b[0;32melse\u001b[0m\u001b[0;34m:\u001b[0m\u001b[0;34m\u001b[0m\u001b[0;34m\u001b[0m\u001b[0m\n\u001b[1;32m    298\u001b[0m                 \u001b[0mw\u001b[0m \u001b[0;34m=\u001b[0m \u001b[0mh\u001b[0m \u001b[0;34m=\u001b[0m \u001b[0md\u001b[0m \u001b[0;34m=\u001b[0m \u001b[0;36m0\u001b[0m\u001b[0;34m\u001b[0m\u001b[0;34m\u001b[0m\u001b[0m\n",
      "\u001b[0;32m~/.local/lib/python3.6/site-packages/matplotlib/backends/backend_agg.py\u001b[0m in \u001b[0;36mget_text_width_height_descent\u001b[0;34m(self, s, prop, ismath)\u001b[0m\n\u001b[1;32m    236\u001b[0m         \u001b[0mflags\u001b[0m \u001b[0;34m=\u001b[0m \u001b[0mget_hinting_flag\u001b[0m\u001b[0;34m(\u001b[0m\u001b[0;34m)\u001b[0m\u001b[0;34m\u001b[0m\u001b[0;34m\u001b[0m\u001b[0m\n\u001b[1;32m    237\u001b[0m         \u001b[0mfont\u001b[0m \u001b[0;34m=\u001b[0m \u001b[0mself\u001b[0m\u001b[0;34m.\u001b[0m\u001b[0m_get_agg_font\u001b[0m\u001b[0;34m(\u001b[0m\u001b[0mprop\u001b[0m\u001b[0;34m)\u001b[0m\u001b[0;34m\u001b[0m\u001b[0;34m\u001b[0m\u001b[0m\n\u001b[0;32m--> 238\u001b[0;31m         \u001b[0mfont\u001b[0m\u001b[0;34m.\u001b[0m\u001b[0mset_text\u001b[0m\u001b[0;34m(\u001b[0m\u001b[0ms\u001b[0m\u001b[0;34m,\u001b[0m \u001b[0;36m0.0\u001b[0m\u001b[0;34m,\u001b[0m \u001b[0mflags\u001b[0m\u001b[0;34m=\u001b[0m\u001b[0mflags\u001b[0m\u001b[0;34m)\u001b[0m\u001b[0;34m\u001b[0m\u001b[0;34m\u001b[0m\u001b[0m\n\u001b[0m\u001b[1;32m    239\u001b[0m         \u001b[0mw\u001b[0m\u001b[0;34m,\u001b[0m \u001b[0mh\u001b[0m \u001b[0;34m=\u001b[0m \u001b[0mfont\u001b[0m\u001b[0;34m.\u001b[0m\u001b[0mget_width_height\u001b[0m\u001b[0;34m(\u001b[0m\u001b[0;34m)\u001b[0m  \u001b[0;31m# width and height of unrotated string\u001b[0m\u001b[0;34m\u001b[0m\u001b[0;34m\u001b[0m\u001b[0m\n\u001b[1;32m    240\u001b[0m         \u001b[0md\u001b[0m \u001b[0;34m=\u001b[0m \u001b[0mfont\u001b[0m\u001b[0;34m.\u001b[0m\u001b[0mget_descent\u001b[0m\u001b[0;34m(\u001b[0m\u001b[0;34m)\u001b[0m\u001b[0;34m\u001b[0m\u001b[0;34m\u001b[0m\u001b[0m\n",
      "\u001b[0;31mKeyboardInterrupt\u001b[0m: "
     ]
    },
    {
     "data": {
      "image/png": "[encoded data removed]",
      "text/plain": [
       "<Figure size 432x288 with 1 Axes>"
      ]
     },
     "metadata": {
      "needs_background": "light"
     },
     "output_type": "display_data"
    }
   ],
   "source": [
    "year_death_less_100.plot.density(xlim=(2005, 2021))\n",
    "year_death_more_100.plot.density(xlim=(2005, 2021))\n",
    "plt.legend(['Owners with less than 100 relatives',\n",
    "            'Owners with more than 100 relatives'])\n",
    "plt.title('Date of death distribution', fontsize=20)\n",
    "plt.xlabel('Year of death', fontsize=15)\n",
    "plt.ylabel('Density', fontsize=15)\n",
    "plt.savefig(main_path+'owners_dt_death_distribution.png', dpi=300)"
   ]
  },
  {
   "attachments": {},
   "cell_type": "markdown",
   "metadata": {},
   "source": [
    "### 2.3 Gender\n",
    "\n",
    "- Gender 0: Women\n",
    "- Gender 1: Men"
   ]
  },
  {
   "cell_type": "code",
   "execution_count": 156,
   "metadata": {},
   "outputs": [
    {
     "data": {
      "text/plain": [
       "1    0.592114\n",
       "0    0.407886\n",
       "Name: gender, dtype: float64"
      ]
     },
     "execution_count": 156,
     "metadata": {},
     "output_type": "execute_result"
    }
   ],
   "source": [
    "rf_less_100.gender.value_counts(normalize=True)"
   ]
  },
  {
   "cell_type": "code",
   "execution_count": 157,
   "metadata": {},
   "outputs": [
    {
     "data": {
      "text/plain": [
       "1    0.614402\n",
       "0    0.385598\n",
       "Name: gender, dtype: float64"
      ]
     },
     "execution_count": 157,
     "metadata": {},
     "output_type": "execute_result"
    }
   ],
   "source": [
    "rf_more_100.gender.value_counts(normalize=True)"
   ]
  },
  {
   "attachments": {},
   "cell_type": "markdown",
   "metadata": {},
   "source": [
    "### 2.4 Citizenship"
   ]
  },
  {
   "cell_type": "code",
   "execution_count": 158,
   "metadata": {},
   "outputs": [
    {
     "data": {
      "text/plain": [
       "1    0.960939\n",
       "0    0.039061\n",
       "Name: is_citizen, dtype: float64"
      ]
     },
     "execution_count": 158,
     "metadata": {},
     "output_type": "execute_result"
    }
   ],
   "source": [
    "rf_less_100.is_citizen.value_counts(normalize=True)"
   ]
  },
  {
   "cell_type": "code",
   "execution_count": 159,
   "metadata": {},
   "outputs": [
    {
     "data": {
      "text/plain": [
       "1    0.996147\n",
       "0    0.003853\n",
       "Name: is_citizen, dtype: float64"
      ]
     },
     "execution_count": 159,
     "metadata": {},
     "output_type": "execute_result"
    }
   ],
   "source": [
    "rf_more_100.is_citizen.value_counts(normalize=True)"
   ]
  },
  {
   "attachments": {},
   "cell_type": "markdown",
   "metadata": {},
   "source": [
    "### 2.5 Marital status"
   ]
  },
  {
   "cell_type": "code",
   "execution_count": 173,
   "metadata": {},
   "outputs": [],
   "source": [
    "marital_status = rf_less_100.marital_status.value_counts(normalize=True).reset_index(drop=False)\n",
    "marital_status.columns = ['marital_status', 'less_100']\n",
    "marital_status['more_100'] = rf_more_100.marital_status.value_counts(normalize=True).tolist()"
   ]
  },
  {
   "cell_type": "code",
   "execution_count": 176,
   "metadata": {},
   "outputs": [],
   "source": [
    "# Wide to long format marital_status dataframe\n",
    "marital_status = pd.melt(marital_status, id_vars=['marital_status'], value_vars=['less_100', 'more_100'])"
   ]
  },
  {
   "cell_type": "code",
   "execution_count": null,
   "metadata": {},
   "outputs": [],
   "source": [
    "import seaborn as sns\n",
    "sns.barplot(x='marital_status', y='value', hue='variable', data=marital_status)\n",
    "plt.xlabel('Marital Status', fontsize=15)\n",
    "plt.ylabel('Proportion of owners', fontsize=15)\n",
    "plt.title('Marital status by type of owner', fontsize=20)\n",
    "plt.savefig(main_path + 'marital_status_by_type_of_owner.png', dpi=300)"
   ]
  },
  {
   "attachments": {},
   "cell_type": "markdown",
   "metadata": {},
   "source": [
    "## 3. Plot Less than 100 relatives"
   ]
  },
  {
   "cell_type": "code",
   "execution_count": 26,
   "metadata": {},
   "outputs": [],
   "source": [
    "ref_count_less_100 = ref_count[ref_count.cedula_reference < 100]\n",
    "consang_less_100 = consang[consang.cedula_reference.isin(ref_count_less_100.index)]"
   ]
  },
  {
   "cell_type": "code",
   "execution_count": 28,
   "metadata": {},
   "outputs": [
    {
     "data": {
      "text/plain": [
       "(110802,)"
      ]
     },
     "execution_count": 28,
     "metadata": {},
     "output_type": "execute_result"
    }
   ],
   "source": [
    "consang_less_100.cedula_reference.unique().shape"
   ]
  },
  {
   "cell_type": "code",
   "execution_count": 14,
   "metadata": {},
   "outputs": [
    {
     "data": {
      "image/png": "[encoded data removed]",
      "text/plain": [
       "<Figure size 720x720 with 1 Axes>"
      ]
     },
     "metadata": {
      "needs_background": "light"
     },
     "output_type": "display_data"
    }
   ],
   "source": [
    "ax = ref_count_less_100.plot.hist(  bins=10, \n",
    "                                    figsize=(10, 10), \n",
    "                                    edgecolor='black',\n",
    "                                    legend=False)\n",
    "\n",
    "# Get the counts and bin edges from the histogram\n",
    "counts, bins, _ = ax.hist(ref_count_less_100['reference'], \n",
    "                            bins=10, edgecolor='black')\n",
    "ax.set_title('Distribution owners with less than 100 relatives (<7 consanguinity degree)',\n",
    "                fontsize=20)\n",
    "ax.set_xlabel('Number of people with less than 7 consangunity degree',\n",
    "                fontsize=16)\n",
    "ax.set_ylabel('Number of owners', fontsize=16)\n",
    "\n",
    "# Add labels to each bar\n",
    "for i in range(len(counts)):\n",
    "    plt.text(bins[i] + 2, counts[i] + 40, str(int(counts[i])))\n",
    "\n",
    "path_100 = '/home/juan.russy/shared/FamilyNetwork/people_6_degree_less_100.png'\n",
    "plt.savefig(path_100, dpi=300, bbox_inches='tight')\n"
   ]
  },
  {
   "attachments": {},
   "cell_type": "markdown",
   "metadata": {},
   "source": [
    "## 4. Plot More than or equal to 100 relatives"
   ]
  },
  {
   "cell_type": "code",
   "execution_count": 54,
   "metadata": {},
   "outputs": [],
   "source": [
    "ref_count_more_100 = ref_count[ref_count.cedula_reference >= 100]\n",
    "# ref_count_more_100 = ref_count_more_100[ref_count_more_100.cedula_reference < 200]\n",
    "consang_more_100 = consang[consang.cedula_reference.isin(ref_count_more_100.index)]"
   ]
  },
  {
   "cell_type": "code",
   "execution_count": 55,
   "metadata": {},
   "outputs": [
    {
     "data": {
      "text/html": [
       "<div>\n",
       "<style scoped>\n",
       "    .dataframe tbody tr th:only-of-type {\n",
       "        vertical-align: middle;\n",
       "    }\n",
       "\n",
       "    .dataframe tbody tr th {\n",
       "        vertical-align: top;\n",
       "    }\n",
       "\n",
       "    .dataframe thead th {\n",
       "        text-align: right;\n",
       "    }\n",
       "</style>\n",
       "<table border=\"1\" class=\"dataframe\">\n",
       "  <thead>\n",
       "    <tr style=\"text-align: right;\">\n",
       "      <th></th>\n",
       "      <th>degree_separation</th>\n",
       "      <th>cedula</th>\n",
       "      <th>cedula_reference</th>\n",
       "    </tr>\n",
       "  </thead>\n",
       "  <tbody>\n",
       "    <tr>\n",
       "      <th>4429</th>\n",
       "      <td>0</td>\n",
       "      <td>00033d61e03dfe50</td>\n",
       "      <td>00033d61e03dfe50</td>\n",
       "    </tr>\n",
       "    <tr>\n",
       "      <th>4430</th>\n",
       "      <td>0</td>\n",
       "      <td>cb09e015612c8d04</td>\n",
       "      <td>00033d61e03dfe50</td>\n",
       "    </tr>\n",
       "    <tr>\n",
       "      <th>4431</th>\n",
       "      <td>1</td>\n",
       "      <td>d42f29a5ccd3c327</td>\n",
       "      <td>00033d61e03dfe50</td>\n",
       "    </tr>\n",
       "    <tr>\n",
       "      <th>4432</th>\n",
       "      <td>1</td>\n",
       "      <td>860efdad0586544a</td>\n",
       "      <td>00033d61e03dfe50</td>\n",
       "    </tr>\n",
       "    <tr>\n",
       "      <th>4433</th>\n",
       "      <td>1</td>\n",
       "      <td>5d1f4ff565737aa2</td>\n",
       "      <td>00033d61e03dfe50</td>\n",
       "    </tr>\n",
       "    <tr>\n",
       "      <th>...</th>\n",
       "      <td>...</td>\n",
       "      <td>...</td>\n",
       "      <td>...</td>\n",
       "    </tr>\n",
       "    <tr>\n",
       "      <th>74331268</th>\n",
       "      <td>6</td>\n",
       "      <td>f7811ef1a01e87d0</td>\n",
       "      <td>fffffc843f9e2bf5</td>\n",
       "    </tr>\n",
       "    <tr>\n",
       "      <th>74331269</th>\n",
       "      <td>6</td>\n",
       "      <td>faf073408cc425e6</td>\n",
       "      <td>fffffc843f9e2bf5</td>\n",
       "    </tr>\n",
       "    <tr>\n",
       "      <th>74331270</th>\n",
       "      <td>6</td>\n",
       "      <td>21e063e665845148</td>\n",
       "      <td>fffffc843f9e2bf5</td>\n",
       "    </tr>\n",
       "    <tr>\n",
       "      <th>74331271</th>\n",
       "      <td>6</td>\n",
       "      <td>23b400871549aa8b</td>\n",
       "      <td>fffffc843f9e2bf5</td>\n",
       "    </tr>\n",
       "    <tr>\n",
       "      <th>74331272</th>\n",
       "      <td>6</td>\n",
       "      <td>212bd8bae11e37c5</td>\n",
       "      <td>fffffc843f9e2bf5</td>\n",
       "    </tr>\n",
       "  </tbody>\n",
       "</table>\n",
       "<p>13037714 rows × 3 columns</p>\n",
       "</div>"
      ],
      "text/plain": [
       "          degree_separation            cedula  cedula_reference\n",
       "4429                      0  00033d61e03dfe50  00033d61e03dfe50\n",
       "4430                      0  cb09e015612c8d04  00033d61e03dfe50\n",
       "4431                      1  d42f29a5ccd3c327  00033d61e03dfe50\n",
       "4432                      1  860efdad0586544a  00033d61e03dfe50\n",
       "4433                      1  5d1f4ff565737aa2  00033d61e03dfe50\n",
       "...                     ...               ...               ...\n",
       "74331268                  6  f7811ef1a01e87d0  fffffc843f9e2bf5\n",
       "74331269                  6  faf073408cc425e6  fffffc843f9e2bf5\n",
       "74331270                  6  21e063e665845148  fffffc843f9e2bf5\n",
       "74331271                  6  23b400871549aa8b  fffffc843f9e2bf5\n",
       "74331272                  6  212bd8bae11e37c5  fffffc843f9e2bf5\n",
       "\n",
       "[13037714 rows x 3 columns]"
      ]
     },
     "execution_count": 55,
     "metadata": {},
     "output_type": "execute_result"
    }
   ],
   "source": [
    "consang_more_100.head()"
   ]
  },
  {
   "cell_type": "code",
   "execution_count": 41,
   "metadata": {},
   "outputs": [
    {
     "data": {
      "text/plain": [
       "(198891,)"
      ]
     },
     "execution_count": 41,
     "metadata": {},
     "output_type": "execute_result"
    }
   ],
   "source": [
    "consang_more_100.cedula_reference.unique().shape"
   ]
  },
  {
   "cell_type": "code",
   "execution_count": 57,
   "metadata": {},
   "outputs": [
    {
     "data": {
      "text/plain": [
       "(108, 3)"
      ]
     },
     "execution_count": 57,
     "metadata": {},
     "output_type": "execute_result"
    }
   ],
   "source": [
    "consang_more_100[consang_more_100.cedula_reference==\"fffffc843f9e2bf5\"].shape"
   ]
  },
  {
   "attachments": {},
   "cell_type": "markdown",
   "metadata": {},
   "source": [
    "Cedulas that are use in the examples:\n",
    "\n",
    "- 0000233aaa95d489\n",
    "- fffffc843f9e2bf5\n",
    "\n",
    "Use /home/juan.russy/shared/namegraph/src/graph/consanguinity_one_node.py"
   ]
  },
  {
   "attachments": {},
   "cell_type": "markdown",
   "metadata": {},
   "source": [
    "### Grafica"
   ]
  },
  {
   "cell_type": "code",
   "execution_count": 43,
   "metadata": {},
   "outputs": [
    {
     "data": {
      "image/png": "[encoded data removed]",
      "text/plain": [
       "<Figure size 720x720 with 1 Axes>"
      ]
     },
     "metadata": {
      "needs_background": "light"
     },
     "output_type": "display_data"
    }
   ],
   "source": [
    "BINS = 15\n",
    "ax = ref_count_more_100.plot.hist(  bins=BINS,\n",
    "                                    figsize=(10, 10),\n",
    "                                    edgecolor='black',\n",
    "                                    legend=False,\n",
    "                                    log=True)\n",
    "# Get the counts and bin edges from the histogram\n",
    "counts, bins, _ = ax.hist(ref_count_more_100['reference'],\n",
    "                            bins=BINS, edgecolor='black')\n",
    "ax.set_title('Distribution owners with more than 100 relatives (<7 consanguinity degree)',\n",
    "                fontsize=20)\n",
    "ax.set_xlabel('Number of people with less than 7 consangunity degree',\n",
    "                fontsize=16)\n",
    "ax.set_ylabel('Number of owners (log scale)', fontsize=16)\n",
    "\n",
    "# Add labels to each bar\n",
    "for i in range(len(counts)):\n",
    "    if i == 13:\n",
    "        continue\n",
    "    elif i < 15 and i > 7:\n",
    "        sumy = 1\n",
    "    elif i < 5:\n",
    "        sumy=1000\n",
    "    else:\n",
    "        sumy=100\n",
    "    plt.text(bins[i] + 20, counts[i]+sumy, str(int(counts[i])))\n",
    "\n",
    "path_100 = '/home/juan.russy/shared/FamilyNetwork/people_6_degree_more_100.png'\n",
    "plt.savefig(path_100, dpi=300, bbox_inches='tight')\n"
   ]
  },
  {
   "attachments": {},
   "cell_type": "markdown",
   "metadata": {},
   "source": [
    "## 5. Density of relatives at each degree"
   ]
  },
  {
   "cell_type": "code",
   "execution_count": 118,
   "metadata": {},
   "outputs": [],
   "source": [
    "groupby_cols = ['cedula_reference', 'degree_separation']\n",
    "density_relatives = consang.groupby(groupby_cols).count().reset_index(drop=False)"
   ]
  },
  {
   "cell_type": "code",
   "execution_count": 119,
   "metadata": {},
   "outputs": [],
   "source": [
    "# Remove cedula_reference with only one relative (degree 0)\n",
    "value_count = pd.DataFrame(density_relatives.cedula_reference.value_counts()).reset_index(drop=False)\n",
    "value_count = value_count[value_count.cedula_reference ==1]\n",
    "density_relatives = density_relatives[~density_relatives.cedula_reference.isin(\n",
    "    value_count['index'])]"
   ]
  },
  {
   "cell_type": "code",
   "execution_count": 124,
   "metadata": {},
   "outputs": [],
   "source": [
    "density_relatives_2 = density_relatives.copy()\n",
    "# Substract one to degree_separation and remove negative values\n",
    "density_relatives_2['degree_separation'] = density_relatives_2['degree_separation'] - 1\n",
    "density_relatives_2 = density_relatives_2[density_relatives_2['degree_separation'] >= 0].reset_index(\n",
    "    drop=True)\n",
    "density_relatives_2 = density_relatives_2.rename(\n",
    "    columns={'cedula': 'cedula_2'})\n"
   ]
  },
  {
   "cell_type": "code",
   "execution_count": 130,
   "metadata": {},
   "outputs": [],
   "source": [
    "# Inner join\n",
    "density_relatives = density_relatives.merge(density_relatives_2, on=['cedula_reference', 'degree_separation'], how='inner')"
   ]
  },
  {
   "cell_type": "code",
   "execution_count": 135,
   "metadata": {},
   "outputs": [],
   "source": [
    "density_relatives['ratio'] = density_relatives['cedula_2'] / density_relatives['cedula']"
   ]
  },
  {
   "cell_type": "code",
   "execution_count": 139,
   "metadata": {},
   "outputs": [
    {
     "data": {
      "text/html": [
       "<div>\n",
       "<style scoped>\n",
       "    .dataframe tbody tr th:only-of-type {\n",
       "        vertical-align: middle;\n",
       "    }\n",
       "\n",
       "    .dataframe tbody tr th {\n",
       "        vertical-align: top;\n",
       "    }\n",
       "\n",
       "    .dataframe thead th {\n",
       "        text-align: right;\n",
       "    }\n",
       "</style>\n",
       "<table border=\"1\" class=\"dataframe\">\n",
       "  <thead>\n",
       "    <tr style=\"text-align: right;\">\n",
       "      <th></th>\n",
       "      <th>cedula_reference</th>\n",
       "      <th>degree_separation</th>\n",
       "      <th>cedula</th>\n",
       "      <th>cedula_2</th>\n",
       "      <th>ratio</th>\n",
       "    </tr>\n",
       "  </thead>\n",
       "  <tbody>\n",
       "    <tr>\n",
       "      <th>0</th>\n",
       "      <td>0000233aaa95d489</td>\n",
       "      <td>0</td>\n",
       "      <td>2</td>\n",
       "      <td>5</td>\n",
       "      <td>2.500000</td>\n",
       "    </tr>\n",
       "    <tr>\n",
       "      <th>1</th>\n",
       "      <td>0000233aaa95d489</td>\n",
       "      <td>1</td>\n",
       "      <td>5</td>\n",
       "      <td>13</td>\n",
       "      <td>2.600000</td>\n",
       "    </tr>\n",
       "    <tr>\n",
       "      <th>2</th>\n",
       "      <td>0000233aaa95d489</td>\n",
       "      <td>2</td>\n",
       "      <td>13</td>\n",
       "      <td>34</td>\n",
       "      <td>2.615385</td>\n",
       "    </tr>\n",
       "    <tr>\n",
       "      <th>3</th>\n",
       "      <td>0000233aaa95d489</td>\n",
       "      <td>3</td>\n",
       "      <td>34</td>\n",
       "      <td>76</td>\n",
       "      <td>2.235294</td>\n",
       "    </tr>\n",
       "    <tr>\n",
       "      <th>4</th>\n",
       "      <td>0000233aaa95d489</td>\n",
       "      <td>4</td>\n",
       "      <td>76</td>\n",
       "      <td>118</td>\n",
       "      <td>1.552632</td>\n",
       "    </tr>\n",
       "    <tr>\n",
       "      <th>...</th>\n",
       "      <td>...</td>\n",
       "      <td>...</td>\n",
       "      <td>...</td>\n",
       "      <td>...</td>\n",
       "      <td>...</td>\n",
       "    </tr>\n",
       "    <tr>\n",
       "      <th>2040571</th>\n",
       "      <td>fffffc843f9e2bf5</td>\n",
       "      <td>1</td>\n",
       "      <td>3</td>\n",
       "      <td>6</td>\n",
       "      <td>2.000000</td>\n",
       "    </tr>\n",
       "    <tr>\n",
       "      <th>2040572</th>\n",
       "      <td>fffffc843f9e2bf5</td>\n",
       "      <td>2</td>\n",
       "      <td>6</td>\n",
       "      <td>13</td>\n",
       "      <td>2.166667</td>\n",
       "    </tr>\n",
       "    <tr>\n",
       "      <th>2040573</th>\n",
       "      <td>fffffc843f9e2bf5</td>\n",
       "      <td>3</td>\n",
       "      <td>13</td>\n",
       "      <td>13</td>\n",
       "      <td>1.000000</td>\n",
       "    </tr>\n",
       "    <tr>\n",
       "      <th>2040574</th>\n",
       "      <td>fffffc843f9e2bf5</td>\n",
       "      <td>4</td>\n",
       "      <td>13</td>\n",
       "      <td>25</td>\n",
       "      <td>1.923077</td>\n",
       "    </tr>\n",
       "    <tr>\n",
       "      <th>2040575</th>\n",
       "      <td>fffffc843f9e2bf5</td>\n",
       "      <td>5</td>\n",
       "      <td>25</td>\n",
       "      <td>47</td>\n",
       "      <td>1.880000</td>\n",
       "    </tr>\n",
       "  </tbody>\n",
       "</table>\n",
       "<p>2040576 rows × 5 columns</p>\n",
       "</div>"
      ],
      "text/plain": [
       "         cedula_reference  degree_separation  cedula  cedula_2     ratio\n",
       "0        0000233aaa95d489                  0       2         5  2.500000\n",
       "1        0000233aaa95d489                  1       5        13  2.600000\n",
       "2        0000233aaa95d489                  2      13        34  2.615385\n",
       "3        0000233aaa95d489                  3      34        76  2.235294\n",
       "4        0000233aaa95d489                  4      76       118  1.552632\n",
       "...                   ...                ...     ...       ...       ...\n",
       "2040571  fffffc843f9e2bf5                  1       3         6  2.000000\n",
       "2040572  fffffc843f9e2bf5                  2       6        13  2.166667\n",
       "2040573  fffffc843f9e2bf5                  3      13        13  1.000000\n",
       "2040574  fffffc843f9e2bf5                  4      13        25  1.923077\n",
       "2040575  fffffc843f9e2bf5                  5      25        47  1.880000\n",
       "\n",
       "[2040576 rows x 5 columns]"
      ]
     },
     "execution_count": 139,
     "metadata": {},
     "output_type": "execute_result"
    }
   ],
   "source": [
    "density_relatives = density_relatives[['degree_separation', 'ratio']]"
   ]
  },
  {
   "attachments": {},
   "cell_type": "markdown",
   "metadata": {},
   "source": [
    "Plot ratio between consanguinity degree"
   ]
  },
  {
   "cell_type": "code",
   "execution_count": 177,
   "metadata": {},
   "outputs": [
    {
     "data": {
      "image/png": "[encoded data removed]",
      "text/plain": [
       "<Figure size 720x1440 with 6 Axes>"
      ]
     },
     "metadata": {
      "needs_background": "light"
     },
     "output_type": "display_data"
    }
   ],
   "source": [
    "from scipy.stats import gaussian_kde\n",
    "\n",
    "fig, axs = plt.subplots(\n",
    "    nrows=density_relatives['degree_separation'].nunique(), \n",
    "    ncols=1, figsize=(10, 20))\n",
    "\n",
    "# create a density plot for each category\n",
    "for i, (category, data) in enumerate(density_relatives.groupby('degree_separation')):\n",
    "    density = gaussian_kde(data['ratio'])\n",
    "    x = np.arange(int(min(data['ratio'])), int(max(data['ratio'])+1), 0.01)\n",
    "    axs[i].plot(x, density(x))\n",
    "    title = f\"Ratio between number of people in consanguinity degree {category+1} and {category}\"\n",
    "    axs[i].set_title(title)\n",
    "    axs[i].set_xlabel('Ratio')\n",
    "    axs[i].set_ylabel('Density')\n",
    "    axs[i].grid()\n",
    "    x = np.arange(int(min(data['ratio'])), int(max(data['ratio'])+1))\n",
    "    axs[i].set_xticks(x)\n",
    "\n",
    "# adjust the subplots layout and spacing\n",
    "fig.tight_layout(pad=1.5)\n",
    "\n",
    "fig.savefig(main_path + 'ratio_density.png', dpi=300)"
   ]
  },
  {
   "attachments": {},
   "cell_type": "markdown",
   "metadata": {},
   "source": [
    "Strange people"
   ]
  },
  {
   "cell_type": "code",
   "execution_count": 178,
   "metadata": {},
   "outputs": [],
   "source": [
    "groupby_cols = ['cedula_reference', 'degree_separation']\n",
    "density_relatives = consang.groupby(\n",
    "    groupby_cols).count().reset_index(drop=False)"
   ]
  },
  {
   "cell_type": "code",
   "execution_count": 180,
   "metadata": {},
   "outputs": [],
   "source": [
    "density_relatives = density_relatives.pivot(index = 'cedula_reference', columns = 'degree_separation', values = 'cedula')"
   ]
  },
  {
   "cell_type": "code",
   "execution_count": 182,
   "metadata": {},
   "outputs": [],
   "source": [
    "density_relatives['total'] = density_relatives.sum(axis=1)"
   ]
  },
  {
   "cell_type": "code",
   "execution_count": 184,
   "metadata": {},
   "outputs": [],
   "source": [
    "density_relatives[0] = density_relatives[0] / density_relatives['total']\n",
    "density_relatives[1] = density_relatives[1] / density_relatives['total']\n",
    "density_relatives[2] = density_relatives[2] / density_relatives['total']\n",
    "density_relatives[3] = density_relatives[3] / density_relatives['total']\n",
    "density_relatives[4] = density_relatives[4] / density_relatives['total']\n",
    "density_relatives[5] = density_relatives[5] / density_relatives['total']\n",
    "density_relatives[6] = density_relatives[6] / density_relatives['total']"
   ]
  },
  {
   "attachments": {},
   "cell_type": "markdown",
   "metadata": {},
   "source": [
    "Whole data characteristics"
   ]
  },
  {
   "cell_type": "code",
   "execution_count": 196,
   "metadata": {},
   "outputs": [
    {
     "data": {
      "text/plain": [
       "208.29720164101644"
      ]
     },
     "execution_count": 196,
     "metadata": {},
     "output_type": "execute_result"
    }
   ],
   "source": [
    "density_relatives.total.mean()"
   ]
  },
  {
   "cell_type": "code",
   "execution_count": 226,
   "metadata": {},
   "outputs": [
    {
     "name": "stdout",
     "output_type": "stream",
     "text": [
      "Mean of total 22.084320695102686\n",
      "Max of total 567.0\n"
     ]
    },
    {
     "data": {
      "text/html": [
       "<div>\n",
       "<style scoped>\n",
       "    .dataframe tbody tr th:only-of-type {\n",
       "        vertical-align: middle;\n",
       "    }\n",
       "\n",
       "    .dataframe tbody tr th {\n",
       "        vertical-align: top;\n",
       "    }\n",
       "\n",
       "    .dataframe thead th {\n",
       "        text-align: right;\n",
       "    }\n",
       "</style>\n",
       "<table border=\"1\" class=\"dataframe\">\n",
       "  <thead>\n",
       "    <tr style=\"text-align: right;\">\n",
       "      <th>degree_separation</th>\n",
       "      <th>0</th>\n",
       "      <th>1</th>\n",
       "      <th>2</th>\n",
       "      <th>3</th>\n",
       "      <th>4</th>\n",
       "      <th>5</th>\n",
       "      <th>6</th>\n",
       "      <th>total</th>\n",
       "      <th>prop</th>\n",
       "    </tr>\n",
       "    <tr>\n",
       "      <th>cedula_reference</th>\n",
       "      <th></th>\n",
       "      <th></th>\n",
       "      <th></th>\n",
       "      <th></th>\n",
       "      <th></th>\n",
       "      <th></th>\n",
       "      <th></th>\n",
       "      <th></th>\n",
       "      <th></th>\n",
       "    </tr>\n",
       "  </thead>\n",
       "  <tbody>\n",
       "    <tr>\n",
       "      <th>0089394941207a71</th>\n",
       "      <td>0.007220</td>\n",
       "      <td>0.003610</td>\n",
       "      <td>0.021661</td>\n",
       "      <td>0.072202</td>\n",
       "      <td>0.126354</td>\n",
       "      <td>0.252708</td>\n",
       "      <td>0.516245</td>\n",
       "      <td>277.0</td>\n",
       "      <td>1.0</td>\n",
       "    </tr>\n",
       "    <tr>\n",
       "      <th>00dba43dadbea3e3</th>\n",
       "      <td>0.012346</td>\n",
       "      <td>0.006173</td>\n",
       "      <td>0.024691</td>\n",
       "      <td>0.043210</td>\n",
       "      <td>0.111111</td>\n",
       "      <td>0.271605</td>\n",
       "      <td>0.530864</td>\n",
       "      <td>162.0</td>\n",
       "      <td>1.0</td>\n",
       "    </tr>\n",
       "    <tr>\n",
       "      <th>01d7940497319305</th>\n",
       "      <td>0.015748</td>\n",
       "      <td>0.007874</td>\n",
       "      <td>0.055118</td>\n",
       "      <td>0.157480</td>\n",
       "      <td>0.133858</td>\n",
       "      <td>0.259843</td>\n",
       "      <td>0.370079</td>\n",
       "      <td>127.0</td>\n",
       "      <td>1.0</td>\n",
       "    </tr>\n",
       "    <tr>\n",
       "      <th>060a094d2db25b85</th>\n",
       "      <td>0.009390</td>\n",
       "      <td>0.004695</td>\n",
       "      <td>0.028169</td>\n",
       "      <td>0.070423</td>\n",
       "      <td>0.122066</td>\n",
       "      <td>0.192488</td>\n",
       "      <td>0.572770</td>\n",
       "      <td>213.0</td>\n",
       "      <td>1.0</td>\n",
       "    </tr>\n",
       "    <tr>\n",
       "      <th>071c5d3f424d2d44</th>\n",
       "      <td>0.018692</td>\n",
       "      <td>0.009346</td>\n",
       "      <td>0.046729</td>\n",
       "      <td>0.074766</td>\n",
       "      <td>0.084112</td>\n",
       "      <td>0.280374</td>\n",
       "      <td>0.485981</td>\n",
       "      <td>107.0</td>\n",
       "      <td>1.0</td>\n",
       "    </tr>\n",
       "    <tr>\n",
       "      <th>...</th>\n",
       "      <td>...</td>\n",
       "      <td>...</td>\n",
       "      <td>...</td>\n",
       "      <td>...</td>\n",
       "      <td>...</td>\n",
       "      <td>...</td>\n",
       "      <td>...</td>\n",
       "      <td>...</td>\n",
       "      <td>...</td>\n",
       "    </tr>\n",
       "    <tr>\n",
       "      <th>fc3b5047fc6d8998</th>\n",
       "      <td>0.011494</td>\n",
       "      <td>0.005747</td>\n",
       "      <td>0.017241</td>\n",
       "      <td>0.080460</td>\n",
       "      <td>0.114943</td>\n",
       "      <td>0.206897</td>\n",
       "      <td>0.563218</td>\n",
       "      <td>174.0</td>\n",
       "      <td>1.0</td>\n",
       "    </tr>\n",
       "    <tr>\n",
       "      <th>fc818afc5d9f4b85</th>\n",
       "      <td>0.015152</td>\n",
       "      <td>0.007576</td>\n",
       "      <td>0.022727</td>\n",
       "      <td>0.045455</td>\n",
       "      <td>0.174242</td>\n",
       "      <td>0.287879</td>\n",
       "      <td>0.446970</td>\n",
       "      <td>132.0</td>\n",
       "      <td>1.0</td>\n",
       "    </tr>\n",
       "    <tr>\n",
       "      <th>fda89837547d4fa6</th>\n",
       "      <td>0.015625</td>\n",
       "      <td>0.007812</td>\n",
       "      <td>0.007812</td>\n",
       "      <td>0.039062</td>\n",
       "      <td>0.085938</td>\n",
       "      <td>0.242188</td>\n",
       "      <td>0.601562</td>\n",
       "      <td>128.0</td>\n",
       "      <td>1.0</td>\n",
       "    </tr>\n",
       "    <tr>\n",
       "      <th>ff3f8125c97c0062</th>\n",
       "      <td>0.019417</td>\n",
       "      <td>0.009709</td>\n",
       "      <td>0.058252</td>\n",
       "      <td>0.116505</td>\n",
       "      <td>0.097087</td>\n",
       "      <td>0.203883</td>\n",
       "      <td>0.495146</td>\n",
       "      <td>103.0</td>\n",
       "      <td>1.0</td>\n",
       "    </tr>\n",
       "    <tr>\n",
       "      <th>ffdaf64ac1fa647a</th>\n",
       "      <td>0.013699</td>\n",
       "      <td>0.006849</td>\n",
       "      <td>0.034247</td>\n",
       "      <td>0.123288</td>\n",
       "      <td>0.143836</td>\n",
       "      <td>0.198630</td>\n",
       "      <td>0.479452</td>\n",
       "      <td>146.0</td>\n",
       "      <td>1.0</td>\n",
       "    </tr>\n",
       "  </tbody>\n",
       "</table>\n",
       "<p>216 rows × 9 columns</p>\n",
       "</div>"
      ],
      "text/plain": [
       "degree_separation         0         1         2         3         4         5  \\\n",
       "cedula_reference                                                                \n",
       "0089394941207a71   0.007220  0.003610  0.021661  0.072202  0.126354  0.252708   \n",
       "00dba43dadbea3e3   0.012346  0.006173  0.024691  0.043210  0.111111  0.271605   \n",
       "01d7940497319305   0.015748  0.007874  0.055118  0.157480  0.133858  0.259843   \n",
       "060a094d2db25b85   0.009390  0.004695  0.028169  0.070423  0.122066  0.192488   \n",
       "071c5d3f424d2d44   0.018692  0.009346  0.046729  0.074766  0.084112  0.280374   \n",
       "...                     ...       ...       ...       ...       ...       ...   \n",
       "fc3b5047fc6d8998   0.011494  0.005747  0.017241  0.080460  0.114943  0.206897   \n",
       "fc818afc5d9f4b85   0.015152  0.007576  0.022727  0.045455  0.174242  0.287879   \n",
       "fda89837547d4fa6   0.015625  0.007812  0.007812  0.039062  0.085938  0.242188   \n",
       "ff3f8125c97c0062   0.019417  0.009709  0.058252  0.116505  0.097087  0.203883   \n",
       "ffdaf64ac1fa647a   0.013699  0.006849  0.034247  0.123288  0.143836  0.198630   \n",
       "\n",
       "degree_separation         6  total  prop  \n",
       "cedula_reference                          \n",
       "0089394941207a71   0.516245  277.0   1.0  \n",
       "00dba43dadbea3e3   0.530864  162.0   1.0  \n",
       "01d7940497319305   0.370079  127.0   1.0  \n",
       "060a094d2db25b85   0.572770  213.0   1.0  \n",
       "071c5d3f424d2d44   0.485981  107.0   1.0  \n",
       "...                     ...    ...   ...  \n",
       "fc3b5047fc6d8998   0.563218  174.0   1.0  \n",
       "fc818afc5d9f4b85   0.446970  132.0   1.0  \n",
       "fda89837547d4fa6   0.601562  128.0   1.0  \n",
       "ff3f8125c97c0062   0.495146  103.0   1.0  \n",
       "ffdaf64ac1fa647a   0.479452  146.0   1.0  \n",
       "\n",
       "[216 rows x 9 columns]"
      ]
     },
     "execution_count": 226,
     "metadata": {},
     "output_type": "execute_result"
    }
   ],
   "source": [
    "base = density_relatives[density_relatives[0] > density_relatives[1]]\n",
    "print('Mean of total', base.total.mean())\n",
    "print('Max of total', base.total.max())\n",
    "base[base.total>100]"
   ]
  },
  {
   "cell_type": "code",
   "execution_count": 227,
   "metadata": {},
   "outputs": [
    {
     "name": "stdout",
     "output_type": "stream",
     "text": [
      "Mean of total 66.45400126023945\n",
      "Max of total 622.0\n"
     ]
    },
    {
     "data": {
      "text/html": [
       "<div>\n",
       "<style scoped>\n",
       "    .dataframe tbody tr th:only-of-type {\n",
       "        vertical-align: middle;\n",
       "    }\n",
       "\n",
       "    .dataframe tbody tr th {\n",
       "        vertical-align: top;\n",
       "    }\n",
       "\n",
       "    .dataframe thead th {\n",
       "        text-align: right;\n",
       "    }\n",
       "</style>\n",
       "<table border=\"1\" class=\"dataframe\">\n",
       "  <thead>\n",
       "    <tr style=\"text-align: right;\">\n",
       "      <th>degree_separation</th>\n",
       "      <th>0</th>\n",
       "      <th>1</th>\n",
       "      <th>2</th>\n",
       "      <th>3</th>\n",
       "      <th>4</th>\n",
       "      <th>5</th>\n",
       "      <th>6</th>\n",
       "      <th>total</th>\n",
       "      <th>prop</th>\n",
       "    </tr>\n",
       "    <tr>\n",
       "      <th>cedula_reference</th>\n",
       "      <th></th>\n",
       "      <th></th>\n",
       "      <th></th>\n",
       "      <th></th>\n",
       "      <th></th>\n",
       "      <th></th>\n",
       "      <th></th>\n",
       "      <th></th>\n",
       "      <th></th>\n",
       "    </tr>\n",
       "  </thead>\n",
       "  <tbody>\n",
       "    <tr>\n",
       "      <th>00076fa7ec2267d1</th>\n",
       "      <td>0.012579</td>\n",
       "      <td>0.044025</td>\n",
       "      <td>0.037736</td>\n",
       "      <td>0.044025</td>\n",
       "      <td>0.125786</td>\n",
       "      <td>0.257862</td>\n",
       "      <td>0.477987</td>\n",
       "      <td>159.0</td>\n",
       "      <td>1.0</td>\n",
       "    </tr>\n",
       "    <tr>\n",
       "      <th>000b5b3bbfd3c452</th>\n",
       "      <td>0.010526</td>\n",
       "      <td>0.042105</td>\n",
       "      <td>0.031579</td>\n",
       "      <td>0.073684</td>\n",
       "      <td>0.100000</td>\n",
       "      <td>0.247368</td>\n",
       "      <td>0.494737</td>\n",
       "      <td>190.0</td>\n",
       "      <td>1.0</td>\n",
       "    </tr>\n",
       "    <tr>\n",
       "      <th>000e41c550b3cdc0</th>\n",
       "      <td>0.006098</td>\n",
       "      <td>0.024390</td>\n",
       "      <td>0.018293</td>\n",
       "      <td>0.030488</td>\n",
       "      <td>0.097561</td>\n",
       "      <td>0.268293</td>\n",
       "      <td>0.554878</td>\n",
       "      <td>164.0</td>\n",
       "      <td>1.0</td>\n",
       "    </tr>\n",
       "    <tr>\n",
       "      <th>002634eb87fcbdfe</th>\n",
       "      <td>0.013333</td>\n",
       "      <td>0.033333</td>\n",
       "      <td>0.026667</td>\n",
       "      <td>0.073333</td>\n",
       "      <td>0.120000</td>\n",
       "      <td>0.286667</td>\n",
       "      <td>0.446667</td>\n",
       "      <td>150.0</td>\n",
       "      <td>1.0</td>\n",
       "    </tr>\n",
       "    <tr>\n",
       "      <th>002c03df67db1b49</th>\n",
       "      <td>0.010695</td>\n",
       "      <td>0.032086</td>\n",
       "      <td>0.016043</td>\n",
       "      <td>0.064171</td>\n",
       "      <td>0.106952</td>\n",
       "      <td>0.219251</td>\n",
       "      <td>0.550802</td>\n",
       "      <td>187.0</td>\n",
       "      <td>1.0</td>\n",
       "    </tr>\n",
       "    <tr>\n",
       "      <th>...</th>\n",
       "      <td>...</td>\n",
       "      <td>...</td>\n",
       "      <td>...</td>\n",
       "      <td>...</td>\n",
       "      <td>...</td>\n",
       "      <td>...</td>\n",
       "      <td>...</td>\n",
       "      <td>...</td>\n",
       "      <td>...</td>\n",
       "    </tr>\n",
       "    <tr>\n",
       "      <th>ffd48ad64a41094b</th>\n",
       "      <td>0.014706</td>\n",
       "      <td>0.036765</td>\n",
       "      <td>0.029412</td>\n",
       "      <td>0.058824</td>\n",
       "      <td>0.088235</td>\n",
       "      <td>0.227941</td>\n",
       "      <td>0.544118</td>\n",
       "      <td>136.0</td>\n",
       "      <td>1.0</td>\n",
       "    </tr>\n",
       "    <tr>\n",
       "      <th>ffd84fcec29ab94e</th>\n",
       "      <td>0.010526</td>\n",
       "      <td>0.026316</td>\n",
       "      <td>0.015789</td>\n",
       "      <td>0.084211</td>\n",
       "      <td>0.147368</td>\n",
       "      <td>0.242105</td>\n",
       "      <td>0.473684</td>\n",
       "      <td>190.0</td>\n",
       "      <td>1.0</td>\n",
       "    </tr>\n",
       "    <tr>\n",
       "      <th>ffe7802d5fb37c35</th>\n",
       "      <td>0.005917</td>\n",
       "      <td>0.011834</td>\n",
       "      <td>0.005917</td>\n",
       "      <td>0.041420</td>\n",
       "      <td>0.124260</td>\n",
       "      <td>0.254438</td>\n",
       "      <td>0.556213</td>\n",
       "      <td>169.0</td>\n",
       "      <td>1.0</td>\n",
       "    </tr>\n",
       "    <tr>\n",
       "      <th>fff844925422f7a5</th>\n",
       "      <td>0.008000</td>\n",
       "      <td>0.032000</td>\n",
       "      <td>0.016000</td>\n",
       "      <td>0.048000</td>\n",
       "      <td>0.160000</td>\n",
       "      <td>0.272000</td>\n",
       "      <td>0.464000</td>\n",
       "      <td>125.0</td>\n",
       "      <td>1.0</td>\n",
       "    </tr>\n",
       "    <tr>\n",
       "      <th>fffa6a812a18a1e4</th>\n",
       "      <td>0.009804</td>\n",
       "      <td>0.039216</td>\n",
       "      <td>0.019608</td>\n",
       "      <td>0.049020</td>\n",
       "      <td>0.151961</td>\n",
       "      <td>0.245098</td>\n",
       "      <td>0.485294</td>\n",
       "      <td>204.0</td>\n",
       "      <td>1.0</td>\n",
       "    </tr>\n",
       "  </tbody>\n",
       "</table>\n",
       "<p>9278 rows × 9 columns</p>\n",
       "</div>"
      ],
      "text/plain": [
       "degree_separation         0         1         2         3         4         5  \\\n",
       "cedula_reference                                                                \n",
       "00076fa7ec2267d1   0.012579  0.044025  0.037736  0.044025  0.125786  0.257862   \n",
       "000b5b3bbfd3c452   0.010526  0.042105  0.031579  0.073684  0.100000  0.247368   \n",
       "000e41c550b3cdc0   0.006098  0.024390  0.018293  0.030488  0.097561  0.268293   \n",
       "002634eb87fcbdfe   0.013333  0.033333  0.026667  0.073333  0.120000  0.286667   \n",
       "002c03df67db1b49   0.010695  0.032086  0.016043  0.064171  0.106952  0.219251   \n",
       "...                     ...       ...       ...       ...       ...       ...   \n",
       "ffd48ad64a41094b   0.014706  0.036765  0.029412  0.058824  0.088235  0.227941   \n",
       "ffd84fcec29ab94e   0.010526  0.026316  0.015789  0.084211  0.147368  0.242105   \n",
       "ffe7802d5fb37c35   0.005917  0.011834  0.005917  0.041420  0.124260  0.254438   \n",
       "fff844925422f7a5   0.008000  0.032000  0.016000  0.048000  0.160000  0.272000   \n",
       "fffa6a812a18a1e4   0.009804  0.039216  0.019608  0.049020  0.151961  0.245098   \n",
       "\n",
       "degree_separation         6  total  prop  \n",
       "cedula_reference                          \n",
       "00076fa7ec2267d1   0.477987  159.0   1.0  \n",
       "000b5b3bbfd3c452   0.494737  190.0   1.0  \n",
       "000e41c550b3cdc0   0.554878  164.0   1.0  \n",
       "002634eb87fcbdfe   0.446667  150.0   1.0  \n",
       "002c03df67db1b49   0.550802  187.0   1.0  \n",
       "...                     ...    ...   ...  \n",
       "ffd48ad64a41094b   0.544118  136.0   1.0  \n",
       "ffd84fcec29ab94e   0.473684  190.0   1.0  \n",
       "ffe7802d5fb37c35   0.556213  169.0   1.0  \n",
       "fff844925422f7a5   0.464000  125.0   1.0  \n",
       "fffa6a812a18a1e4   0.485294  204.0   1.0  \n",
       "\n",
       "[9278 rows x 9 columns]"
      ]
     },
     "execution_count": 227,
     "metadata": {},
     "output_type": "execute_result"
    }
   ],
   "source": [
    "base = density_relatives[density_relatives[1] > density_relatives[2]]\n",
    "print('Mean of total', base.total.mean())\n",
    "print('Max of total', base.total.max())\n",
    "base[base.total>100]"
   ]
  },
  {
   "cell_type": "code",
   "execution_count": 228,
   "metadata": {},
   "outputs": [
    {
     "name": "stdout",
     "output_type": "stream",
     "text": [
      "Mean of total 84.33919487956881\n",
      "Max of total 1123.0\n"
     ]
    },
    {
     "data": {
      "text/html": [
       "<div>\n",
       "<style scoped>\n",
       "    .dataframe tbody tr th:only-of-type {\n",
       "        vertical-align: middle;\n",
       "    }\n",
       "\n",
       "    .dataframe tbody tr th {\n",
       "        vertical-align: top;\n",
       "    }\n",
       "\n",
       "    .dataframe thead th {\n",
       "        text-align: right;\n",
       "    }\n",
       "</style>\n",
       "<table border=\"1\" class=\"dataframe\">\n",
       "  <thead>\n",
       "    <tr style=\"text-align: right;\">\n",
       "      <th>degree_separation</th>\n",
       "      <th>0</th>\n",
       "      <th>1</th>\n",
       "      <th>2</th>\n",
       "      <th>3</th>\n",
       "      <th>4</th>\n",
       "      <th>5</th>\n",
       "      <th>6</th>\n",
       "      <th>total</th>\n",
       "      <th>prop</th>\n",
       "    </tr>\n",
       "    <tr>\n",
       "      <th>cedula_reference</th>\n",
       "      <th></th>\n",
       "      <th></th>\n",
       "      <th></th>\n",
       "      <th></th>\n",
       "      <th></th>\n",
       "      <th></th>\n",
       "      <th></th>\n",
       "      <th></th>\n",
       "      <th></th>\n",
       "    </tr>\n",
       "  </thead>\n",
       "  <tbody>\n",
       "    <tr>\n",
       "      <th>000d2f1c4d10a744</th>\n",
       "      <td>0.010101</td>\n",
       "      <td>0.025253</td>\n",
       "      <td>0.050505</td>\n",
       "      <td>0.030303</td>\n",
       "      <td>0.085859</td>\n",
       "      <td>0.217172</td>\n",
       "      <td>0.580808</td>\n",
       "      <td>198.0</td>\n",
       "      <td>1.0</td>\n",
       "    </tr>\n",
       "    <tr>\n",
       "      <th>0010e1c0d4cb711c</th>\n",
       "      <td>0.008475</td>\n",
       "      <td>0.025424</td>\n",
       "      <td>0.093220</td>\n",
       "      <td>0.084746</td>\n",
       "      <td>0.118644</td>\n",
       "      <td>0.220339</td>\n",
       "      <td>0.449153</td>\n",
       "      <td>118.0</td>\n",
       "      <td>1.0</td>\n",
       "    </tr>\n",
       "    <tr>\n",
       "      <th>00137b8c58ffb661</th>\n",
       "      <td>0.015152</td>\n",
       "      <td>0.030303</td>\n",
       "      <td>0.083333</td>\n",
       "      <td>0.060606</td>\n",
       "      <td>0.151515</td>\n",
       "      <td>0.265152</td>\n",
       "      <td>0.393939</td>\n",
       "      <td>132.0</td>\n",
       "      <td>1.0</td>\n",
       "    </tr>\n",
       "    <tr>\n",
       "      <th>0019978181f2dbc8</th>\n",
       "      <td>0.016667</td>\n",
       "      <td>0.033333</td>\n",
       "      <td>0.091667</td>\n",
       "      <td>0.075000</td>\n",
       "      <td>0.125000</td>\n",
       "      <td>0.216667</td>\n",
       "      <td>0.441667</td>\n",
       "      <td>120.0</td>\n",
       "      <td>1.0</td>\n",
       "    </tr>\n",
       "    <tr>\n",
       "      <th>001acb003810c927</th>\n",
       "      <td>0.008333</td>\n",
       "      <td>0.033333</td>\n",
       "      <td>0.075000</td>\n",
       "      <td>0.050000</td>\n",
       "      <td>0.100000</td>\n",
       "      <td>0.233333</td>\n",
       "      <td>0.500000</td>\n",
       "      <td>120.0</td>\n",
       "      <td>1.0</td>\n",
       "    </tr>\n",
       "    <tr>\n",
       "      <th>...</th>\n",
       "      <td>...</td>\n",
       "      <td>...</td>\n",
       "      <td>...</td>\n",
       "      <td>...</td>\n",
       "      <td>...</td>\n",
       "      <td>...</td>\n",
       "      <td>...</td>\n",
       "      <td>...</td>\n",
       "      <td>...</td>\n",
       "    </tr>\n",
       "    <tr>\n",
       "      <th>ffcdfd50392d62f7</th>\n",
       "      <td>0.009569</td>\n",
       "      <td>0.023923</td>\n",
       "      <td>0.062201</td>\n",
       "      <td>0.052632</td>\n",
       "      <td>0.114833</td>\n",
       "      <td>0.320574</td>\n",
       "      <td>0.416268</td>\n",
       "      <td>209.0</td>\n",
       "      <td>1.0</td>\n",
       "    </tr>\n",
       "    <tr>\n",
       "      <th>ffe8e096b055d296</th>\n",
       "      <td>0.019231</td>\n",
       "      <td>0.038462</td>\n",
       "      <td>0.096154</td>\n",
       "      <td>0.067308</td>\n",
       "      <td>0.163462</td>\n",
       "      <td>0.221154</td>\n",
       "      <td>0.394231</td>\n",
       "      <td>104.0</td>\n",
       "      <td>1.0</td>\n",
       "    </tr>\n",
       "    <tr>\n",
       "      <th>ffe9bb9537e21e92</th>\n",
       "      <td>0.005602</td>\n",
       "      <td>0.022409</td>\n",
       "      <td>0.072829</td>\n",
       "      <td>0.067227</td>\n",
       "      <td>0.140056</td>\n",
       "      <td>0.274510</td>\n",
       "      <td>0.417367</td>\n",
       "      <td>357.0</td>\n",
       "      <td>1.0</td>\n",
       "    </tr>\n",
       "    <tr>\n",
       "      <th>ffe9d82f6cce91dd</th>\n",
       "      <td>0.012903</td>\n",
       "      <td>0.038710</td>\n",
       "      <td>0.103226</td>\n",
       "      <td>0.064516</td>\n",
       "      <td>0.141935</td>\n",
       "      <td>0.245161</td>\n",
       "      <td>0.393548</td>\n",
       "      <td>155.0</td>\n",
       "      <td>1.0</td>\n",
       "    </tr>\n",
       "    <tr>\n",
       "      <th>fffbef12829532f4</th>\n",
       "      <td>0.015873</td>\n",
       "      <td>0.055556</td>\n",
       "      <td>0.071429</td>\n",
       "      <td>0.063492</td>\n",
       "      <td>0.119048</td>\n",
       "      <td>0.246032</td>\n",
       "      <td>0.428571</td>\n",
       "      <td>126.0</td>\n",
       "      <td>1.0</td>\n",
       "    </tr>\n",
       "  </tbody>\n",
       "</table>\n",
       "<p>8699 rows × 9 columns</p>\n",
       "</div>"
      ],
      "text/plain": [
       "degree_separation         0         1         2         3         4         5  \\\n",
       "cedula_reference                                                                \n",
       "000d2f1c4d10a744   0.010101  0.025253  0.050505  0.030303  0.085859  0.217172   \n",
       "0010e1c0d4cb711c   0.008475  0.025424  0.093220  0.084746  0.118644  0.220339   \n",
       "00137b8c58ffb661   0.015152  0.030303  0.083333  0.060606  0.151515  0.265152   \n",
       "0019978181f2dbc8   0.016667  0.033333  0.091667  0.075000  0.125000  0.216667   \n",
       "001acb003810c927   0.008333  0.033333  0.075000  0.050000  0.100000  0.233333   \n",
       "...                     ...       ...       ...       ...       ...       ...   \n",
       "ffcdfd50392d62f7   0.009569  0.023923  0.062201  0.052632  0.114833  0.320574   \n",
       "ffe8e096b055d296   0.019231  0.038462  0.096154  0.067308  0.163462  0.221154   \n",
       "ffe9bb9537e21e92   0.005602  0.022409  0.072829  0.067227  0.140056  0.274510   \n",
       "ffe9d82f6cce91dd   0.012903  0.038710  0.103226  0.064516  0.141935  0.245161   \n",
       "fffbef12829532f4   0.015873  0.055556  0.071429  0.063492  0.119048  0.246032   \n",
       "\n",
       "degree_separation         6  total  prop  \n",
       "cedula_reference                          \n",
       "000d2f1c4d10a744   0.580808  198.0   1.0  \n",
       "0010e1c0d4cb711c   0.449153  118.0   1.0  \n",
       "00137b8c58ffb661   0.393939  132.0   1.0  \n",
       "0019978181f2dbc8   0.441667  120.0   1.0  \n",
       "001acb003810c927   0.500000  120.0   1.0  \n",
       "...                     ...    ...   ...  \n",
       "ffcdfd50392d62f7   0.416268  209.0   1.0  \n",
       "ffe8e096b055d296   0.394231  104.0   1.0  \n",
       "ffe9bb9537e21e92   0.417367  357.0   1.0  \n",
       "ffe9d82f6cce91dd   0.393548  155.0   1.0  \n",
       "fffbef12829532f4   0.428571  126.0   1.0  \n",
       "\n",
       "[8699 rows x 9 columns]"
      ]
     },
     "execution_count": 228,
     "metadata": {},
     "output_type": "execute_result"
    }
   ],
   "source": [
    "base = density_relatives[density_relatives[2] > density_relatives[3]]\n",
    "print('Mean of total', base.total.mean())\n",
    "print('Max of total', base.total.max())\n",
    "base[base.total>100]"
   ]
  },
  {
   "cell_type": "code",
   "execution_count": 229,
   "metadata": {},
   "outputs": [
    {
     "name": "stdout",
     "output_type": "stream",
     "text": [
      "Mean of total 109.79731914152843\n",
      "Max of total 852.0\n"
     ]
    },
    {
     "data": {
      "text/html": [
       "<div>\n",
       "<style scoped>\n",
       "    .dataframe tbody tr th:only-of-type {\n",
       "        vertical-align: middle;\n",
       "    }\n",
       "\n",
       "    .dataframe tbody tr th {\n",
       "        vertical-align: top;\n",
       "    }\n",
       "\n",
       "    .dataframe thead th {\n",
       "        text-align: right;\n",
       "    }\n",
       "</style>\n",
       "<table border=\"1\" class=\"dataframe\">\n",
       "  <thead>\n",
       "    <tr style=\"text-align: right;\">\n",
       "      <th>degree_separation</th>\n",
       "      <th>0</th>\n",
       "      <th>1</th>\n",
       "      <th>2</th>\n",
       "      <th>3</th>\n",
       "      <th>4</th>\n",
       "      <th>5</th>\n",
       "      <th>6</th>\n",
       "      <th>total</th>\n",
       "      <th>prop</th>\n",
       "    </tr>\n",
       "    <tr>\n",
       "      <th>cedula_reference</th>\n",
       "      <th></th>\n",
       "      <th></th>\n",
       "      <th></th>\n",
       "      <th></th>\n",
       "      <th></th>\n",
       "      <th></th>\n",
       "      <th></th>\n",
       "      <th></th>\n",
       "      <th></th>\n",
       "    </tr>\n",
       "  </thead>\n",
       "  <tbody>\n",
       "    <tr>\n",
       "      <th>000079b1f60645e7</th>\n",
       "      <td>0.008658</td>\n",
       "      <td>0.025974</td>\n",
       "      <td>0.051948</td>\n",
       "      <td>0.129870</td>\n",
       "      <td>0.116883</td>\n",
       "      <td>0.216450</td>\n",
       "      <td>0.450216</td>\n",
       "      <td>231.0</td>\n",
       "      <td>1.0</td>\n",
       "    </tr>\n",
       "    <tr>\n",
       "      <th>0006dce3cf465c13</th>\n",
       "      <td>0.011236</td>\n",
       "      <td>0.022472</td>\n",
       "      <td>0.067416</td>\n",
       "      <td>0.117978</td>\n",
       "      <td>0.106742</td>\n",
       "      <td>0.185393</td>\n",
       "      <td>0.488764</td>\n",
       "      <td>178.0</td>\n",
       "      <td>1.0</td>\n",
       "    </tr>\n",
       "    <tr>\n",
       "      <th>000a0fe7fa675535</th>\n",
       "      <td>0.007937</td>\n",
       "      <td>0.023810</td>\n",
       "      <td>0.055556</td>\n",
       "      <td>0.174603</td>\n",
       "      <td>0.119048</td>\n",
       "      <td>0.182540</td>\n",
       "      <td>0.436508</td>\n",
       "      <td>126.0</td>\n",
       "      <td>1.0</td>\n",
       "    </tr>\n",
       "    <tr>\n",
       "      <th>000b6c2a84a57f6b</th>\n",
       "      <td>0.007752</td>\n",
       "      <td>0.015504</td>\n",
       "      <td>0.054264</td>\n",
       "      <td>0.131783</td>\n",
       "      <td>0.124031</td>\n",
       "      <td>0.217054</td>\n",
       "      <td>0.449612</td>\n",
       "      <td>129.0</td>\n",
       "      <td>1.0</td>\n",
       "    </tr>\n",
       "    <tr>\n",
       "      <th>000fbbc870af80d1</th>\n",
       "      <td>0.005780</td>\n",
       "      <td>0.014451</td>\n",
       "      <td>0.040462</td>\n",
       "      <td>0.109827</td>\n",
       "      <td>0.106936</td>\n",
       "      <td>0.187861</td>\n",
       "      <td>0.534682</td>\n",
       "      <td>346.0</td>\n",
       "      <td>1.0</td>\n",
       "    </tr>\n",
       "    <tr>\n",
       "      <th>...</th>\n",
       "      <td>...</td>\n",
       "      <td>...</td>\n",
       "      <td>...</td>\n",
       "      <td>...</td>\n",
       "      <td>...</td>\n",
       "      <td>...</td>\n",
       "      <td>...</td>\n",
       "      <td>...</td>\n",
       "      <td>...</td>\n",
       "    </tr>\n",
       "    <tr>\n",
       "      <th>fff8ec6cc2361b00</th>\n",
       "      <td>0.006944</td>\n",
       "      <td>0.013889</td>\n",
       "      <td>0.041667</td>\n",
       "      <td>0.076389</td>\n",
       "      <td>0.069444</td>\n",
       "      <td>0.243056</td>\n",
       "      <td>0.548611</td>\n",
       "      <td>144.0</td>\n",
       "      <td>1.0</td>\n",
       "    </tr>\n",
       "    <tr>\n",
       "      <th>fffaa8dc48aa607c</th>\n",
       "      <td>0.017391</td>\n",
       "      <td>0.052174</td>\n",
       "      <td>0.052174</td>\n",
       "      <td>0.156522</td>\n",
       "      <td>0.130435</td>\n",
       "      <td>0.173913</td>\n",
       "      <td>0.417391</td>\n",
       "      <td>115.0</td>\n",
       "      <td>1.0</td>\n",
       "    </tr>\n",
       "    <tr>\n",
       "      <th>fffcf00cc083edc7</th>\n",
       "      <td>0.006250</td>\n",
       "      <td>0.015625</td>\n",
       "      <td>0.040625</td>\n",
       "      <td>0.128125</td>\n",
       "      <td>0.118750</td>\n",
       "      <td>0.165625</td>\n",
       "      <td>0.525000</td>\n",
       "      <td>320.0</td>\n",
       "      <td>1.0</td>\n",
       "    </tr>\n",
       "    <tr>\n",
       "      <th>fffcff44a1c95481</th>\n",
       "      <td>0.009524</td>\n",
       "      <td>0.028571</td>\n",
       "      <td>0.042857</td>\n",
       "      <td>0.090476</td>\n",
       "      <td>0.085714</td>\n",
       "      <td>0.257143</td>\n",
       "      <td>0.485714</td>\n",
       "      <td>210.0</td>\n",
       "      <td>1.0</td>\n",
       "    </tr>\n",
       "    <tr>\n",
       "      <th>fffd12f4cd7f82e4</th>\n",
       "      <td>0.012048</td>\n",
       "      <td>0.048193</td>\n",
       "      <td>0.048193</td>\n",
       "      <td>0.162651</td>\n",
       "      <td>0.144578</td>\n",
       "      <td>0.259036</td>\n",
       "      <td>0.325301</td>\n",
       "      <td>166.0</td>\n",
       "      <td>1.0</td>\n",
       "    </tr>\n",
       "  </tbody>\n",
       "</table>\n",
       "<p>17282 rows × 9 columns</p>\n",
       "</div>"
      ],
      "text/plain": [
       "degree_separation         0         1         2         3         4         5  \\\n",
       "cedula_reference                                                                \n",
       "000079b1f60645e7   0.008658  0.025974  0.051948  0.129870  0.116883  0.216450   \n",
       "0006dce3cf465c13   0.011236  0.022472  0.067416  0.117978  0.106742  0.185393   \n",
       "000a0fe7fa675535   0.007937  0.023810  0.055556  0.174603  0.119048  0.182540   \n",
       "000b6c2a84a57f6b   0.007752  0.015504  0.054264  0.131783  0.124031  0.217054   \n",
       "000fbbc870af80d1   0.005780  0.014451  0.040462  0.109827  0.106936  0.187861   \n",
       "...                     ...       ...       ...       ...       ...       ...   \n",
       "fff8ec6cc2361b00   0.006944  0.013889  0.041667  0.076389  0.069444  0.243056   \n",
       "fffaa8dc48aa607c   0.017391  0.052174  0.052174  0.156522  0.130435  0.173913   \n",
       "fffcf00cc083edc7   0.006250  0.015625  0.040625  0.128125  0.118750  0.165625   \n",
       "fffcff44a1c95481   0.009524  0.028571  0.042857  0.090476  0.085714  0.257143   \n",
       "fffd12f4cd7f82e4   0.012048  0.048193  0.048193  0.162651  0.144578  0.259036   \n",
       "\n",
       "degree_separation         6  total  prop  \n",
       "cedula_reference                          \n",
       "000079b1f60645e7   0.450216  231.0   1.0  \n",
       "0006dce3cf465c13   0.488764  178.0   1.0  \n",
       "000a0fe7fa675535   0.436508  126.0   1.0  \n",
       "000b6c2a84a57f6b   0.449612  129.0   1.0  \n",
       "000fbbc870af80d1   0.534682  346.0   1.0  \n",
       "...                     ...    ...   ...  \n",
       "fff8ec6cc2361b00   0.548611  144.0   1.0  \n",
       "fffaa8dc48aa607c   0.417391  115.0   1.0  \n",
       "fffcf00cc083edc7   0.525000  320.0   1.0  \n",
       "fffcff44a1c95481   0.485714  210.0   1.0  \n",
       "fffd12f4cd7f82e4   0.325301  166.0   1.0  \n",
       "\n",
       "[17282 rows x 9 columns]"
      ]
     },
     "execution_count": 229,
     "metadata": {},
     "output_type": "execute_result"
    }
   ],
   "source": [
    "base = density_relatives[density_relatives[3] > density_relatives[4]]\n",
    "print('Mean of total', base.total.mean())\n",
    "print('Max of total', base.total.max())\n",
    "base[base.total>100]"
   ]
  },
  {
   "cell_type": "code",
   "execution_count": 230,
   "metadata": {},
   "outputs": [
    {
     "name": "stdout",
     "output_type": "stream",
     "text": [
      "Mean of total 74.92773122784402\n",
      "Max of total 881.0\n"
     ]
    },
    {
     "data": {
      "text/html": [
       "<div>\n",
       "<style scoped>\n",
       "    .dataframe tbody tr th:only-of-type {\n",
       "        vertical-align: middle;\n",
       "    }\n",
       "\n",
       "    .dataframe tbody tr th {\n",
       "        vertical-align: top;\n",
       "    }\n",
       "\n",
       "    .dataframe thead th {\n",
       "        text-align: right;\n",
       "    }\n",
       "</style>\n",
       "<table border=\"1\" class=\"dataframe\">\n",
       "  <thead>\n",
       "    <tr style=\"text-align: right;\">\n",
       "      <th>degree_separation</th>\n",
       "      <th>0</th>\n",
       "      <th>1</th>\n",
       "      <th>2</th>\n",
       "      <th>3</th>\n",
       "      <th>4</th>\n",
       "      <th>5</th>\n",
       "      <th>6</th>\n",
       "      <th>total</th>\n",
       "      <th>prop</th>\n",
       "    </tr>\n",
       "    <tr>\n",
       "      <th>cedula_reference</th>\n",
       "      <th></th>\n",
       "      <th></th>\n",
       "      <th></th>\n",
       "      <th></th>\n",
       "      <th></th>\n",
       "      <th></th>\n",
       "      <th></th>\n",
       "      <th></th>\n",
       "      <th></th>\n",
       "    </tr>\n",
       "  </thead>\n",
       "  <tbody>\n",
       "    <tr>\n",
       "      <th>0004c75c70a947a9</th>\n",
       "      <td>0.009091</td>\n",
       "      <td>0.036364</td>\n",
       "      <td>0.118182</td>\n",
       "      <td>0.163636</td>\n",
       "      <td>0.172727</td>\n",
       "      <td>0.163636</td>\n",
       "      <td>0.336364</td>\n",
       "      <td>110.0</td>\n",
       "      <td>1.0</td>\n",
       "    </tr>\n",
       "    <tr>\n",
       "      <th>0007510aba1ec398</th>\n",
       "      <td>0.004630</td>\n",
       "      <td>0.013889</td>\n",
       "      <td>0.055556</td>\n",
       "      <td>0.157407</td>\n",
       "      <td>0.212963</td>\n",
       "      <td>0.148148</td>\n",
       "      <td>0.407407</td>\n",
       "      <td>216.0</td>\n",
       "      <td>1.0</td>\n",
       "    </tr>\n",
       "    <tr>\n",
       "      <th>000ffc6897532a89</th>\n",
       "      <td>0.005263</td>\n",
       "      <td>0.010526</td>\n",
       "      <td>0.031579</td>\n",
       "      <td>0.089474</td>\n",
       "      <td>0.210526</td>\n",
       "      <td>0.194737</td>\n",
       "      <td>0.457895</td>\n",
       "      <td>190.0</td>\n",
       "      <td>1.0</td>\n",
       "    </tr>\n",
       "    <tr>\n",
       "      <th>00135f0238370ee7</th>\n",
       "      <td>0.015625</td>\n",
       "      <td>0.039062</td>\n",
       "      <td>0.085938</td>\n",
       "      <td>0.203125</td>\n",
       "      <td>0.242188</td>\n",
       "      <td>0.156250</td>\n",
       "      <td>0.257812</td>\n",
       "      <td>128.0</td>\n",
       "      <td>1.0</td>\n",
       "    </tr>\n",
       "    <tr>\n",
       "      <th>001cf7e509218df2</th>\n",
       "      <td>0.017857</td>\n",
       "      <td>0.044643</td>\n",
       "      <td>0.044643</td>\n",
       "      <td>0.142857</td>\n",
       "      <td>0.178571</td>\n",
       "      <td>0.151786</td>\n",
       "      <td>0.419643</td>\n",
       "      <td>112.0</td>\n",
       "      <td>1.0</td>\n",
       "    </tr>\n",
       "    <tr>\n",
       "      <th>...</th>\n",
       "      <td>...</td>\n",
       "      <td>...</td>\n",
       "      <td>...</td>\n",
       "      <td>...</td>\n",
       "      <td>...</td>\n",
       "      <td>...</td>\n",
       "      <td>...</td>\n",
       "      <td>...</td>\n",
       "      <td>...</td>\n",
       "    </tr>\n",
       "    <tr>\n",
       "      <th>ff686e145f114a12</th>\n",
       "      <td>0.005618</td>\n",
       "      <td>0.011236</td>\n",
       "      <td>0.033708</td>\n",
       "      <td>0.117978</td>\n",
       "      <td>0.191011</td>\n",
       "      <td>0.185393</td>\n",
       "      <td>0.455056</td>\n",
       "      <td>178.0</td>\n",
       "      <td>1.0</td>\n",
       "    </tr>\n",
       "    <tr>\n",
       "      <th>ffa6e550acda11f8</th>\n",
       "      <td>0.018519</td>\n",
       "      <td>0.037037</td>\n",
       "      <td>0.037037</td>\n",
       "      <td>0.092593</td>\n",
       "      <td>0.203704</td>\n",
       "      <td>0.194444</td>\n",
       "      <td>0.416667</td>\n",
       "      <td>108.0</td>\n",
       "      <td>1.0</td>\n",
       "    </tr>\n",
       "    <tr>\n",
       "      <th>ffaf527d268f08d6</th>\n",
       "      <td>0.009390</td>\n",
       "      <td>0.032864</td>\n",
       "      <td>0.042254</td>\n",
       "      <td>0.107981</td>\n",
       "      <td>0.253521</td>\n",
       "      <td>0.211268</td>\n",
       "      <td>0.342723</td>\n",
       "      <td>213.0</td>\n",
       "      <td>1.0</td>\n",
       "    </tr>\n",
       "    <tr>\n",
       "      <th>ffdeaa21eed03d76</th>\n",
       "      <td>0.018519</td>\n",
       "      <td>0.046296</td>\n",
       "      <td>0.074074</td>\n",
       "      <td>0.120370</td>\n",
       "      <td>0.203704</td>\n",
       "      <td>0.185185</td>\n",
       "      <td>0.351852</td>\n",
       "      <td>108.0</td>\n",
       "      <td>1.0</td>\n",
       "    </tr>\n",
       "    <tr>\n",
       "      <th>ffed080f0090c336</th>\n",
       "      <td>0.005291</td>\n",
       "      <td>0.010582</td>\n",
       "      <td>0.037037</td>\n",
       "      <td>0.095238</td>\n",
       "      <td>0.206349</td>\n",
       "      <td>0.198413</td>\n",
       "      <td>0.447090</td>\n",
       "      <td>378.0</td>\n",
       "      <td>1.0</td>\n",
       "    </tr>\n",
       "  </tbody>\n",
       "</table>\n",
       "<p>2960 rows × 9 columns</p>\n",
       "</div>"
      ],
      "text/plain": [
       "degree_separation         0         1         2         3         4         5  \\\n",
       "cedula_reference                                                                \n",
       "0004c75c70a947a9   0.009091  0.036364  0.118182  0.163636  0.172727  0.163636   \n",
       "0007510aba1ec398   0.004630  0.013889  0.055556  0.157407  0.212963  0.148148   \n",
       "000ffc6897532a89   0.005263  0.010526  0.031579  0.089474  0.210526  0.194737   \n",
       "00135f0238370ee7   0.015625  0.039062  0.085938  0.203125  0.242188  0.156250   \n",
       "001cf7e509218df2   0.017857  0.044643  0.044643  0.142857  0.178571  0.151786   \n",
       "...                     ...       ...       ...       ...       ...       ...   \n",
       "ff686e145f114a12   0.005618  0.011236  0.033708  0.117978  0.191011  0.185393   \n",
       "ffa6e550acda11f8   0.018519  0.037037  0.037037  0.092593  0.203704  0.194444   \n",
       "ffaf527d268f08d6   0.009390  0.032864  0.042254  0.107981  0.253521  0.211268   \n",
       "ffdeaa21eed03d76   0.018519  0.046296  0.074074  0.120370  0.203704  0.185185   \n",
       "ffed080f0090c336   0.005291  0.010582  0.037037  0.095238  0.206349  0.198413   \n",
       "\n",
       "degree_separation         6  total  prop  \n",
       "cedula_reference                          \n",
       "0004c75c70a947a9   0.336364  110.0   1.0  \n",
       "0007510aba1ec398   0.407407  216.0   1.0  \n",
       "000ffc6897532a89   0.457895  190.0   1.0  \n",
       "00135f0238370ee7   0.257812  128.0   1.0  \n",
       "001cf7e509218df2   0.419643  112.0   1.0  \n",
       "...                     ...    ...   ...  \n",
       "ff686e145f114a12   0.455056  178.0   1.0  \n",
       "ffa6e550acda11f8   0.416667  108.0   1.0  \n",
       "ffaf527d268f08d6   0.342723  213.0   1.0  \n",
       "ffdeaa21eed03d76   0.351852  108.0   1.0  \n",
       "ffed080f0090c336   0.447090  378.0   1.0  \n",
       "\n",
       "[2960 rows x 9 columns]"
      ]
     },
     "execution_count": 230,
     "metadata": {},
     "output_type": "execute_result"
    }
   ],
   "source": [
    "base = density_relatives[density_relatives[4] > density_relatives[5]]\n",
    "print('Mean of total', base.total.mean())\n",
    "print('Max of total', base.total.max())\n",
    "base[base.total>100]"
   ]
  },
  {
   "cell_type": "code",
   "execution_count": 231,
   "metadata": {},
   "outputs": [
    {
     "name": "stdout",
     "output_type": "stream",
     "text": [
      "Mean of total 48.63391380484483\n",
      "Max of total 526.0\n"
     ]
    },
    {
     "data": {
      "text/html": [
       "<div>\n",
       "<style scoped>\n",
       "    .dataframe tbody tr th:only-of-type {\n",
       "        vertical-align: middle;\n",
       "    }\n",
       "\n",
       "    .dataframe tbody tr th {\n",
       "        vertical-align: top;\n",
       "    }\n",
       "\n",
       "    .dataframe thead th {\n",
       "        text-align: right;\n",
       "    }\n",
       "</style>\n",
       "<table border=\"1\" class=\"dataframe\">\n",
       "  <thead>\n",
       "    <tr style=\"text-align: right;\">\n",
       "      <th>degree_separation</th>\n",
       "      <th>0</th>\n",
       "      <th>1</th>\n",
       "      <th>2</th>\n",
       "      <th>3</th>\n",
       "      <th>4</th>\n",
       "      <th>5</th>\n",
       "      <th>6</th>\n",
       "      <th>total</th>\n",
       "      <th>prop</th>\n",
       "    </tr>\n",
       "    <tr>\n",
       "      <th>cedula_reference</th>\n",
       "      <th></th>\n",
       "      <th></th>\n",
       "      <th></th>\n",
       "      <th></th>\n",
       "      <th></th>\n",
       "      <th></th>\n",
       "      <th></th>\n",
       "      <th></th>\n",
       "      <th></th>\n",
       "    </tr>\n",
       "  </thead>\n",
       "  <tbody>\n",
       "    <tr>\n",
       "      <th>009e73ef341fa72b</th>\n",
       "      <td>0.007407</td>\n",
       "      <td>0.014815</td>\n",
       "      <td>0.051852</td>\n",
       "      <td>0.088889</td>\n",
       "      <td>0.192593</td>\n",
       "      <td>0.325926</td>\n",
       "      <td>0.318519</td>\n",
       "      <td>135.0</td>\n",
       "      <td>1.0</td>\n",
       "    </tr>\n",
       "    <tr>\n",
       "      <th>00c37dae8329694b</th>\n",
       "      <td>0.009901</td>\n",
       "      <td>0.039604</td>\n",
       "      <td>0.079208</td>\n",
       "      <td>0.049505</td>\n",
       "      <td>0.128713</td>\n",
       "      <td>0.356436</td>\n",
       "      <td>0.336634</td>\n",
       "      <td>101.0</td>\n",
       "      <td>1.0</td>\n",
       "    </tr>\n",
       "    <tr>\n",
       "      <th>01c609ff6fc0fdfb</th>\n",
       "      <td>0.014493</td>\n",
       "      <td>0.050725</td>\n",
       "      <td>0.057971</td>\n",
       "      <td>0.094203</td>\n",
       "      <td>0.181159</td>\n",
       "      <td>0.304348</td>\n",
       "      <td>0.297101</td>\n",
       "      <td>138.0</td>\n",
       "      <td>1.0</td>\n",
       "    </tr>\n",
       "    <tr>\n",
       "      <th>01cbee5e94e52cfb</th>\n",
       "      <td>0.014286</td>\n",
       "      <td>0.050000</td>\n",
       "      <td>0.064286</td>\n",
       "      <td>0.114286</td>\n",
       "      <td>0.214286</td>\n",
       "      <td>0.278571</td>\n",
       "      <td>0.264286</td>\n",
       "      <td>140.0</td>\n",
       "      <td>1.0</td>\n",
       "    </tr>\n",
       "    <tr>\n",
       "      <th>01f269103336f7a5</th>\n",
       "      <td>0.009615</td>\n",
       "      <td>0.009615</td>\n",
       "      <td>0.048077</td>\n",
       "      <td>0.076923</td>\n",
       "      <td>0.163462</td>\n",
       "      <td>0.355769</td>\n",
       "      <td>0.336538</td>\n",
       "      <td>104.0</td>\n",
       "      <td>1.0</td>\n",
       "    </tr>\n",
       "    <tr>\n",
       "      <th>...</th>\n",
       "      <td>...</td>\n",
       "      <td>...</td>\n",
       "      <td>...</td>\n",
       "      <td>...</td>\n",
       "      <td>...</td>\n",
       "      <td>...</td>\n",
       "      <td>...</td>\n",
       "      <td>...</td>\n",
       "      <td>...</td>\n",
       "    </tr>\n",
       "    <tr>\n",
       "      <th>ff0e91a4036f1fc5</th>\n",
       "      <td>0.006289</td>\n",
       "      <td>0.031447</td>\n",
       "      <td>0.075472</td>\n",
       "      <td>0.088050</td>\n",
       "      <td>0.163522</td>\n",
       "      <td>0.320755</td>\n",
       "      <td>0.314465</td>\n",
       "      <td>159.0</td>\n",
       "      <td>1.0</td>\n",
       "    </tr>\n",
       "    <tr>\n",
       "      <th>ff10280a08707d94</th>\n",
       "      <td>0.008403</td>\n",
       "      <td>0.025210</td>\n",
       "      <td>0.042017</td>\n",
       "      <td>0.084034</td>\n",
       "      <td>0.193277</td>\n",
       "      <td>0.331933</td>\n",
       "      <td>0.315126</td>\n",
       "      <td>238.0</td>\n",
       "      <td>1.0</td>\n",
       "    </tr>\n",
       "    <tr>\n",
       "      <th>ff1ce71c4b75ab52</th>\n",
       "      <td>0.006369</td>\n",
       "      <td>0.025478</td>\n",
       "      <td>0.044586</td>\n",
       "      <td>0.082803</td>\n",
       "      <td>0.165605</td>\n",
       "      <td>0.350318</td>\n",
       "      <td>0.324841</td>\n",
       "      <td>157.0</td>\n",
       "      <td>1.0</td>\n",
       "    </tr>\n",
       "    <tr>\n",
       "      <th>ff82b7c9f408a3f3</th>\n",
       "      <td>0.008403</td>\n",
       "      <td>0.016807</td>\n",
       "      <td>0.042017</td>\n",
       "      <td>0.067227</td>\n",
       "      <td>0.176471</td>\n",
       "      <td>0.361345</td>\n",
       "      <td>0.327731</td>\n",
       "      <td>119.0</td>\n",
       "      <td>1.0</td>\n",
       "    </tr>\n",
       "    <tr>\n",
       "      <th>ff91df0d1673026e</th>\n",
       "      <td>0.006711</td>\n",
       "      <td>0.013423</td>\n",
       "      <td>0.040268</td>\n",
       "      <td>0.100671</td>\n",
       "      <td>0.208054</td>\n",
       "      <td>0.322148</td>\n",
       "      <td>0.308725</td>\n",
       "      <td>149.0</td>\n",
       "      <td>1.0</td>\n",
       "    </tr>\n",
       "  </tbody>\n",
       "</table>\n",
       "<p>964 rows × 9 columns</p>\n",
       "</div>"
      ],
      "text/plain": [
       "degree_separation         0         1         2         3         4         5  \\\n",
       "cedula_reference                                                                \n",
       "009e73ef341fa72b   0.007407  0.014815  0.051852  0.088889  0.192593  0.325926   \n",
       "00c37dae8329694b   0.009901  0.039604  0.079208  0.049505  0.128713  0.356436   \n",
       "01c609ff6fc0fdfb   0.014493  0.050725  0.057971  0.094203  0.181159  0.304348   \n",
       "01cbee5e94e52cfb   0.014286  0.050000  0.064286  0.114286  0.214286  0.278571   \n",
       "01f269103336f7a5   0.009615  0.009615  0.048077  0.076923  0.163462  0.355769   \n",
       "...                     ...       ...       ...       ...       ...       ...   \n",
       "ff0e91a4036f1fc5   0.006289  0.031447  0.075472  0.088050  0.163522  0.320755   \n",
       "ff10280a08707d94   0.008403  0.025210  0.042017  0.084034  0.193277  0.331933   \n",
       "ff1ce71c4b75ab52   0.006369  0.025478  0.044586  0.082803  0.165605  0.350318   \n",
       "ff82b7c9f408a3f3   0.008403  0.016807  0.042017  0.067227  0.176471  0.361345   \n",
       "ff91df0d1673026e   0.006711  0.013423  0.040268  0.100671  0.208054  0.322148   \n",
       "\n",
       "degree_separation         6  total  prop  \n",
       "cedula_reference                          \n",
       "009e73ef341fa72b   0.318519  135.0   1.0  \n",
       "00c37dae8329694b   0.336634  101.0   1.0  \n",
       "01c609ff6fc0fdfb   0.297101  138.0   1.0  \n",
       "01cbee5e94e52cfb   0.264286  140.0   1.0  \n",
       "01f269103336f7a5   0.336538  104.0   1.0  \n",
       "...                     ...    ...   ...  \n",
       "ff0e91a4036f1fc5   0.314465  159.0   1.0  \n",
       "ff10280a08707d94   0.315126  238.0   1.0  \n",
       "ff1ce71c4b75ab52   0.324841  157.0   1.0  \n",
       "ff82b7c9f408a3f3   0.327731  119.0   1.0  \n",
       "ff91df0d1673026e   0.308725  149.0   1.0  \n",
       "\n",
       "[964 rows x 9 columns]"
      ]
     },
     "execution_count": 231,
     "metadata": {},
     "output_type": "execute_result"
    }
   ],
   "source": [
    "base = density_relatives[density_relatives[5] > density_relatives[6]]\n",
    "print('Mean of total', base.total.mean())\n",
    "print('Max of total', base.total.max())\n",
    "base[base.total>100]"
   ]
  },
  {
   "attachments": {},
   "cell_type": "markdown",
   "metadata": {},
   "source": [
    "Comparison by proportion"
   ]
  },
  {
   "cell_type": "code",
   "execution_count": 242,
   "metadata": {},
   "outputs": [
    {
     "name": "stdout",
     "output_type": "stream",
     "text": [
      "Amount of owners without the six levels of consangunity:  17624\n",
      "The total amount of people 17889\n",
      "Mean total 4.848733858795908\n",
      "Max total 36.0\n"
     ]
    },
    {
     "data": {
      "text/html": [
       "<div>\n",
       "<style scoped>\n",
       "    .dataframe tbody tr th:only-of-type {\n",
       "        vertical-align: middle;\n",
       "    }\n",
       "\n",
       "    .dataframe tbody tr th {\n",
       "        vertical-align: top;\n",
       "    }\n",
       "\n",
       "    .dataframe thead th {\n",
       "        text-align: right;\n",
       "    }\n",
       "</style>\n",
       "<table border=\"1\" class=\"dataframe\">\n",
       "  <thead>\n",
       "    <tr style=\"text-align: right;\">\n",
       "      <th>degree_separation</th>\n",
       "      <th>0</th>\n",
       "      <th>1</th>\n",
       "      <th>2</th>\n",
       "      <th>3</th>\n",
       "      <th>4</th>\n",
       "      <th>5</th>\n",
       "      <th>6</th>\n",
       "      <th>total</th>\n",
       "      <th>prop</th>\n",
       "    </tr>\n",
       "    <tr>\n",
       "      <th>cedula_reference</th>\n",
       "      <th></th>\n",
       "      <th></th>\n",
       "      <th></th>\n",
       "      <th></th>\n",
       "      <th></th>\n",
       "      <th></th>\n",
       "      <th></th>\n",
       "      <th></th>\n",
       "      <th></th>\n",
       "    </tr>\n",
       "  </thead>\n",
       "  <tbody>\n",
       "    <tr>\n",
       "      <th>00039a9b6df8ffa8</th>\n",
       "      <td>0.500000</td>\n",
       "      <td>0.500000</td>\n",
       "      <td>NaN</td>\n",
       "      <td>NaN</td>\n",
       "      <td>NaN</td>\n",
       "      <td>NaN</td>\n",
       "      <td>NaN</td>\n",
       "      <td>4.0</td>\n",
       "      <td>NaN</td>\n",
       "    </tr>\n",
       "    <tr>\n",
       "      <th>0004799e37bfca76</th>\n",
       "      <td>0.333333</td>\n",
       "      <td>0.333333</td>\n",
       "      <td>0.333333</td>\n",
       "      <td>NaN</td>\n",
       "      <td>NaN</td>\n",
       "      <td>NaN</td>\n",
       "      <td>NaN</td>\n",
       "      <td>3.0</td>\n",
       "      <td>NaN</td>\n",
       "    </tr>\n",
       "    <tr>\n",
       "      <th>0004c0c41155a45e</th>\n",
       "      <td>0.333333</td>\n",
       "      <td>0.333333</td>\n",
       "      <td>0.333333</td>\n",
       "      <td>NaN</td>\n",
       "      <td>NaN</td>\n",
       "      <td>NaN</td>\n",
       "      <td>NaN</td>\n",
       "      <td>3.0</td>\n",
       "      <td>NaN</td>\n",
       "    </tr>\n",
       "    <tr>\n",
       "      <th>00087daac13e1562</th>\n",
       "      <td>0.250000</td>\n",
       "      <td>0.500000</td>\n",
       "      <td>0.250000</td>\n",
       "      <td>NaN</td>\n",
       "      <td>NaN</td>\n",
       "      <td>NaN</td>\n",
       "      <td>NaN</td>\n",
       "      <td>4.0</td>\n",
       "      <td>NaN</td>\n",
       "    </tr>\n",
       "    <tr>\n",
       "      <th>00116c6c51d97990</th>\n",
       "      <td>0.200000</td>\n",
       "      <td>0.500000</td>\n",
       "      <td>0.300000</td>\n",
       "      <td>NaN</td>\n",
       "      <td>NaN</td>\n",
       "      <td>NaN</td>\n",
       "      <td>NaN</td>\n",
       "      <td>10.0</td>\n",
       "      <td>NaN</td>\n",
       "    </tr>\n",
       "    <tr>\n",
       "      <th>...</th>\n",
       "      <td>...</td>\n",
       "      <td>...</td>\n",
       "      <td>...</td>\n",
       "      <td>...</td>\n",
       "      <td>...</td>\n",
       "      <td>...</td>\n",
       "      <td>...</td>\n",
       "      <td>...</td>\n",
       "      <td>...</td>\n",
       "    </tr>\n",
       "    <tr>\n",
       "      <th>fff700e4c56df11a</th>\n",
       "      <td>0.400000</td>\n",
       "      <td>0.600000</td>\n",
       "      <td>NaN</td>\n",
       "      <td>NaN</td>\n",
       "      <td>NaN</td>\n",
       "      <td>NaN</td>\n",
       "      <td>NaN</td>\n",
       "      <td>5.0</td>\n",
       "      <td>NaN</td>\n",
       "    </tr>\n",
       "    <tr>\n",
       "      <th>fff7080b558be2d9</th>\n",
       "      <td>0.500000</td>\n",
       "      <td>0.500000</td>\n",
       "      <td>NaN</td>\n",
       "      <td>NaN</td>\n",
       "      <td>NaN</td>\n",
       "      <td>NaN</td>\n",
       "      <td>NaN</td>\n",
       "      <td>4.0</td>\n",
       "      <td>NaN</td>\n",
       "    </tr>\n",
       "    <tr>\n",
       "      <th>fffa59d4ec2b7629</th>\n",
       "      <td>0.500000</td>\n",
       "      <td>0.500000</td>\n",
       "      <td>NaN</td>\n",
       "      <td>NaN</td>\n",
       "      <td>NaN</td>\n",
       "      <td>NaN</td>\n",
       "      <td>NaN</td>\n",
       "      <td>4.0</td>\n",
       "      <td>NaN</td>\n",
       "    </tr>\n",
       "    <tr>\n",
       "      <th>fffc37946d284d9d</th>\n",
       "      <td>0.086957</td>\n",
       "      <td>0.304348</td>\n",
       "      <td>0.086957</td>\n",
       "      <td>0.086957</td>\n",
       "      <td>0.043478</td>\n",
       "      <td>0.130435</td>\n",
       "      <td>0.26087</td>\n",
       "      <td>23.0</td>\n",
       "      <td>1.0</td>\n",
       "    </tr>\n",
       "    <tr>\n",
       "      <th>fffd8815aa6d5e1e</th>\n",
       "      <td>0.285714</td>\n",
       "      <td>0.714286</td>\n",
       "      <td>NaN</td>\n",
       "      <td>NaN</td>\n",
       "      <td>NaN</td>\n",
       "      <td>NaN</td>\n",
       "      <td>NaN</td>\n",
       "      <td>7.0</td>\n",
       "      <td>NaN</td>\n",
       "    </tr>\n",
       "  </tbody>\n",
       "</table>\n",
       "<p>17889 rows × 9 columns</p>\n",
       "</div>"
      ],
      "text/plain": [
       "degree_separation         0         1         2         3         4         5  \\\n",
       "cedula_reference                                                                \n",
       "00039a9b6df8ffa8   0.500000  0.500000       NaN       NaN       NaN       NaN   \n",
       "0004799e37bfca76   0.333333  0.333333  0.333333       NaN       NaN       NaN   \n",
       "0004c0c41155a45e   0.333333  0.333333  0.333333       NaN       NaN       NaN   \n",
       "00087daac13e1562   0.250000  0.500000  0.250000       NaN       NaN       NaN   \n",
       "00116c6c51d97990   0.200000  0.500000  0.300000       NaN       NaN       NaN   \n",
       "...                     ...       ...       ...       ...       ...       ...   \n",
       "fff700e4c56df11a   0.400000  0.600000       NaN       NaN       NaN       NaN   \n",
       "fff7080b558be2d9   0.500000  0.500000       NaN       NaN       NaN       NaN   \n",
       "fffa59d4ec2b7629   0.500000  0.500000       NaN       NaN       NaN       NaN   \n",
       "fffc37946d284d9d   0.086957  0.304348  0.086957  0.086957  0.043478  0.130435   \n",
       "fffd8815aa6d5e1e   0.285714  0.714286       NaN       NaN       NaN       NaN   \n",
       "\n",
       "degree_separation        6  total  prop  \n",
       "cedula_reference                         \n",
       "00039a9b6df8ffa8       NaN    4.0   NaN  \n",
       "0004799e37bfca76       NaN    3.0   NaN  \n",
       "0004c0c41155a45e       NaN    3.0   NaN  \n",
       "00087daac13e1562       NaN    4.0   NaN  \n",
       "00116c6c51d97990       NaN   10.0   NaN  \n",
       "...                    ...    ...   ...  \n",
       "fff700e4c56df11a       NaN    5.0   NaN  \n",
       "fff7080b558be2d9       NaN    4.0   NaN  \n",
       "fffa59d4ec2b7629       NaN    4.0   NaN  \n",
       "fffc37946d284d9d   0.26087   23.0   1.0  \n",
       "fffd8815aa6d5e1e       NaN    7.0   NaN  \n",
       "\n",
       "[17889 rows x 9 columns]"
      ]
     },
     "execution_count": 242,
     "metadata": {},
     "output_type": "execute_result"
    }
   ],
   "source": [
    "PROPORTION = 0.3\n",
    "base = density_relatives[density_relatives[1] > PROPORTION]\n",
    "len_1 = len(base)\n",
    "len_2 = len(base.dropna())\n",
    "print('Amount of owners without the six levels of consangunity: ', len_1 - len_2)\n",
    "print('The total amount of people', len_1)\n",
    "print('Mean total', base.total.mean())\n",
    "print('Max total', base.total.max())\n",
    "base[base.total>0.5]"
   ]
  },
  {
   "attachments": {},
   "cell_type": "markdown",
   "metadata": {},
   "source": [
    "Dropna analysis"
   ]
  },
  {
   "cell_type": "code",
   "execution_count": 244,
   "metadata": {},
   "outputs": [
    {
     "name": "stdout",
     "output_type": "stream",
     "text": [
      "Amount of owners 356852\n"
     ]
    }
   ],
   "source": [
    "print('Amount of owners', len(density_relatives))"
   ]
  },
  {
   "cell_type": "code",
   "execution_count": 246,
   "metadata": {},
   "outputs": [
    {
     "name": "stdout",
     "output_type": "stream",
     "text": [
      "Amount of owners with people in their six degrees of consanguinity 333041\n"
     ]
    }
   ],
   "source": [
    "dna_dr = density_relatives.dropna()\n",
    "print('Amount of owners with people in their six degrees of consanguinity', len(dna_dr))\n"
   ]
  },
  {
   "cell_type": "code",
   "execution_count": null,
   "metadata": {},
   "outputs": [],
   "source": []
  },
  {
   "cell_type": "code",
   "execution_count": null,
   "metadata": {},
   "outputs": [],
   "source": []
  }
 ],
 "metadata": {
  "kernelspec": {
   "display_name": "Python 3",
   "language": "python",
   "name": "python3"
  },
  "language_info": {
   "codemirror_mode": {
    "name": "ipython",
    "version": 3
   },
   "file_extension": ".py",
   "mimetype": "text/x-python",
   "name": "python",
   "nbconvert_exporter": "python",
   "pygments_lexer": "ipython3",
   "version": "3.6.8"
  },
  "orig_nbformat": 4,
  "vscode": {
   "interpreter": {
    "hash": "31f2aee4e71d21fbe5cf8b01ff0e069b9275f58929596ceb00d14d90e3e16cd6"
   }
  }
 },
 "nbformat": 4,
 "nbformat_minor": 2
}
